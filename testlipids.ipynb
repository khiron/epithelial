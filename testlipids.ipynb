{
 "cells": [
  {
   "cell_type": "markdown",
   "metadata": {},
   "source": [
    "# Testlipids\n",
    "\n",
    "> Utility classes for building a membrane system containing just one lipid species, compiling it and minimizing it\n",
    "\n",
    " Class **testlipids**(lipids[], membrane, insane, MD paramfile, Martini path,clean up temp path).**execute**(verbose).**report**()\n",
    "* lipids: list of lipid names\n",
    "* membrane: Name of the system\n",
    "* insane script to use (insane.py)\n",
    "* MD parameter file (test.mdp)\n",
    "* Martini path to the martini topology files\n",
    "* Clean up temp path (True/False)\n",
    "* verbose (True/False): determines whether to print a notification as each stage in the test is completed\n",
    "* report provide summary report of successful and unsuccessful species"
   ]
  },
  {
   "cell_type": "code",
   "execution_count": 22,
   "metadata": {},
   "outputs": [],
   "source": [
    "import os #Operating system specific commands\n",
    "#defaults\n",
    "defaultpath=\"/home/richard/projects/hNET_neuronal/\"\n",
    "defaultmdp = os.path.join(defaultpath,\"debug/test.mdp\")\n",
    "defaultmartini = os.path.join(defaultpath,\"debug/martini.ff\")\n",
    "defaultinsane = os.path.join(defaultpath,\"debug/insane2015.py\")\n",
    "\n",
    "#verify defaults exist\n",
    "if not os.path.isfile(defaultmdp): \n",
    "    print(\"WARNING: default MDP [{}] missing\".format(defaultmdp))\n",
    "if not os.path.isfile(defaultinsane): \n",
    "    print(\"WARNING: default insane [{}] missing\".format(defaultinsane))\n",
    "if not os.path.isdir(defaultmartini): \n",
    "    print(\"WARNING: default martini path [{}] missing\".format(defaultmartini))"
   ]
  },
  {
   "cell_type": "code",
   "execution_count": 23,
   "metadata": {},
   "outputs": [],
   "source": [
    "import os #Operating system specific commands\n",
    "class build:\n",
    "    def __init__(self,path,membrane,lipid,insane):\n",
    "        self.insane=os.path.abspath(insane)\n",
    "        self.path=path\n",
    "        self.membrane=membrane\n",
    "        self.lipid=lipid\n",
    "        self.success=False\n",
    "        self.summary =\"\"\n",
    "    def execute(self):\n",
    "        #filename for this lipid from this membrane\n",
    "        membranelipid = os.path.join(self.path,self.membrane+self.lipid)\n",
    "        NULL = !rm {membranelipid}.gro \n",
    "        self.summary = !python2 {self.insane} -o {membranelipid}.gro -p {membranelipid}.top -d 0 -x 27 -y 27 -z 15 -sol PW -salt 0.15 -center -u {self.lipid}:1  -l {self.lipid}:1 \n",
    "        self.success=os.path.isfile(membranelipid+'.gro')\n",
    "        return self        \n",
    "    def report(self,results):\n",
    "        if not self.success:\n",
    "            results.append([self.lipid,self.success,self.summary])\n",
    "        return self"
   ]
  },
  {
   "cell_type": "code",
   "execution_count": 24,
   "metadata": {},
   "outputs": [],
   "source": [
    "import re #Regular expression library\n",
    "class compile:\n",
    "    def __init__(self,path,membrane,lipid,mdfile,martinipath):\n",
    "        self.path=path\n",
    "        self.membrane=membrane\n",
    "        self.lipid=lipid\n",
    "        self.success=False\n",
    "        self.summary =\"\"\n",
    "        self.output=\"\"\n",
    "        self.mdfile=mdfile \n",
    "        self.martinipath=martinipath\n",
    "    def execute(self):\n",
    "        membranelipid = os.path.join(self.path,self.membrane+self.lipid)\n",
    "        \n",
    "        tempmartini = os.path.join(self.path,self.martinipath)\n",
    "        !cp -r {self.martinipath} {self.path}\n",
    "        self.output = !gmx grompp -f {self.mdfile}  -c {membranelipid}.gro -p {membranelipid}.top -o  {membranelipid}.tpr \n",
    "        #check for Fatal Error in output and emit subsequent lines to summary\n",
    "        error = []\n",
    "        fe = False\n",
    "        try:\n",
    "            for line in self.output:\n",
    "                if fe:\n",
    "                    error.append(line)\n",
    "                elif re.search(\"Fatal error\", line):\n",
    "                    fe = True\n",
    "                elif re.search(\"Error in user input\", line):\n",
    "                    fe = True\n",
    "        except IOError as exc:\n",
    "            self.success=False\n",
    "            self.summary=exc \n",
    "            results.append([self.lipid,False,exc])\n",
    "        finally:\n",
    "            if error:\n",
    "                self.success=False\n",
    "                self.summary=\" \".join(error)\n",
    "            else:\n",
    "                self.success=True\n",
    "        return self\n",
    "    def report(self,results):\n",
    "        if not self.success: \n",
    "            results.append([self.lipid,self.success,self.summary])\n",
    "        return self\n",
    "    def succeeded(self):\n",
    "        return self.success;"
   ]
  },
  {
   "cell_type": "code",
   "execution_count": 25,
   "metadata": {},
   "outputs": [],
   "source": [
    "import os #Operating system specific commands\n",
    "class minimize:\n",
    "    def __init__(self,path,membrane,lipid):\n",
    "        self.path=path\n",
    "        self.membrane=membrane\n",
    "        self.lipid=lipid\n",
    "        self.success=False\n",
    "        self.summary =\"\"\n",
    "    def execute(self):\n",
    "        membranelipid = os.path.join(self.path,self.membrane+self.lipid)\n",
    "        !export GMX_MAXCONSTRWARN=-1\n",
    "        !export GMX_SUPPRESS_DUMP=1\n",
    "        self.output = !gmx mdrun -v -deffnm {membranelipid} \n",
    "        logfile = membranelipid+\".log\"\n",
    "        if not os.path.exists(logfile):\n",
    "            self.sucess=False\n",
    "            self.summary=self.output\n",
    "        else:\n",
    "            try:\n",
    "                file = open(logfile, \"r\")\n",
    "                fe = False\n",
    "                for line in file:\n",
    "                    if fe:\n",
    "                        self.success=False\n",
    "                        self.summary=line\n",
    "                    elif re.search(\"^Steepest Descents.*converge\", line):\n",
    "                        self.success=True\n",
    "                        self.summary=line\n",
    "                        return self\n",
    "                    elif re.search(\"Fatal error\", line):\n",
    "                        fe = True\n",
    "            except IOError as exc:\n",
    "                self.sucess=False;\n",
    "                self.summary=exc;\n",
    "        return self\n",
    "    def report(self,results):\n",
    "        if not self.success:\n",
    "            results.append([self.lipid,self.success,self.summary])\n",
    "        return self"
   ]
  },
  {
   "cell_type": "code",
   "execution_count": 26,
   "metadata": {},
   "outputs": [],
   "source": [
    "import os #Operating system specific commands\n",
    "from colorama import Fore\n",
    "import time\n",
    "import tempfile\n",
    "import shutil\n",
    "\n",
    "class testlipids:\n",
    "    def __init__(self,lipids=None,membrane=\"\",insane=defaultinsane,testmdp=defaultmdp,martinipath=defaultmartini,deleteTMP=True):\n",
    "        if not lipids:\n",
    "            print(\"usage testlipids(lipid list, Membrane name, insane script, test params, martini topology path, delete temporary paths).execute(verbose).report()\")\n",
    "        self.lipids=lipids\n",
    "        self.membrane=membrane\n",
    "        self.insane=os.path.abspath(insane)\n",
    "        self.testmdp = os.path.abspath(testmdp)\n",
    "        self.martinipath = os.path.abspath(martinipath)\n",
    "        self.deleteTMP = deleteTMP\n",
    "        self.results = []    \n",
    "    def execute(self, verbose):\n",
    "        count=len(self.lipids)\n",
    "        startingdir = os.getcwd()\n",
    "        for lipid in self.lipids:\n",
    "            start = time.perf_counter()\n",
    "            if verbose:\n",
    "                print(\"[{}]testing lipid {} in membrane {}\".format(count,lipid,self.membrane), end='')\n",
    "            count=count-1\n",
    "            \n",
    "            try: \n",
    "                tmpdirname = tempfile.mkdtemp()\n",
    "                os.chdir(tmpdirname)\n",
    "                \n",
    "                #filename for this lipid from this membrane\n",
    "                membranelipid = os.path.join(tmpdirname,self.membrane+lipid)\n",
    "                # create structure\n",
    "                if verbose:\n",
    "                    print('...create', end='')\n",
    "\n",
    "                if not build(tmpdirname,self.membrane,lipid,self.insane).execute().report(self.results).success:\n",
    "                    if verbose:\n",
    "                        print(Fore.RED+'=[fail]'+Fore.BLACK, end='')\n",
    "                else:\n",
    "                    #Compile \n",
    "                    if verbose:\n",
    "                        print('...compile', end='')\n",
    "                    comp = compile(tmpdirname,self.membrane,lipid,self.testmdp, self.martinipath).execute().report(self.results);    \n",
    "                    if not comp.success:\n",
    "                        if verbose:\n",
    "                            print(Fore.RED+'=[fail]'+Fore.BLACK, end='')\n",
    "                    else:\n",
    "                        if verbose:\n",
    "                            print('...minimize', end='')\n",
    "                        if not minimize(tmpdirname,self.membrane,lipid).execute().report(self.results).success:\n",
    "                            if verbose:\n",
    "                                print(Fore.RED+'=[fail]'+Fore.BLACK, end='')\n",
    "                        else:\n",
    "                            self.results.append([lipid,True,\"\"])\n",
    "                            if verbose:\n",
    "                                print(Fore.GREEN+'=[success]'+Fore.BLACK, end='')\n",
    "                if verbose:\n",
    "                    print(\": %.2f secs\" % (time.perf_counter()-start))        \n",
    "            \n",
    "            finally:\n",
    "                if not self.deleteTMP:\n",
    "                    if verbose:\n",
    "                        print('path [{}]'.format(tmpdirname))\n",
    "                else:\n",
    "                    shutil.rmtree(tmpdirname)\n",
    "                os.chdir(startingdir)\n",
    "                pass\n",
    "        return self\n",
    "    def report(self):\n",
    "        sucesses=[]\n",
    "        failures=[]\n",
    "        reasons=[]\n",
    "        for result in self.results:\n",
    "            if result[1]:\n",
    "                sucesses.append(result[0])\n",
    "            else:\n",
    "                failures.append(result[0])\n",
    "                reasons.append(\"{}: {}\".format(result[0],result[2]))\n",
    "        print(\"\")\n",
    "        print(\"Insane:\"+self.insane)\n",
    "        print(Fore.GREEN+(\"Minimized {} lipids: \".format(len(sucesses)))+Fore.BLACK,end='')\n",
    "        print(sucesses)\n",
    "        print(Fore.RED+(\"Failed to minimize {} lipids: \".format(len(failures)))+Fore.BLACK)\n",
    "        print(failures)\n",
    "        print(\"Summaries of failed minimizations:\")\n",
    "        print(reasons)\n",
    "        return self"
   ]
  },
  {
   "cell_type": "markdown",
   "metadata": {},
   "source": [
    "# Classes for querying systems"
   ]
  },
  {
   "cell_type": "markdown",
   "metadata": {},
   "source": [
    "## extract a list of lipids from a fragment of an insane commandline\n",
    "\n",
    "call Lipidsfromcmdline() for usage"
   ]
  },
  {
   "cell_type": "code",
   "execution_count": 27,
   "metadata": {},
   "outputs": [],
   "source": [
    "def lipidsfromcmdline(cmdline=None):\n",
    "    if not cmdline:\n",
    "        print(\"Usage: lipidsfromcmdline(insane commandline fragment)\")\n",
    "        print(\"example: lipidsfromcmdline(' -u CHOL:0.444 -u POPC:0.087 ')\")\n",
    "    else:\n",
    "        lipids=[]\n",
    "        cmds=cmdline.split()\n",
    "        for cmd in cmds:\n",
    "            if \":\" in cmd:\n",
    "                lipids.append(cmd.split(\":\")[0])\n",
    "    return lipids"
   ]
  },
  {
   "cell_type": "markdown",
   "metadata": {},
   "source": [
    "## extract a list of lipids from a .gro or .pdb file\n",
    "\n",
    "call Lipidsfromsystem() for usage"
   ]
  },
  {
   "cell_type": "code",
   "execution_count": 28,
   "metadata": {},
   "outputs": [],
   "source": [
    "import os #Operating system specific commands\n",
    "\n",
    "#Exeception class for an imediate stop\n",
    "class StopExecution(Exception):\n",
    "    def _render_traceback_(self):\n",
    "        pass\n",
    "\n",
    "def lipidsfromsystem(systemfilename=None):\n",
    "    if not systemfilename:\n",
    "        print(\"Usage: lipidsfromsystem(.gro or .pdb filename)\")\n",
    "        print(\"example: lipidsfromsystem(hNET_neuronal)\")\n",
    "        print(\" If a .gro file exists that will be first converted into a .pdb\")\n",
    "    else:\n",
    "        # Generate list of lipid names from inputs\n",
    "        if os.path.isfile(systemfilename+'.gro'): # If the input is a .gro file ... convert it first into a pdb file\n",
    "            print(\"Converting \"+systemfilename+\".gro to a pdb file\")\n",
    "            output = !gmx editconf -f {systemfilename}.gro -o {systemfilename}.pdb\n",
    "        if os.path.isfile(systemfilename+'.pdb'): # If the input is a .pdb file ... extract all species not amino acids or solvent\n",
    "            print(\"using system specified in \"+systemfilename+\".pdb file\")\n",
    "            pdbfile = open(systemfilename+\".pdb\")\n",
    "            lipids=[]\n",
    "            AAs=[\"ASP\",\"GLY\",\"ALA\",\"GLN\",\"PRO\",\"ARG\",\"GLU\",\"THR\",\"TRP\",\"LYS\",\"ILE\",\"PHE\",\"SER\",\"VAL\",\"TYR\",\"CYS\",\"LEU\",\"MET\",\"ASN\",\"HIS\",]\n",
    "            solvent=[\"PW\",\"CL-\",\"NA+\"]\n",
    "            for line in pdbfile:\n",
    "                col = line.split() \n",
    "                if len(col)>1:\n",
    "                    atom= col[0]\n",
    "                    if atom.strip()==\"ATOM\":\n",
    "                        segment=col[3]\n",
    "                        if (segment not in AAs) and (segment not in solvent):\n",
    "                            if segment not in lipids: \n",
    "                                lipids.append(segment)\n",
    "        if not lipids:\n",
    "            print('No lipids specified')\n",
    "            raise StopExecution\n",
    "        else:\n",
    "            return lipids\n",
    "\n",
    "    "
   ]
  },
  {
   "cell_type": "markdown",
   "metadata": {},
   "source": [
    "### Class to query a .gro file to display all lipids that match lipids in array\n",
    "\n",
    "Usage: gro(tmpdirname,membrane,lipid[]).analyze().reportlipid()"
   ]
  },
  {
   "cell_type": "code",
   "execution_count": 29,
   "metadata": {},
   "outputs": [],
   "source": [
    "# class for querying a gro file\n",
    "import os\n",
    "import re\n",
    "from collections import defaultdict\n",
    "class gro:\n",
    "    def __init__(self,path,membrane,lipid):\n",
    "        self.path=path\n",
    "        self.membrane=membrane\n",
    "        self.lipid=lipid\n",
    "        self.file = open(os.path.join(self.path,self.membrane+self.lipid)+\".gro\",\"r\")\n",
    "        self.species=defaultdict(int)\n",
    "        self.sample=[]\n",
    "    def __del__(self):\n",
    "        self.file.close;\n",
    "    def analyze(self):\n",
    "        #load all rows with 6 split columns\n",
    "        self.file.readline()\n",
    "        self.file.readline()\n",
    "        samplemolecule=None\n",
    "        for line in self.file:\n",
    "            molecule = line[1:9].strip() \n",
    "            start=0\n",
    "            while start < len(molecule) and molecule[start] in \"0123456789.\":\n",
    "                start=start+1\n",
    "            moleculename = molecule[start:len(molecule)]\n",
    "            if moleculename:\n",
    "                self.species[moleculename]+= 1\n",
    "            if not samplemolecule:\n",
    "                if moleculename==self.lipid:\n",
    "                    samplemolecule=molecule\n",
    "            if molecule==samplemolecule:\n",
    "                self.sample.append([molecule,line])\n",
    "        return self\n",
    "    def reportlipid(self):\n",
    "        for line in self.sample:\n",
    "            print(line)\n",
    "        return self\n",
    "        "
   ]
  },
  {
   "cell_type": "code",
   "execution_count": 30,
   "metadata": {},
   "outputs": [],
   "source": [
    "import os\n",
    "class top:\n",
    "    def __init__(self,path,membrane,lipid):\n",
    "        self.path=path\n",
    "        self.membrane=membrane\n",
    "        self.lipid=lipid\n",
    "        self.file = open(os.path.join(self.path,self.membrane+self.lipid)+\".top\",\"r\")\n",
    "    def __del__(self):\n",
    "        self.file.close;\n",
    "    def analyze(self):\n",
    "        for line in self.file:\n",
    "            print(line)\n",
    "        return self\n"
   ]
  },
  {
   "cell_type": "markdown",
   "metadata": {},
   "source": [
    "# Tests \n",
    "\n",
    "> NB: these will only run when the notebook is loaded directly and run, they will not run when the notebook is loaded as a %run module from other notebooks"
   ]
  },
  {
   "cell_type": "markdown",
   "metadata": {},
   "source": [
    "## Test: testlipds\n",
    "\n",
    "Construct a membrane with CHOL and PAP3, using the version of insane that incorrectly builds PAP3, test each lipid in the system to minimization, and report errors in verbose mode, and do not clean up temp files so we can inspect files created"
   ]
  },
  {
   "cell_type": "code",
   "execution_count": 32,
   "metadata": {},
   "outputs": [
    {
     "name": "stdout",
     "output_type": "stream",
     "text": [
      "[2]testing lipid PAP3 in membrane hNET_neuronal...create...compile...minimize\u001b[31m=[fail]\u001b[30m: 5.77 secs\n",
      "path [/tmp/tmpzjne70x2]\n",
      "[1]testing lipid CHOL in membrane hNET_neuronal...create...compile...minimize\u001b[32m=[success]\u001b[30m: 34.43 secs\n",
      "path [/tmp/tmpwbxs0mo8]\n",
      "\n",
      "Insane:/home/richard/projects/hNET_neuronal/insane.py\n",
      "\u001b[32mMinimized 1 lipids: \u001b[30m['CHOL']\n",
      "\u001b[31mFailed to minimize 1 lipids: \u001b[30m\n",
      "['PAP3']\n",
      "Summaries of failed minimizations:\n",
      "['PAP3: -------------------------------------------------------\\n']\n"
     ]
    }
   ],
   "source": [
    "# the following code will not  run if the notebook is loaded as a %run library\n",
    "if __name__ == '__main__' and '__file__' not in globals():\n",
    "    testlipids([\"PAP3\",\"CHOL\"],\"hNET_neuronal\",\"../insane.py\",\"./test.mdp\",'./martini.ff',False).execute(True).report()"
   ]
  },
  {
   "cell_type": "markdown",
   "metadata": {},
   "source": [
    "## Test: testlipids() usage display"
   ]
  },
  {
   "cell_type": "code",
   "execution_count": 34,
   "metadata": {},
   "outputs": [
    {
     "name": "stdout",
     "output_type": "stream",
     "text": [
      "usage testlipids(lipid list, Membrane name, insane script, test params, martini topology path, delete temporary paths).execute(verbose).report()\n"
     ]
    }
   ],
   "source": [
    "# the following code will not  run if the notebook is loaded as a %run library\n",
    "if __name__ == '__main__' and '__file__' not in globals():\n",
    "    testlipids()"
   ]
  },
  {
   "cell_type": "markdown",
   "metadata": {},
   "source": [
    "## Test: testlipds\n",
    "\n",
    "Construct a membrane with CHOL and POPC, using the default version of insane, test each lipid in the system to minimization, and report errors in verbose mode, and clean up temp files"
   ]
  },
  {
   "cell_type": "code",
   "execution_count": 35,
   "metadata": {},
   "outputs": [
    {
     "name": "stdout",
     "output_type": "stream",
     "text": [
      "[2]testing lipid CHOL in membrane ...create...compile...minimize\u001b[32m=[success]\u001b[30m: 32.34 secs\n",
      "[1]testing lipid POPC in membrane ...create...compile...minimize\u001b[32m=[success]\u001b[30m: 13.70 secs\n",
      "\n",
      "Insane:/home/richard/projects/hNET_neuronal/debug/insane2015.py\n",
      "\u001b[32mMinimized 2 lipids: \u001b[30m['CHOL', 'POPC']\n",
      "\u001b[31mFailed to minimize 0 lipids: \u001b[30m\n",
      "[]\n",
      "Summaries of failed minimizations:\n",
      "[]\n"
     ]
    }
   ],
   "source": [
    "# the following code will not  run if the notebook is loaded as a %run library\n",
    "if __name__ == '__main__' and '__file__' not in globals():\n",
    "    testlipids(lipidsfromcmdline(\"-u CHOL:0.444 -u POPC:0.087\")).execute(True).report()"
   ]
  },
  {
   "cell_type": "markdown",
   "metadata": {},
   "source": [
    "## Test: testlipds from a system\n",
    "\n",
    "Extract lipids from a broken system, and create a membrane created for each species, using the default version of insane, test each lipid in the system to minimization, and report errors in verbose mode, and clean up temp files"
   ]
  },
  {
   "cell_type": "code",
   "execution_count": 20,
   "metadata": {},
   "outputs": [
    {
     "name": "stdout",
     "output_type": "stream",
     "text": [
      "Converting /home/richard/Desktop/projects/hNET_neuronal/debug/hNET_neuronal.gro to a pdb file\n",
      "using system specified in /home/richard/Desktop/projects/hNET_neuronal/debug/hNET_neuronal.pdb file\n",
      "['CHOL', 'POPC', 'DPSM', 'DPPC', 'PUPE', 'DPGS', 'PAPC', 'PAPE', 'DOPC', 'PUPC', 'POPE', 'PNSM', 'PBSM', 'PNGS', 'DPG1', 'DPG3', 'DBGS', 'OAPE', 'OUPE', 'POSM', 'PFPC', 'OIPC', 'POGS', 'OUPC', 'DPCE', 'PADG', 'DBG1', 'PNG1', 'DBG3', 'PNG3', 'PPC', 'OIPE', 'POG1', 'POG3', 'DBCE', 'PNCE', 'IPC', 'PPE', 'IPE', 'PODG', 'PUPS', 'PAPS', 'POPS', 'PUPI', 'POPI', 'PAPI', 'OUPS', 'DPPS', 'PIPI', 'PAPA', 'POP1', 'POP2', 'POP3', 'POPA']\n",
      "[54]testing lipid CHOL in membrane ...create...compile...minimize\u001b[32m=[success]\u001b[30m: 12.26 secs\n",
      "[53]testing lipid POPC in membrane ...create...compile...minimize\u001b[32m=[success]\u001b[30m: 5.53 secs\n",
      "[52]testing lipid DPSM in membrane ...create...compile...minimize\u001b[32m=[success]\u001b[30m: 6.48 secs\n",
      "[51]testing lipid DPPC in membrane ...create...compile...minimize\u001b[32m=[success]\u001b[30m: 5.64 secs\n",
      "[50]testing lipid PUPE in membrane ...create\u001b[31m=[fail]\u001b[30m: 0.08 secs\n",
      "[49]testing lipid DPGS in membrane ...create...compile\u001b[31m=[fail]\u001b[30m: 1.81 secs\n",
      "[48]testing lipid PAPC in membrane ...create\u001b[31m=[fail]\u001b[30m: 0.05 secs\n",
      "[47]testing lipid PAPE in membrane ...create\u001b[31m=[fail]\u001b[30m: 0.05 secs\n",
      "[46]testing lipid DOPC in membrane ...create...compile...minimize\u001b[32m=[success]\u001b[30m: 5.58 secs\n",
      "[45]testing lipid PUPC in membrane ...create\u001b[31m=[fail]\u001b[30m: 0.09 secs\n",
      "[44]testing lipid POPE in membrane ...create...compile...minimize\u001b[32m=[success]\u001b[30m: 5.57 secs\n",
      "[43]testing lipid PNSM in membrane ...create\u001b[31m=[fail]\u001b[30m: 0.09 secs\n",
      "[42]testing lipid PBSM in membrane ...create\u001b[31m=[fail]\u001b[30m: 0.06 secs\n",
      "[41]testing lipid PNGS in membrane ...create\u001b[31m=[fail]\u001b[30m: 0.05 secs\n",
      "[40]testing lipid DPG1 in membrane ...create...compile...minimize\u001b[32m=[success]\u001b[30m: 4.01 secs\n",
      "[39]testing lipid DPG3 in membrane ...create...compile...minimize\u001b[32m=[success]\u001b[30m: 3.75 secs\n",
      "[38]testing lipid DBGS in membrane ...create\u001b[31m=[fail]\u001b[30m: 0.11 secs\n",
      "[37]testing lipid OAPE in membrane ...create\u001b[31m=[fail]\u001b[30m: 0.05 secs\n",
      "[36]testing lipid OUPE in membrane ...create\u001b[31m=[fail]\u001b[30m: 0.05 secs\n",
      "[35]testing lipid POSM in membrane ...create\u001b[31m=[fail]\u001b[30m: 0.05 secs\n",
      "[34]testing lipid PFPC in membrane ...create\u001b[31m=[fail]\u001b[30m: 0.05 secs\n",
      "[33]testing lipid OIPC in membrane ...create\u001b[31m=[fail]\u001b[30m: 0.05 secs\n",
      "[32]testing lipid POGS in membrane ...create\u001b[31m=[fail]\u001b[30m: 0.05 secs\n",
      "[31]testing lipid OUPC in membrane ...create\u001b[31m=[fail]\u001b[30m: 0.05 secs\n",
      "[30]testing lipid DPCE in membrane ...create...compile...minimize\u001b[32m=[success]\u001b[30m: 7.61 secs\n",
      "[29]testing lipid PADG in membrane ...create\u001b[31m=[fail]\u001b[30m: 0.06 secs\n",
      "[28]testing lipid DBG1 in membrane ...create\u001b[31m=[fail]\u001b[30m: 0.06 secs\n",
      "[27]testing lipid PNG1 in membrane ...create...compile\u001b[31m=[fail]\u001b[30m: 2.44 secs\n",
      "[26]testing lipid DBG3 in membrane ...create\u001b[31m=[fail]\u001b[30m: 0.05 secs\n",
      "[25]testing lipid PNG3 in membrane ...create...compile\u001b[31m=[fail]\u001b[30m: 2.14 secs\n",
      "[24]testing lipid PPC in membrane ...create\u001b[31m=[fail]\u001b[30m: 0.05 secs\n",
      "[23]testing lipid OIPE in membrane ...create\u001b[31m=[fail]\u001b[30m: 0.05 secs\n",
      "[22]testing lipid POG1 in membrane ...create\u001b[31m=[fail]\u001b[30m: 0.05 secs\n",
      "[21]testing lipid POG3 in membrane ...create\u001b[31m=[fail]\u001b[30m: 0.05 secs\n",
      "[20]testing lipid DBCE in membrane ...create\u001b[31m=[fail]\u001b[30m: 0.05 secs\n",
      "[19]testing lipid PNCE in membrane ...create\u001b[31m=[fail]\u001b[30m: 0.05 secs\n",
      "[18]testing lipid IPC in membrane ...create\u001b[31m=[fail]\u001b[30m: 0.05 secs\n",
      "[17]testing lipid PPE in membrane ...create\u001b[31m=[fail]\u001b[30m: 0.05 secs\n",
      "[16]testing lipid IPE in membrane ...create\u001b[31m=[fail]\u001b[30m: 0.05 secs\n",
      "[15]testing lipid PODG in membrane ...create\u001b[31m=[fail]\u001b[30m: 0.05 secs\n",
      "[14]testing lipid PUPS in membrane ...create\u001b[31m=[fail]\u001b[30m: 0.05 secs\n",
      "[13]testing lipid PAPS in membrane ...create\u001b[31m=[fail]\u001b[30m: 0.05 secs\n",
      "[12]testing lipid POPS in membrane ...create...compile\u001b[31m=[fail]\u001b[30m: 1.91 secs\n",
      "[11]testing lipid PUPI in membrane ...create...compile\u001b[31m=[fail]\u001b[30m: 2.03 secs\n",
      "[10]testing lipid POPI in membrane ...create...compile\u001b[31m=[fail]\u001b[30m: 2.03 secs\n",
      "[9]testing lipid PAPI in membrane ...create...compile\u001b[31m=[fail]\u001b[30m: 2.04 secs\n",
      "[8]testing lipid OUPS in membrane ...create\u001b[31m=[fail]\u001b[30m: 0.05 secs\n",
      "[7]testing lipid DPPS in membrane ...create\u001b[31m=[fail]\u001b[30m: 0.05 secs\n",
      "[6]testing lipid PIPI in membrane ...create...compile\u001b[31m=[fail]\u001b[30m: 2.06 secs\n",
      "[5]testing lipid PAPA in membrane ...create\u001b[31m=[fail]\u001b[30m: 0.05 secs\n",
      "[4]testing lipid POP1 in membrane ...create...compile\u001b[31m=[fail]\u001b[30m: 2.04 secs\n",
      "[3]testing lipid POP2 in membrane ...create...compile\u001b[31m=[fail]\u001b[30m: 2.10 secs\n",
      "[2]testing lipid POP3 in membrane ...create...compile\u001b[31m=[fail]\u001b[30m: 2.15 secs\n",
      "[1]testing lipid POPA in membrane ...create\u001b[31m=[fail]\u001b[30m: 0.05 secs\n",
      "\n",
      "Insane:/home/richard/Desktop/projects/hNET_neuronal/debug/insane2015.py\n",
      "\u001b[32mMinimized 9 lipids: \u001b[30m['CHOL', 'POPC', 'DPSM', 'DPPC', 'DOPC', 'POPE', 'DPG1', 'DPG3', 'DPCE']\n",
      "\u001b[31mFailed to minimize 45 lipids: \u001b[30m\n",
      "['PUPE', 'DPGS', 'PAPC', 'PAPE', 'PUPC', 'PNSM', 'PBSM', 'PNGS', 'DBGS', 'OAPE', 'OUPE', 'POSM', 'PFPC', 'OIPC', 'POGS', 'OUPC', 'PADG', 'DBG1', 'PNG1', 'DBG3', 'PNG3', 'PPC', 'OIPE', 'POG1', 'POG3', 'DBCE', 'PNCE', 'IPC', 'PPE', 'IPE', 'PODG', 'PUPS', 'PAPS', 'POPS', 'PUPI', 'POPI', 'PAPI', 'OUPS', 'DPPS', 'PIPI', 'PAPA', 'POP1', 'POP2', 'POP3', 'POPA']\n",
      "Summaries of failed minimizations:\n",
      "['PUPE: [\\'; X: 27.000 (35 bins) Y: 27.000 (35 bins) in upper leaflet\\', \\'; X: 27.000 (35 bins) Y: 27.000 (35 bins) in lower leaflet\\', \\'; 1225 lipids in upper leaflet, 1225 lipids in lower leaflet\\', \\'Traceback (most recent call last):\\', \\'  File \"/home/richard/Desktop/projects/hNET_neuronal/debug/insane2015.py\", line 1397, in <module>\\', \\'    atoms    = zip(lipidsa[lipid][1].split(),lipidsx[lipidsa[lipid][0]],lipidsy[lipidsa[lipid][0]],lipidsz[lipidsa[lipid][0]])\\', \"KeyError: \\'PUPE\\'\"]', 'DPGS: number of coordinates in coordinate file (/tmp/tmpybkprho5/DPGS.gro, 209823)              does not match topology (/tmp/tmpybkprho5/DPGS.top, 212273)  For more information and tips for troubleshooting, please check the GROMACS website at http://www.gromacs.org/Documentation/Errors -------------------------------------------------------', 'PAPC: [\\'; X: 27.000 (35 bins) Y: 27.000 (35 bins) in upper leaflet\\', \\'; X: 27.000 (35 bins) Y: 27.000 (35 bins) in lower leaflet\\', \\'; 1225 lipids in upper leaflet, 1225 lipids in lower leaflet\\', \\'Traceback (most recent call last):\\', \\'  File \"/home/richard/Desktop/projects/hNET_neuronal/debug/insane2015.py\", line 1397, in <module>\\', \\'    atoms    = zip(lipidsa[lipid][1].split(),lipidsx[lipidsa[lipid][0]],lipidsy[lipidsa[lipid][0]],lipidsz[lipidsa[lipid][0]])\\', \"KeyError: \\'PAPC\\'\"]', 'PAPE: [\\'; X: 27.000 (35 bins) Y: 27.000 (35 bins) in upper leaflet\\', \\'; X: 27.000 (35 bins) Y: 27.000 (35 bins) in lower leaflet\\', \\'; 1225 lipids in upper leaflet, 1225 lipids in lower leaflet\\', \\'Traceback (most recent call last):\\', \\'  File \"/home/richard/Desktop/projects/hNET_neuronal/debug/insane2015.py\", line 1397, in <module>\\', \\'    atoms    = zip(lipidsa[lipid][1].split(),lipidsx[lipidsa[lipid][0]],lipidsy[lipidsa[lipid][0]],lipidsz[lipidsa[lipid][0]])\\', \"KeyError: \\'PAPE\\'\"]', 'PUPC: [\\'; X: 27.000 (35 bins) Y: 27.000 (35 bins) in upper leaflet\\', \\'; X: 27.000 (35 bins) Y: 27.000 (35 bins) in lower leaflet\\', \\'; 1225 lipids in upper leaflet, 1225 lipids in lower leaflet\\', \\'Traceback (most recent call last):\\', \\'  File \"/home/richard/Desktop/projects/hNET_neuronal/debug/insane2015.py\", line 1397, in <module>\\', \\'    atoms    = zip(lipidsa[lipid][1].split(),lipidsx[lipidsa[lipid][0]],lipidsy[lipidsa[lipid][0]],lipidsz[lipidsa[lipid][0]])\\', \"KeyError: \\'PUPC\\'\"]', 'PNSM: [\\'; X: 27.000 (35 bins) Y: 27.000 (35 bins) in upper leaflet\\', \\'; X: 27.000 (35 bins) Y: 27.000 (35 bins) in lower leaflet\\', \\'; 1225 lipids in upper leaflet, 1225 lipids in lower leaflet\\', \\'Traceback (most recent call last):\\', \\'  File \"/home/richard/Desktop/projects/hNET_neuronal/debug/insane2015.py\", line 1397, in <module>\\', \\'    atoms    = zip(lipidsa[lipid][1].split(),lipidsx[lipidsa[lipid][0]],lipidsy[lipidsa[lipid][0]],lipidsz[lipidsa[lipid][0]])\\', \"KeyError: \\'PNSM\\'\"]', 'PBSM: [\\'; X: 27.000 (35 bins) Y: 27.000 (35 bins) in upper leaflet\\', \\'; X: 27.000 (35 bins) Y: 27.000 (35 bins) in lower leaflet\\', \\'; 1225 lipids in upper leaflet, 1225 lipids in lower leaflet\\', \\'Traceback (most recent call last):\\', \\'  File \"/home/richard/Desktop/projects/hNET_neuronal/debug/insane2015.py\", line 1397, in <module>\\', \\'    atoms    = zip(lipidsa[lipid][1].split(),lipidsx[lipidsa[lipid][0]],lipidsy[lipidsa[lipid][0]],lipidsz[lipidsa[lipid][0]])\\', \"KeyError: \\'PBSM\\'\"]', 'PNGS: [\\'; X: 27.000 (35 bins) Y: 27.000 (35 bins) in upper leaflet\\', \\'; X: 27.000 (35 bins) Y: 27.000 (35 bins) in lower leaflet\\', \\'; 1225 lipids in upper leaflet, 1225 lipids in lower leaflet\\', \\'Traceback (most recent call last):\\', \\'  File \"/home/richard/Desktop/projects/hNET_neuronal/debug/insane2015.py\", line 1397, in <module>\\', \\'    atoms    = zip(lipidsa[lipid][1].split(),lipidsx[lipidsa[lipid][0]],lipidsy[lipidsa[lipid][0]],lipidsz[lipidsa[lipid][0]])\\', \"KeyError: \\'PNGS\\'\"]', 'DBGS: [\\'; X: 27.000 (35 bins) Y: 27.000 (35 bins) in upper leaflet\\', \\'; X: 27.000 (35 bins) Y: 27.000 (35 bins) in lower leaflet\\', \\'; 1225 lipids in upper leaflet, 1225 lipids in lower leaflet\\', \\'Traceback (most recent call last):\\', \\'  File \"/home/richard/Desktop/projects/hNET_neuronal/debug/insane2015.py\", line 1397, in <module>\\', \\'    atoms    = zip(lipidsa[lipid][1].split(),lipidsx[lipidsa[lipid][0]],lipidsy[lipidsa[lipid][0]],lipidsz[lipidsa[lipid][0]])\\', \"KeyError: \\'DBGS\\'\"]', 'OAPE: [\\'; X: 27.000 (35 bins) Y: 27.000 (35 bins) in upper leaflet\\', \\'; X: 27.000 (35 bins) Y: 27.000 (35 bins) in lower leaflet\\', \\'; 1225 lipids in upper leaflet, 1225 lipids in lower leaflet\\', \\'Traceback (most recent call last):\\', \\'  File \"/home/richard/Desktop/projects/hNET_neuronal/debug/insane2015.py\", line 1397, in <module>\\', \\'    atoms    = zip(lipidsa[lipid][1].split(),lipidsx[lipidsa[lipid][0]],lipidsy[lipidsa[lipid][0]],lipidsz[lipidsa[lipid][0]])\\', \"KeyError: \\'OAPE\\'\"]', 'OUPE: [\\'; X: 27.000 (35 bins) Y: 27.000 (35 bins) in upper leaflet\\', \\'; X: 27.000 (35 bins) Y: 27.000 (35 bins) in lower leaflet\\', \\'; 1225 lipids in upper leaflet, 1225 lipids in lower leaflet\\', \\'Traceback (most recent call last):\\', \\'  File \"/home/richard/Desktop/projects/hNET_neuronal/debug/insane2015.py\", line 1397, in <module>\\', \\'    atoms    = zip(lipidsa[lipid][1].split(),lipidsx[lipidsa[lipid][0]],lipidsy[lipidsa[lipid][0]],lipidsz[lipidsa[lipid][0]])\\', \"KeyError: \\'OUPE\\'\"]', 'POSM: [\\'; X: 27.000 (35 bins) Y: 27.000 (35 bins) in upper leaflet\\', \\'; X: 27.000 (35 bins) Y: 27.000 (35 bins) in lower leaflet\\', \\'; 1225 lipids in upper leaflet, 1225 lipids in lower leaflet\\', \\'Traceback (most recent call last):\\', \\'  File \"/home/richard/Desktop/projects/hNET_neuronal/debug/insane2015.py\", line 1397, in <module>\\', \\'    atoms    = zip(lipidsa[lipid][1].split(),lipidsx[lipidsa[lipid][0]],lipidsy[lipidsa[lipid][0]],lipidsz[lipidsa[lipid][0]])\\', \"KeyError: \\'POSM\\'\"]', 'PFPC: [\\'; X: 27.000 (35 bins) Y: 27.000 (35 bins) in upper leaflet\\', \\'; X: 27.000 (35 bins) Y: 27.000 (35 bins) in lower leaflet\\', \\'; 1225 lipids in upper leaflet, 1225 lipids in lower leaflet\\', \\'Traceback (most recent call last):\\', \\'  File \"/home/richard/Desktop/projects/hNET_neuronal/debug/insane2015.py\", line 1397, in <module>\\', \\'    atoms    = zip(lipidsa[lipid][1].split(),lipidsx[lipidsa[lipid][0]],lipidsy[lipidsa[lipid][0]],lipidsz[lipidsa[lipid][0]])\\', \"KeyError: \\'PFPC\\'\"]', 'OIPC: [\\'; X: 27.000 (35 bins) Y: 27.000 (35 bins) in upper leaflet\\', \\'; X: 27.000 (35 bins) Y: 27.000 (35 bins) in lower leaflet\\', \\'; 1225 lipids in upper leaflet, 1225 lipids in lower leaflet\\', \\'Traceback (most recent call last):\\', \\'  File \"/home/richard/Desktop/projects/hNET_neuronal/debug/insane2015.py\", line 1397, in <module>\\', \\'    atoms    = zip(lipidsa[lipid][1].split(),lipidsx[lipidsa[lipid][0]],lipidsy[lipidsa[lipid][0]],lipidsz[lipidsa[lipid][0]])\\', \"KeyError: \\'OIPC\\'\"]', 'POGS: [\\'; X: 27.000 (35 bins) Y: 27.000 (35 bins) in upper leaflet\\', \\'; X: 27.000 (35 bins) Y: 27.000 (35 bins) in lower leaflet\\', \\'; 1225 lipids in upper leaflet, 1225 lipids in lower leaflet\\', \\'Traceback (most recent call last):\\', \\'  File \"/home/richard/Desktop/projects/hNET_neuronal/debug/insane2015.py\", line 1397, in <module>\\', \\'    atoms    = zip(lipidsa[lipid][1].split(),lipidsx[lipidsa[lipid][0]],lipidsy[lipidsa[lipid][0]],lipidsz[lipidsa[lipid][0]])\\', \"KeyError: \\'POGS\\'\"]', 'OUPC: [\\'; X: 27.000 (35 bins) Y: 27.000 (35 bins) in upper leaflet\\', \\'; X: 27.000 (35 bins) Y: 27.000 (35 bins) in lower leaflet\\', \\'; 1225 lipids in upper leaflet, 1225 lipids in lower leaflet\\', \\'Traceback (most recent call last):\\', \\'  File \"/home/richard/Desktop/projects/hNET_neuronal/debug/insane2015.py\", line 1397, in <module>\\', \\'    atoms    = zip(lipidsa[lipid][1].split(),lipidsx[lipidsa[lipid][0]],lipidsy[lipidsa[lipid][0]],lipidsz[lipidsa[lipid][0]])\\', \"KeyError: \\'OUPC\\'\"]', 'PADG: [\\'; X: 27.000 (35 bins) Y: 27.000 (35 bins) in upper leaflet\\', \\'; X: 27.000 (35 bins) Y: 27.000 (35 bins) in lower leaflet\\', \\'; 1225 lipids in upper leaflet, 1225 lipids in lower leaflet\\', \\'Traceback (most recent call last):\\', \\'  File \"/home/richard/Desktop/projects/hNET_neuronal/debug/insane2015.py\", line 1397, in <module>\\', \\'    atoms    = zip(lipidsa[lipid][1].split(),lipidsx[lipidsa[lipid][0]],lipidsy[lipidsa[lipid][0]],lipidsz[lipidsa[lipid][0]])\\', \"KeyError: \\'PADG\\'\"]', 'DBG1: [\\'; X: 27.000 (35 bins) Y: 27.000 (35 bins) in upper leaflet\\', \\'; X: 27.000 (35 bins) Y: 27.000 (35 bins) in lower leaflet\\', \\'; 1225 lipids in upper leaflet, 1225 lipids in lower leaflet\\', \\'Traceback (most recent call last):\\', \\'  File \"/home/richard/Desktop/projects/hNET_neuronal/debug/insane2015.py\", line 1397, in <module>\\', \\'    atoms    = zip(lipidsa[lipid][1].split(),lipidsx[lipidsa[lipid][0]],lipidsy[lipidsa[lipid][0]],lipidsz[lipidsa[lipid][0]])\\', \"KeyError: \\'DBG1\\'\"]', 'PNG1: number of coordinates in coordinate file (/tmp/tmpbqvyinkf/PNG1.gro, 171042)              does not match topology (/tmp/tmpbqvyinkf/PNG1.top, 175942)  For more information and tips for troubleshooting, please check the GROMACS website at http://www.gromacs.org/Documentation/Errors -------------------------------------------------------', 'DBG3: [\\'; X: 27.000 (35 bins) Y: 27.000 (35 bins) in upper leaflet\\', \\'; X: 27.000 (35 bins) Y: 27.000 (35 bins) in lower leaflet\\', \\'; 1225 lipids in upper leaflet, 1225 lipids in lower leaflet\\', \\'Traceback (most recent call last):\\', \\'  File \"/home/richard/Desktop/projects/hNET_neuronal/debug/insane2015.py\", line 1397, in <module>\\', \\'    atoms    = zip(lipidsa[lipid][1].split(),lipidsx[lipidsa[lipid][0]],lipidsy[lipidsa[lipid][0]],lipidsz[lipidsa[lipid][0]])\\', \"KeyError: \\'DBG3\\'\"]', 'PNG3: number of coordinates in coordinate file (/tmp/tmp261qjab9/PNG3.gro, 178183)              does not match topology (/tmp/tmp261qjab9/PNG3.top, 183083)  For more information and tips for troubleshooting, please check the GROMACS website at http://www.gromacs.org/Documentation/Errors -------------------------------------------------------', 'PPC: [\\'; X: 27.000 (35 bins) Y: 27.000 (35 bins) in upper leaflet\\', \\'; X: 27.000 (35 bins) Y: 27.000 (35 bins) in lower leaflet\\', \\'; 1225 lipids in upper leaflet, 1225 lipids in lower leaflet\\', \\'Traceback (most recent call last):\\', \\'  File \"/home/richard/Desktop/projects/hNET_neuronal/debug/insane2015.py\", line 1397, in <module>\\', \\'    atoms    = zip(lipidsa[lipid][1].split(),lipidsx[lipidsa[lipid][0]],lipidsy[lipidsa[lipid][0]],lipidsz[lipidsa[lipid][0]])\\', \"KeyError: \\'PPC\\'\"]', 'OIPE: [\\'; X: 27.000 (35 bins) Y: 27.000 (35 bins) in upper leaflet\\', \\'; X: 27.000 (35 bins) Y: 27.000 (35 bins) in lower leaflet\\', \\'; 1225 lipids in upper leaflet, 1225 lipids in lower leaflet\\', \\'Traceback (most recent call last):\\', \\'  File \"/home/richard/Desktop/projects/hNET_neuronal/debug/insane2015.py\", line 1397, in <module>\\', \\'    atoms    = zip(lipidsa[lipid][1].split(),lipidsx[lipidsa[lipid][0]],lipidsy[lipidsa[lipid][0]],lipidsz[lipidsa[lipid][0]])\\', \"KeyError: \\'OIPE\\'\"]', 'POG1: [\\'; X: 27.000 (35 bins) Y: 27.000 (35 bins) in upper leaflet\\', \\'; X: 27.000 (35 bins) Y: 27.000 (35 bins) in lower leaflet\\', \\'; 1225 lipids in upper leaflet, 1225 lipids in lower leaflet\\', \\'Traceback (most recent call last):\\', \\'  File \"/home/richard/Desktop/projects/hNET_neuronal/debug/insane2015.py\", line 1397, in <module>\\', \\'    atoms    = zip(lipidsa[lipid][1].split(),lipidsx[lipidsa[lipid][0]],lipidsy[lipidsa[lipid][0]],lipidsz[lipidsa[lipid][0]])\\', \"KeyError: \\'POG1\\'\"]', 'POG3: [\\'; X: 27.000 (35 bins) Y: 27.000 (35 bins) in upper leaflet\\', \\'; X: 27.000 (35 bins) Y: 27.000 (35 bins) in lower leaflet\\', \\'; 1225 lipids in upper leaflet, 1225 lipids in lower leaflet\\', \\'Traceback (most recent call last):\\', \\'  File \"/home/richard/Desktop/projects/hNET_neuronal/debug/insane2015.py\", line 1397, in <module>\\', \\'    atoms    = zip(lipidsa[lipid][1].split(),lipidsx[lipidsa[lipid][0]],lipidsy[lipidsa[lipid][0]],lipidsz[lipidsa[lipid][0]])\\', \"KeyError: \\'POG3\\'\"]', 'DBCE: [\\'; X: 27.000 (35 bins) Y: 27.000 (35 bins) in upper leaflet\\', \\'; X: 27.000 (35 bins) Y: 27.000 (35 bins) in lower leaflet\\', \\'; 1225 lipids in upper leaflet, 1225 lipids in lower leaflet\\', \\'Traceback (most recent call last):\\', \\'  File \"/home/richard/Desktop/projects/hNET_neuronal/debug/insane2015.py\", line 1397, in <module>\\', \\'    atoms    = zip(lipidsa[lipid][1].split(),lipidsx[lipidsa[lipid][0]],lipidsy[lipidsa[lipid][0]],lipidsz[lipidsa[lipid][0]])\\', \"KeyError: \\'DBCE\\'\"]', 'PNCE: [\\'; X: 27.000 (35 bins) Y: 27.000 (35 bins) in upper leaflet\\', \\'; X: 27.000 (35 bins) Y: 27.000 (35 bins) in lower leaflet\\', \\'; 1225 lipids in upper leaflet, 1225 lipids in lower leaflet\\', \\'Traceback (most recent call last):\\', \\'  File \"/home/richard/Desktop/projects/hNET_neuronal/debug/insane2015.py\", line 1397, in <module>\\', \\'    atoms    = zip(lipidsa[lipid][1].split(),lipidsx[lipidsa[lipid][0]],lipidsy[lipidsa[lipid][0]],lipidsz[lipidsa[lipid][0]])\\', \"KeyError: \\'PNCE\\'\"]', 'IPC: [\\'; X: 27.000 (35 bins) Y: 27.000 (35 bins) in upper leaflet\\', \\'; X: 27.000 (35 bins) Y: 27.000 (35 bins) in lower leaflet\\', \\'; 1225 lipids in upper leaflet, 1225 lipids in lower leaflet\\', \\'Traceback (most recent call last):\\', \\'  File \"/home/richard/Desktop/projects/hNET_neuronal/debug/insane2015.py\", line 1397, in <module>\\', \\'    atoms    = zip(lipidsa[lipid][1].split(),lipidsx[lipidsa[lipid][0]],lipidsy[lipidsa[lipid][0]],lipidsz[lipidsa[lipid][0]])\\', \"KeyError: \\'IPC\\'\"]', 'PPE: [\\'; X: 27.000 (35 bins) Y: 27.000 (35 bins) in upper leaflet\\', \\'; X: 27.000 (35 bins) Y: 27.000 (35 bins) in lower leaflet\\', \\'; 1225 lipids in upper leaflet, 1225 lipids in lower leaflet\\', \\'Traceback (most recent call last):\\', \\'  File \"/home/richard/Desktop/projects/hNET_neuronal/debug/insane2015.py\", line 1397, in <module>\\', \\'    atoms    = zip(lipidsa[lipid][1].split(),lipidsx[lipidsa[lipid][0]],lipidsy[lipidsa[lipid][0]],lipidsz[lipidsa[lipid][0]])\\', \"KeyError: \\'PPE\\'\"]', 'IPE: [\\'; X: 27.000 (35 bins) Y: 27.000 (35 bins) in upper leaflet\\', \\'; X: 27.000 (35 bins) Y: 27.000 (35 bins) in lower leaflet\\', \\'; 1225 lipids in upper leaflet, 1225 lipids in lower leaflet\\', \\'Traceback (most recent call last):\\', \\'  File \"/home/richard/Desktop/projects/hNET_neuronal/debug/insane2015.py\", line 1397, in <module>\\', \\'    atoms    = zip(lipidsa[lipid][1].split(),lipidsx[lipidsa[lipid][0]],lipidsy[lipidsa[lipid][0]],lipidsz[lipidsa[lipid][0]])\\', \"KeyError: \\'IPE\\'\"]', 'PODG: [\\'; X: 27.000 (35 bins) Y: 27.000 (35 bins) in upper leaflet\\', \\'; X: 27.000 (35 bins) Y: 27.000 (35 bins) in lower leaflet\\', \\'; 1225 lipids in upper leaflet, 1225 lipids in lower leaflet\\', \\'Traceback (most recent call last):\\', \\'  File \"/home/richard/Desktop/projects/hNET_neuronal/debug/insane2015.py\", line 1397, in <module>\\', \\'    atoms    = zip(lipidsa[lipid][1].split(),lipidsx[lipidsa[lipid][0]],lipidsy[lipidsa[lipid][0]],lipidsz[lipidsa[lipid][0]])\\', \"KeyError: \\'PODG\\'\"]', 'PUPS: [\\'; X: 27.000 (35 bins) Y: 27.000 (35 bins) in upper leaflet\\', \\'; X: 27.000 (35 bins) Y: 27.000 (35 bins) in lower leaflet\\', \\'; 1225 lipids in upper leaflet, 1225 lipids in lower leaflet\\', \\'Traceback (most recent call last):\\', \\'  File \"/home/richard/Desktop/projects/hNET_neuronal/debug/insane2015.py\", line 1397, in <module>\\', \\'    atoms    = zip(lipidsa[lipid][1].split(),lipidsx[lipidsa[lipid][0]],lipidsy[lipidsa[lipid][0]],lipidsz[lipidsa[lipid][0]])\\', \"KeyError: \\'PUPS\\'\"]', 'PAPS: [\\'; X: 27.000 (35 bins) Y: 27.000 (35 bins) in upper leaflet\\', \\'; X: 27.000 (35 bins) Y: 27.000 (35 bins) in lower leaflet\\', \\'; 1225 lipids in upper leaflet, 1225 lipids in lower leaflet\\', \\'Traceback (most recent call last):\\', \\'  File \"/home/richard/Desktop/projects/hNET_neuronal/debug/insane2015.py\", line 1397, in <module>\\', \\'    atoms    = zip(lipidsa[lipid][1].split(),lipidsx[lipidsa[lipid][0]],lipidsy[lipidsa[lipid][0]],lipidsz[lipidsa[lipid][0]])\\', \"KeyError: \\'PAPS\\'\"]', 'POPS: Too many warnings (1). If you are sure all warnings are harmless, use the -maxwarn option.  For more information and tips for troubleshooting, please check the GROMACS website at http://www.gromacs.org/Documentation/Errors ------------------------------------------------------- Analysing residue names: There are: 64057      Other residues Analysing residues not classified as Protein/DNA/RNA/Water and splitting into groups... This run will generate roughly 17 Mb of data', 'PUPI: Too many warnings (1). If you are sure all warnings are harmless, use the -maxwarn option.  For more information and tips for troubleshooting, please check the GROMACS website at http://www.gromacs.org/Documentation/Errors ------------------------------------------------------- Analysing residue names: There are: 56903      Other residues Analysing residues not classified as Protein/DNA/RNA/Water and splitting into groups... This run will generate roughly 16 Mb of data', 'POPI: Too many warnings (1). If you are sure all warnings are harmless, use the -maxwarn option.  For more information and tips for troubleshooting, please check the GROMACS website at http://www.gromacs.org/Documentation/Errors ------------------------------------------------------- Analysing residue names: There are: 62950      Other residues Analysing residues not classified as Protein/DNA/RNA/Water and splitting into groups... This run will generate roughly 17 Mb of data', 'PAPI: Too many warnings (1). If you are sure all warnings are harmless, use the -maxwarn option.  For more information and tips for troubleshooting, please check the GROMACS website at http://www.gromacs.org/Documentation/Errors ------------------------------------------------------- Analysing residue names: There are: 56906      Other residues Analysing residues not classified as Protein/DNA/RNA/Water and splitting into groups... This run will generate roughly 16 Mb of data', 'OUPS: [\\'; X: 27.000 (35 bins) Y: 27.000 (35 bins) in upper leaflet\\', \\'; X: 27.000 (35 bins) Y: 27.000 (35 bins) in lower leaflet\\', \\'; 1225 lipids in upper leaflet, 1225 lipids in lower leaflet\\', \\'Traceback (most recent call last):\\', \\'  File \"/home/richard/Desktop/projects/hNET_neuronal/debug/insane2015.py\", line 1397, in <module>\\', \\'    atoms    = zip(lipidsa[lipid][1].split(),lipidsx[lipidsa[lipid][0]],lipidsy[lipidsa[lipid][0]],lipidsz[lipidsa[lipid][0]])\\', \"KeyError: \\'OUPS\\'\"]', 'DPPS: [\\'; X: 27.000 (35 bins) Y: 27.000 (35 bins) in upper leaflet\\', \\'; X: 27.000 (35 bins) Y: 27.000 (35 bins) in lower leaflet\\', \\'; 1225 lipids in upper leaflet, 1225 lipids in lower leaflet\\', \\'Traceback (most recent call last):\\', \\'  File \"/home/richard/Desktop/projects/hNET_neuronal/debug/insane2015.py\", line 1397, in <module>\\', \\'    atoms    = zip(lipidsa[lipid][1].split(),lipidsx[lipidsa[lipid][0]],lipidsy[lipidsa[lipid][0]],lipidsz[lipidsa[lipid][0]])\\', \"KeyError: \\'DPPS\\'\"]', 'PIPI: Too many warnings (1). If you are sure all warnings are harmless, use the -maxwarn option.  For more information and tips for troubleshooting, please check the GROMACS website at http://www.gromacs.org/Documentation/Errors ------------------------------------------------------- Analysing residue names: There are: 62950      Other residues Analysing residues not classified as Protein/DNA/RNA/Water and splitting into groups... This run will generate roughly 17 Mb of data', 'PAPA: [\\'; X: 27.000 (35 bins) Y: 27.000 (35 bins) in upper leaflet\\', \\'; X: 27.000 (35 bins) Y: 27.000 (35 bins) in lower leaflet\\', \\'; 1225 lipids in upper leaflet, 1225 lipids in lower leaflet\\', \\'Traceback (most recent call last):\\', \\'  File \"/home/richard/Desktop/projects/hNET_neuronal/debug/insane2015.py\", line 1397, in <module>\\', \\'    atoms    = zip(lipidsa[lipid][1].split(),lipidsx[lipidsa[lipid][0]],lipidsy[lipidsa[lipid][0]],lipidsz[lipidsa[lipid][0]])\\', \"KeyError: \\'PAPA\\'\"]', 'POP1: Too many warnings (1). If you are sure all warnings are harmless, use the -maxwarn option.  For more information and tips for troubleshooting, please check the GROMACS website at http://www.gromacs.org/Documentation/Errors ------------------------------------------------------- Analysing residue names: There are: 57379      Other residues Analysing residues not classified as Protein/DNA/RNA/Water and splitting into groups... This run will generate roughly 16 Mb of data', 'POP2: Too many warnings (1). If you are sure all warnings are harmless, use the -maxwarn option.  For more information and tips for troubleshooting, please check the GROMACS website at http://www.gromacs.org/Documentation/Errors ------------------------------------------------------- Analysing residue names: There are: 56975      Other residues Analysing residues not classified as Protein/DNA/RNA/Water and splitting into groups... This run will generate roughly 16 Mb of data', 'POP3: Too many warnings (1). If you are sure all warnings are harmless, use the -maxwarn option.  For more information and tips for troubleshooting, please check the GROMACS website at http://www.gromacs.org/Documentation/Errors ------------------------------------------------------- Analysing residue names: There are: 56904      Other residues Analysing residues not classified as Protein/DNA/RNA/Water and splitting into groups... This run will generate roughly 16 Mb of data', 'POPA: [\\'; X: 27.000 (35 bins) Y: 27.000 (35 bins) in upper leaflet\\', \\'; X: 27.000 (35 bins) Y: 27.000 (35 bins) in lower leaflet\\', \\'; 1225 lipids in upper leaflet, 1225 lipids in lower leaflet\\', \\'Traceback (most recent call last):\\', \\'  File \"/home/richard/Desktop/projects/hNET_neuronal/debug/insane2015.py\", line 1397, in <module>\\', \\'    atoms    = zip(lipidsa[lipid][1].split(),lipidsx[lipidsa[lipid][0]],lipidsy[lipidsa[lipid][0]],lipidsz[lipidsa[lipid][0]])\\', \"KeyError: \\'POPA\\'\"]']\n"
     ]
    }
   ],
   "source": [
    "# the following code will not  run if the notebook is loaded as a %run library\n",
    "if __name__ == '__main__' and '__file__' not in globals():\n",
    "    lipids=lipidsfromsystem(\"/home/richard/Desktop/projects/hNET_neuronal/debug/hNET_neuronal\")\n",
    "    print(lipids)\n",
    "    testlipids(lipids).execute(True).report()"
   ]
  },
  {
   "cell_type": "markdown",
   "metadata": {},
   "source": [
    "## Test: Query .top file for list of all species\n",
    "\n",
    "Create a temporary path. Build a membrane containing just one lipid species (PNG1), then view the top file created, then clean up temporary path"
   ]
  },
  {
   "cell_type": "code",
   "execution_count": 19,
   "metadata": {},
   "outputs": [
    {
     "name": "stdout",
     "output_type": "stream",
     "text": [
      "#include \"martini.ff/martini_v2.2P.itp\"\n",
      "\n",
      "#include \"martini.ff/martini_v2.0_ions.itp\"\n",
      "\n",
      "#include \"martini.ff/martini_v2.0_lipids_all_201506.itp\"\n",
      "\n",
      "\n",
      "\n",
      "[ system ]\n",
      "\n",
      "; name\n",
      "\n",
      "INSANE! Membrane UpperLeaflet>PNG1=1.0 LowerLeaflet>PNG1=1.0\n",
      "\n",
      "\n",
      "\n",
      "[ molecules ]\n",
      "\n",
      "; name  number\n",
      "\n",
      "PNG1          1225\n",
      "\n",
      "PNG1          1225\n",
      "\n",
      "PW           35520\n",
      "\n",
      "NA+            391\n",
      "\n",
      "CL-            391\n",
      "\n"
     ]
    }
   ],
   "source": [
    "# the following code will not  run if the notebook is loaded as a %run library\n",
    "if __name__ == '__main__' and '__file__' not in globals():\n",
    "    membrane=\"hNET_neuronal\"\n",
    "    lipid=\"PNG1\"\n",
    "    with tempfile.TemporaryDirectory() as tmpdirname:\n",
    "        membranelipid = os.path.join(tmpdirname,membrane+lipid)\n",
    "        results = []\n",
    "        build(tmpdirname,membrane,lipid,defaultinsane).execute().report(results).success\n",
    "        top(tmpdirname,membrane,lipid).analyze()"
   ]
  },
  {
   "cell_type": "markdown",
   "metadata": {},
   "source": [
    "## Test: query a gro file for all rows for a specific lipid\n"
   ]
  },
  {
   "cell_type": "code",
   "execution_count": 12,
   "metadata": {},
   "outputs": [
    {
     "name": "stdout",
     "output_type": "stream",
     "text": [
      "['; X: 27.000 (35 lipids) Y: 27.000 (35 lipids)', '; 1225 lipids in upper leaflet, 1225 lipids in lower leaflet', '; NDX Solute 1 0', '; Charge of protein: 0.000000', '; NDX Membrane 1 44100', '; Charge of membrane: 0.000000', '; Total charge: 0.000000', '; NDX Solvent 44101 224669', '; NDX System 1 224669']\n",
      "['1PAP3', '    1PAP3    C1    1  20.455  20.502   9.450\\n']\n",
      "['1PAP3', '    1PAP3    C2    2  20.346  20.589   9.750\\n']\n",
      "['1PAP3', '    1PAP3    C3    3  20.481  20.444   9.750\\n']\n",
      "['1PAP3', '    1PAP3   PO4    4  20.523  20.458  10.050\\n']\n",
      "['1PAP3', '    1PAP3    P1    5  20.375  20.520  10.350\\n']\n",
      "['1PAP3', '    1PAP3    P2    6  20.495  20.466  10.350\\n']\n",
      "['1PAP3', '    1PAP3    P3    7  20.459  20.493  10.650\\n']\n",
      "['1PAP3', '    1PAP3   GL1    8  20.474  20.541   9.150\\n']\n",
      "['1PAP3', '    1PAP3   GL2    9  20.442  20.583   9.150\\n']\n",
      "['1PAP3', '    1PAP3   D1A   10  20.533  20.473   8.850\\n']\n",
      "['1PAP3', '    1PAP3   D2A   11  20.537  20.509   8.550\\n']\n",
      "['1PAP3', '    1PAP3   D3A   12  20.532  20.479   8.550\\n']\n",
      "['1PAP3', '    1PAP3   D4A   13  20.519  20.454   7.950\\n']\n",
      "['1PAP3', '    1PAP3   C5A   14  20.515  20.472   7.650\\n']\n",
      "['1PAP3', '    1PAP3   C1B   15  20.314  20.682   8.850\\n']\n",
      "['1PAP3', '    1PAP3   C2B   16  20.304  20.602   8.550\\n']\n",
      "['1PAP3', '    1PAP3   C3B   17  20.256  20.597   8.250\\n']\n",
      "['1PAP3', '    1PAP3   C4B   18  20.341  20.644   7.950\\n']\n"
     ]
    }
   ],
   "source": [
    "import tempfile\n",
    "import os\n",
    "# the following code will not  run if the notebook is loaded as a %run library\n",
    "if __name__ == '__main__' and '__file__' not in globals():\n",
    "    membrane=\"hNET_neuronal\"\n",
    "    lipid=\"PAP3\"\n",
    "    with tempfile.TemporaryDirectory() as tmpdirname:\n",
    "        membranelipid = os.path.join(tmpdirname,membrane+lipid)\n",
    "        results = []\n",
    "        print(build(tmpdirname,membrane,lipid,'/home/richard/projects/hNET_neuronal/insane.py').execute().report(results).summary)\n",
    "        gro(tmpdirname,membrane,lipid).analyze().reportlipid()\n",
    "        "
   ]
  }
 ],
 "metadata": {
  "kernelspec": {
   "display_name": "Python 3",
   "language": "python",
   "name": "python3"
  },
  "language_info": {
   "codemirror_mode": {
    "name": "ipython",
    "version": 3
   },
   "file_extension": ".py",
   "mimetype": "text/x-python",
   "name": "python",
   "nbconvert_exporter": "python",
   "pygments_lexer": "ipython3",
   "version": "3.6.9"
  }
 },
 "nbformat": 4,
 "nbformat_minor": 2
}
