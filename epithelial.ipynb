{
 "cells": [
  {
   "cell_type": "code",
   "execution_count": 1,
   "metadata": {},
   "outputs": [],
   "source": [
    "#Load in utility classes\n",
    "%run ~/projects/testlipids/testlipids.ipynb\n",
    "import os #Operating system specific commands\n",
    "import re #Regular expression library\n",
    "\n",
    "membrane=\"epithelial\"\n",
    "insane=\"./insane+SF.py\"\n",
    "mdparams=\"./test.mdp\"\n",
    "martinipath=\"./martini.ff\""
   ]
  },
  {
   "cell_type": "code",
   "execution_count": 1,
   "metadata": {},
   "outputs": [],
   "source": [
    "# Cleaning up intermediate files from previous runs\n",
    "!rm -f *#*\n",
    "!rm -f *step*\n",
    "!rm -f {membrane}*"
   ]
  },
  {
   "cell_type": "code",
   "execution_count": 111,
   "metadata": {},
   "outputs": [],
   "source": [
    "upper=\"-u LPPC:0.02 -u DPPC:0.007 -u DOPC:0.026 -u PIPC:0.217 -u PAPC:0.128 -u PUPC:0.123 -u POPE:0.017 -u PUPE:0.005 -u DPSM:0.043 -u PNSM:0.019\"\n",
    "#-u POPC:0.363 -u PAPE:0.014 -u DOPE:0.018 \n",
    "lower= \"-l LPPC:0.007 -l DPPC:0.003 -l DOPC:0.009 -l PIPC:0.078 -l PAPC:0.046 -l PUPC:0.044 -l POPA:0.022 -l DOPA:0.011 -l POPE:0.057 -l PUPE:0.017 -l DPPS:0.002 -l POPS:0.216 -l POPI:0.058 -l PIPI:0.013 -l PAPI:0.128 -l PUPI:0.018 -l DPSM:0.015 -l PNSM:0.007\"\n",
    "# -l POPC:0.129 -l DOPE:0.06 -l PAPE:0.047 -l DOPS:0.014"
   ]
  },
  {
   "cell_type": "code",
   "execution_count": 112,
   "metadata": {},
   "outputs": [
    {
     "name": "stdout",
     "output_type": "stream",
     "text": [
      "Build\n",
      "Grompp\n",
      "Run\n",
      "Success\n"
     ]
    }
   ],
   "source": [
    "#upper=\"-u LPPC:0.02 -u DPPC:0.007 -u POPC:0.363 -u DOPC:0.026 -u PIPC:0.217 -u PAPC:0.128 -u PUPC:0.123 -u POPE:0.017 -u DOPE:0.018 -u PAPE:0.014 -u PUPE:0.005 -u DPSM:0.043 -u PNSM:0.019 \"\n",
    "#lower= \"-l LPPC:0.007 -l DPPC:0.003 -l POPC:0.129 -l DOPC:0.009 -l PIPC:0.078 -l PAPC:0.046 -l PUPC:0.044 -l POPA:0.022 -l DOPA:0.011 -l POPE:0.057 -l DOPE:0.06 -l PAPE:0.047 -l PUPE:0.017 -l DPPS:0.002 -l POPS:0.216 -l DOPS:0.014 -l POPI:0.058 -l PIPI:0.013 -l PAPI:0.128 -l PUPI:0.018 -l DPSM:0.015 -l PNSM:0.007\"\n",
    "\n",
    "\n",
    "print(\"Build\")\n",
    "build = !python2 {insane} -o {membrane}.gro -p {membrane}.top -d 0 -x 16.6 -y 19.4 -z 16 -sol PW -salt 0.15 -center -charge 0 -orient {upper} {lower}  \n",
    "#for line in build:\n",
    "#    print(line)\n",
    "\n",
    "print(\"Grompp\")\n",
    "grompp = !gmx grompp -f {mdparams} -c {membrane}.gro -p {membrane}.top -o  {membrane}.tpr\n",
    "success=True\n",
    "for line in grompp:\n",
    "    if re.search(\"Fatal error\", line):\n",
    "        success=False\n",
    "    if not success:\n",
    "        print(line)\n",
    "    \n",
    "if success:\n",
    "    print(\"Run\")\n",
    "    !export GMX_MAXCONSTRWARN=-1\n",
    "    !export GMX_SUPPRESS_DUMP=1\n",
    "    run = !gmx mdrun -v -deffnm {membrane}\n",
    "    summary=\"\"\n",
    "    logfile = membrane+\".log\"\n",
    "    if not os.path.exists(logfile):\n",
    "        print(\"no log file\")\n",
    "        print(\"== === ====\")\n",
    "        for line in run:\n",
    "            print(line)\n",
    "    else:\n",
    "        try:\n",
    "            file = open(logfile, \"r\")\n",
    "            fe = False\n",
    "            for line in file:\n",
    "                if fe:\n",
    "                    success=False\n",
    "                    summary=line\n",
    "                elif re.search(\"^Steepest Descents.*converge\", line):\n",
    "                    success=True\n",
    "                    summary=line\n",
    "                    break\n",
    "                elif re.search(\"Fatal error\", line):\n",
    "                    fe = True\n",
    "        except IOError as exc:\n",
    "            sucess=False;\n",
    "            summary=exc;\n",
    "    if success:\n",
    "        print(\"Success\")\n",
    "    else:\n",
    "        print(summary)\n"
   ]
  },
  {
   "cell_type": "code",
   "execution_count": null,
   "metadata": {},
   "outputs": [],
   "source": []
  }
 ],
 "metadata": {
  "kernelspec": {
   "display_name": "Python 3",
   "language": "python",
   "name": "python3"
  },
  "language_info": {
   "codemirror_mode": {
    "name": "ipython",
    "version": 3
   },
   "file_extension": ".py",
   "mimetype": "text/x-python",
   "name": "python",
   "nbconvert_exporter": "python",
   "pygments_lexer": "ipython3",
   "version": "3.6.9"
  }
 },
 "nbformat": 4,
 "nbformat_minor": 4
}
