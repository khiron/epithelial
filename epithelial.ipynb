{
 "cells": [
  {
   "cell_type": "code",
   "execution_count": 40,
   "metadata": {},
   "outputs": [],
   "source": [
    "#Load in utility classes\n",
    "%run ~/projects/testlipids/testlipids.ipynb\n",
    "import os #Operating system specific commands\n",
    "import re #Regular expression library\n",
    "\n",
    "membrane=\"epithelial\"\n",
    "insane=\"./insane+SF.py\"\n",
    "mdparams=\"./test.mdp\"\n",
    "martinipath=\"./martini.ff\""
   ]
  },
  {
   "cell_type": "code",
   "execution_count": 41,
   "metadata": {},
   "outputs": [],
   "source": [
    "# Cleaning up intermediate files from previous runs\n",
    "!rm -f *#*\n",
    "!rm -f *step*\n",
    "!rm -f {membrane}.gro\n",
    "!rm -f {membrane}.edr\n",
    "!rm -f {membrane}.log\n",
    "!rm -f {membrane}.pdb\n",
    "!rm -f {membrane}.tpr\n",
    "!rm -f {membrane}.trr"
   ]
  },
  {
   "cell_type": "code",
   "execution_count": 42,
   "metadata": {},
   "outputs": [],
   "source": [
    "cmdline = \"-u OIPE:0.002 -u PQPE:0.002 -u OQPE:0.001 -u OAPE:0.002 -u OUPE:0.001 -u PBSM:0.007 -u PXSM:0.004 -u DODG:0.004 -u DPPMC:0.007 -u POPMC:0.043 -u DOPMC:0.009 -u PIPMC:0.009 -u OIPMC:0.004 -u OEPMC:0.005 -u PAPMC:0.012 -u PUPMC:0.029 -u POPME:0.001 -u DOPME:0.006 -u OIPME:0.001 -u OQPME:0.002 -u OAPME:0.014 -u OUPME:0.006 -u IAPME:0.007 -u IQPME:0.001 -u LPPC:0.008 -u DPPC:0.003 -u POPC:0.147 -u DOPC:0.011 -u PIPC:0.088 -u OIPC:0.05 -u PAPC:0.052 -u PUPC:0.05 -u POPE:0.007 -u OPPE:0.002 -u DOPE:0.007 -u PAPE:0.006 -u PUPE:0.002 -u POPG:0.004 -u DOPG:0.003 -u DPSM:0.017 -u PNSM:0.008 -u PODG:0.007 -l OIPE:0.008 -l PQPE:0.006 -l OQPE:0.004 -l OAPE:0.009 -l OUPE:0.005 -l OGPS:0.004 -l DOPI:0.008 -l PEPI:0.004 -l PQPI:0.039 -l PBSM:0.003 -l PXSM:0.002 -l DODG:0.002 -l DPPMC:0.003 -l POPMC:0.016 -l DOPMC:0.003 -l PIPMC:0.003 -l OIPMC:0.002 -l OEPMC:0.002 -l PAPMC:0.004 -l PUPMC:0.011 -l POPME:0.005 -l DOPME:0.02 -l OIPME:0.003 -l OQPME:0.006 -l OAPME:0.052 -l OUPME:0.023 -l IAPME:0.024 -l IQPME:0.003 -l PAPS:0.004 -l LPPC:0.003 -l DPPC:0.001 -l POPC:0.056 -l DOPC:0.004 -l PIPC:0.034 -l OIPC:0.019 -l PAPC:0.02 -l PUPC:0.019 -l POPA:0.01 -l DOPA:0.005 -l POPE:0.025 -l OPPE:0.008 -l DOPE:0.026 -l PAPE:0.02 -l PUPE:0.007 -l POPG:0.003 -l DOPG:0.002 -l DPPS:0.001 -l POPS:0.093 -l DOPS:0.006 -l POPI:0.025 -l PIPI:0.006 -l PAPI:0.055 -l PUPI:0.008 -l DPSM:0.007 -l PNSM:0.003 -l PODG:0.004 \"\n",
    " "
   ]
  },
  {
   "cell_type": "code",
   "execution_count": 43,
   "metadata": {},
   "outputs": [
    {
     "name": "stdout",
     "output_type": "stream",
     "text": [
      "Build\n",
      "; X: 16.600 (21 lipids) Y: 19.400 (25 lipids)\n",
      "; 525 lipids in upper leaflet, 525 lipids in lower leaflet\n",
      "; NDX Solute 1 0\n",
      "; Charge of protein: 0.000000\n",
      "; NDX Membrane 1 12540\n",
      "; Charge of membrane: -77.000000\n",
      "; Total charge: -77.000000\n",
      "; NDX Solvent 12541 110257\n",
      "; NDX System 1 110257\n"
     ]
    }
   ],
   "source": [
    "print(\"Build\")\n",
    "build = !python2 {insane} -o {membrane}.gro -p {membrane}.top -d 0 -x 16.6 -y 19.4 -z 16 -sol PW -salt 0.15 -center -charge 0 -orient {cmdline}  \n",
    "for line in build:\n",
    "    print(line)\n"
   ]
  },
  {
   "cell_type": "code",
   "execution_count": 56,
   "metadata": {},
   "outputs": [],
   "source": [
    "# remove extra descriptive lines in the gro file that would otherwise overrun the buffer during GROMPP\n",
    "import datetime\n",
    "generationDate = datetime.datetime.now().strftime(\"%Y.%m.%d\")\n",
    "!sed -i '1s/.*/Complex Epithelial membrane generated ({generationDate}) using INSANE/' {membrane}.gro"
   ]
  },
  {
   "cell_type": "code",
   "execution_count": 49,
   "metadata": {},
   "outputs": [
    {
     "name": "stdout",
     "output_type": "stream",
     "text": [
      "Grompp\n",
      "                      :-) GROMACS - gmx grompp, 2018.1 (-:\n",
      "\n",
      "                            GROMACS is written by:\n",
      "     Emile Apol      Rossen Apostolov      Paul Bauer     Herman J.C. Berendsen\n",
      "    Par Bjelkmar    Aldert van Buuren   Rudi van Drunen     Anton Feenstra  \n",
      "  Gerrit Groenhof    Aleksei Iupinov   Christoph Junghans   Anca Hamuraru   \n",
      " Vincent Hindriksen Dimitrios Karkoulis    Peter Kasson        Jiri Kraus    \n",
      "  Carsten Kutzner      Per Larsson      Justin A. Lemkul    Viveca Lindahl  \n",
      "  Magnus Lundborg   Pieter Meulenhoff    Erik Marklund      Teemu Murtola   \n",
      "    Szilard Pall       Sander Pronk      Roland Schulz     Alexey Shvetsov  \n",
      "   Michael Shirts     Alfons Sijbers     Peter Tieleman    Teemu Virolainen \n",
      " Christian Wennberg    Maarten Wolf   \n",
      "                           and the project leaders:\n",
      "        Mark Abraham, Berk Hess, Erik Lindahl, and David van der Spoel\n",
      "\n",
      "Copyright (c) 1991-2000, University of Groningen, The Netherlands.\n",
      "Copyright (c) 2001-2017, The GROMACS development team at\n",
      "Uppsala University, Stockholm University and\n",
      "the Royal Institute of Technology, Sweden.\n",
      "check out http://www.gromacs.org for more information.\n",
      "\n",
      "GROMACS is free software; you can redistribute it and/or modify it\n",
      "under the terms of the GNU Lesser General Public License\n",
      "as published by the Free Software Foundation; either version 2.1\n",
      "of the License, or (at your option) any later version.\n",
      "\n",
      "GROMACS:      gmx grompp, version 2018.1\n",
      "Executable:   /usr/bin/gmx\n",
      "Data prefix:  /usr\n",
      "Working dir:  /home/richard/projects/epithelial\n",
      "Command line:\n",
      "  gmx grompp -f ./test.mdp -c epithelial.gro -p epithelial.top -o epithelial.tpr\n",
      "\n",
      "Ignoring obsolete mdp entry 'title'\n",
      "Setting the LD random seed to 185773620\n",
      "Generated 1 of the 741 non-bonded parameter combinations\n",
      "\n",
      "-------------------------------------------------------\n",
      "Program:     gmx grompp, version 2018.1\n",
      "Source file: src/gromacs/topology/symtab.cpp (line 69)\n",
      "\n",
      "Fatal error:\n",
      "String 'INSANE! Membrane\n",
      "UpperLeaflet>OIPE:PQPE:OQPE:OAPE:OUPE:PBSM:PXSM:DODG:DPPMC:POPMC:DOPMC:PIPMC:OIPMC:OEPMC:PAPMC:PUPMC:POPME:DOPME:OIPME:OQPME:OAPME:OUPME:IAPME:IQPME:LPPC:DPPC:POPC:DOPC:PIPC:OIPC:PAPC:PUPC:POPE:OPPE:DOPE:PAPE:PUPE:POPG:DOPG:DPSM:PNSM:PODG=0.002:0.002:0.001:0.002:0.001:0.007:0.004:0.004:0.007:0.043:0.009:0.009:0.004:0.005:0.012:0.029:0.001:0.006:0.001:0.002:0.014:0.006:0.007:0.001:0.008:0.003:0.147:0.011:0.088:0.05:0.052:0.05:0.007:0.002:0.007:0.006:0.002:0.004:0.003:0.017:0.008:0.007\n",
      "LowerLeaflet>OIPE:PQPE:OQPE:OAPE:OUPE:OGPS:DOPI:PEPI:PQPI:PBSM:PXSM:DODG:DPPMC:POPMC:DOPMC:PIPMC:OIPMC:OEPMC:PAPMC:PUPMC:POPME:DOPME:OIPME:OQPME:OAPME:OUPME:IAPME:IQPME:PAPS:LPPC:DPPC:POPC:DOPC:PIPC:OIPC:PAPC:PUPC:POPA:DOPA:POPE:OPPE:DOPE:PAPE:PUPE:POPG:DOPG:DPPS:POPS:DOPS:POPI:PIPI:PAPI:PUPI:DPSM:PNSM:PODG=0.008:0.006:0.004:0.009:0.005:0.004:0.008:0.004:0.039:0.003:0.002:0.002:0.003:0.016:0.003:0.003:0.002:0.002:0.004:0.011:0.005:0.02:0.003:0.006:0.052:0.023:0.024:0.003:0.004:0.003:0.001:0.056:0.004:0.034:0.019:0.02:0.019:0.01:0.005:0.025:0.008:0.026:0.02:0.007:0.003:0.002:0.001:0.093:0.006:0.025:0.006:0.055:0.008:0.007:0.003:0.004'\n",
      "(1146) is longer than buffer (1022).\n",
      "\n",
      "For more information and tips for troubleshooting, please check the GROMACS\n",
      "website at http://www.gromacs.org/Documentation/Errors\n",
      "-------------------------------------------------------\n"
     ]
    }
   ],
   "source": [
    "\n",
    "print(\"Grompp\")\n",
    "grompp = !gmx grompp -f {mdparams} -c {membrane}.gro -p {membrane}.top -o  {membrane}.tpr\n",
    "success=True\n",
    "for line in grompp:\n",
    "    if re.search(\"Fatal error\", line):\n",
    "        success=False\n",
    "    #if not success:\n",
    "    print(line)\n",
    "    \n",
    "if success:\n",
    "    print(\"Run\")\n",
    "    !export GMX_MAXCONSTRWARN=-1\n",
    "    !export GMX_SUPPRESS_DUMP=1\n",
    "    run = !gmx mdrun -v -deffnm {membrane}\n",
    "    summary=\"\"\n",
    "    logfile = membrane+\".log\"\n",
    "    if not os.path.exists(logfile):\n",
    "        print(\"no log file\")\n",
    "        print(\"== === ====\")\n",
    "        for line in run:\n",
    "            print(line)\n",
    "    else:\n",
    "        try:\n",
    "            file = open(logfile, \"r\")\n",
    "            fe = False\n",
    "            for line in file:\n",
    "                if fe:\n",
    "                    success=False\n",
    "                    summary=line\n",
    "                elif re.search(\"^Steepest Descents.*converge\", line):\n",
    "                    success=True\n",
    "                    summary=line\n",
    "                    break\n",
    "                elif re.search(\"Fatal error\", line):\n",
    "                    fe = True\n",
    "        except IOError as exc:\n",
    "            sucess=False;\n",
    "            summary=exc;\n",
    "    if success:\n",
    "        print(\"Success\")\n",
    "    else:\n",
    "        print(summary)\n"
   ]
  },
  {
   "cell_type": "code",
   "execution_count": 50,
   "metadata": {},
   "outputs": [
    {
     "name": "stdout",
     "output_type": "stream",
     "text": [
      "Converting ./epithelial.gro to a pdb file\n",
      "using system specified in ./epithelial.pdb file\n",
      "['OIPE', 'PQPE', 'OAPE', 'PBSM', 'PXSM', 'DODG', 'DPPM', 'POPM', 'DOPM', 'PIPM', 'OIPM', 'OEPM', 'PAPM', 'PUPM', 'OQPM', 'OAPM', 'OUPM', 'IAPM', 'LPPC', 'DPPC', 'POPC', 'DOPC', 'PIPC', 'OIPC', 'PAPC', 'PUPC', 'POPE', 'OPPE', 'DOPE', 'PAPE', 'PUPE', 'POPG', 'DOPG', 'DPSM', 'PNSM', 'PODG', 'OQPE', 'OUPE', 'OGPS', 'DOPI', 'PEPI', 'PQPI', 'IQPM', 'PAPS', 'POPA', 'DOPA', 'POPS', 'DOPS', 'POPI', 'PIPI', 'PAPI', 'PUPI']\n",
      "[52]testing lipid OIPE in membrane epithelial...create...compile...minimize\u001b[31m=[fail]\u001b[30m: 7.07 secs\n",
      "[51]testing lipid PQPE in membrane epithelial...create...compile...minimize\u001b[32m=[success]\u001b[30m: 15.86 secs\n",
      "[50]testing lipid OAPE in membrane epithelial...create...compile...minimize\u001b[32m=[success]\u001b[30m: 18.81 secs\n",
      "[49]testing lipid PBSM in membrane epithelial...create...compile...minimize\u001b[32m=[success]\u001b[30m: 19.12 secs\n",
      "[48]testing lipid PXSM in membrane epithelial...create...compile...minimize\u001b[32m=[success]\u001b[30m: 18.94 secs\n",
      "[47]testing lipid DODG in membrane epithelial...create...compile...minimize\u001b[32m=[success]\u001b[30m: 12.89 secs\n",
      "[46]testing lipid DPPM in membrane epithelial...create\u001b[31m=[fail]\u001b[30m: 0.14 secs\n",
      "[45]testing lipid POPM in membrane epithelial...create\u001b[31m=[fail]\u001b[30m: 0.14 secs\n",
      "[44]testing lipid DOPM in membrane epithelial...create\u001b[31m=[fail]\u001b[30m: 0.14 secs\n",
      "[43]testing lipid PIPM in membrane epithelial...create\u001b[31m=[fail]\u001b[30m: 0.15 secs\n",
      "[42]testing lipid OIPM in membrane epithelial...create\u001b[31m=[fail]\u001b[30m: 0.16 secs\n",
      "[41]testing lipid OEPM in membrane epithelial...create\u001b[31m=[fail]\u001b[30m: 0.14 secs\n",
      "[40]testing lipid PAPM in membrane epithelial...create\u001b[31m=[fail]\u001b[30m: 0.14 secs\n",
      "[39]testing lipid PUPM in membrane epithelial...create\u001b[31m=[fail]\u001b[30m: 0.15 secs\n",
      "[38]testing lipid OQPM in membrane epithelial...create\u001b[31m=[fail]\u001b[30m: 0.15 secs\n",
      "[37]testing lipid OAPM in membrane epithelial...create\u001b[31m=[fail]\u001b[30m: 0.14 secs\n",
      "[36]testing lipid OUPM in membrane epithelial...create\u001b[31m=[fail]\u001b[30m: 0.15 secs\n",
      "[35]testing lipid IAPM in membrane epithelial...create\u001b[31m=[fail]\u001b[30m: 0.15 secs\n",
      "[34]testing lipid LPPC in membrane epithelial...create...compile...minimize\u001b[32m=[success]\u001b[30m: 17.12 secs\n",
      "[33]testing lipid DPPC in membrane epithelial...create...compile...minimize\u001b[32m=[success]\u001b[30m: 12.06 secs\n",
      "[32]testing lipid POPC in membrane epithelial...create...compile...minimize\u001b[32m=[success]\u001b[30m: 17.69 secs\n",
      "[31]testing lipid DOPC in membrane epithelial...create...compile...minimize\u001b[32m=[success]\u001b[30m: 13.17 secs\n",
      "[30]testing lipid PIPC in membrane epithelial...create...compile...minimize\u001b[32m=[success]\u001b[30m: 13.61 secs\n",
      "[29]testing lipid OIPC in membrane epithelial...create...compile...minimize\u001b[32m=[success]\u001b[30m: 19.28 secs\n",
      "[28]testing lipid PAPC in membrane epithelial...create...compile...minimize\u001b[32m=[success]\u001b[30m: 16.28 secs\n",
      "[27]testing lipid PUPC in membrane epithelial...create...compile...minimize\u001b[32m=[success]\u001b[30m: 13.96 secs\n",
      "[26]testing lipid POPE in membrane epithelial...create...compile...minimize\u001b[32m=[success]\u001b[30m: 19.99 secs\n",
      "[25]testing lipid OPPE in membrane epithelial...create...compile...minimize\u001b[32m=[success]\u001b[30m: 14.43 secs\n",
      "[24]testing lipid DOPE in membrane epithelial...create...compile...minimize\u001b[32m=[success]\u001b[30m: 15.11 secs\n",
      "[23]testing lipid PAPE in membrane epithelial...create...compile...minimize\u001b[32m=[success]\u001b[30m: 14.09 secs\n",
      "[22]testing lipid PUPE in membrane epithelial...create...compile...minimize\u001b[32m=[success]\u001b[30m: 15.31 secs\n",
      "[21]testing lipid POPG in membrane epithelial...create...compile...minimize\u001b[32m=[success]\u001b[30m: 12.83 secs\n",
      "[20]testing lipid DOPG in membrane epithelial...create...compile...minimize\u001b[32m=[success]\u001b[30m: 14.11 secs\n",
      "[19]testing lipid DPSM in membrane epithelial...create...compile...minimize\u001b[32m=[success]\u001b[30m: 14.68 secs\n",
      "[18]testing lipid PNSM in membrane epithelial...create...compile...minimize\u001b[32m=[success]\u001b[30m: 18.23 secs\n",
      "[17]testing lipid PODG in membrane epithelial...create...compile...minimize\u001b[32m=[success]\u001b[30m: 15.53 secs\n",
      "[16]testing lipid OQPE in membrane epithelial...create...compile...minimize\u001b[32m=[success]\u001b[30m: 19.60 secs\n",
      "[15]testing lipid OUPE in membrane epithelial...create...compile...minimize\u001b[32m=[success]\u001b[30m: 12.98 secs\n",
      "[14]testing lipid OGPS in membrane epithelial...create...compile...minimize\u001b[32m=[success]\u001b[30m: 20.12 secs\n",
      "[13]testing lipid DOPI in membrane epithelial...create...compile...minimize\u001b[32m=[success]\u001b[30m: 39.43 secs\n",
      "[12]testing lipid PEPI in membrane epithelial...create...compile...minimize\u001b[32m=[success]\u001b[30m: 39.53 secs\n",
      "[11]testing lipid PQPI in membrane epithelial...create...compile...minimize\u001b[32m=[success]\u001b[30m: 48.54 secs\n",
      "[10]testing lipid IQPM in membrane epithelial...create\u001b[31m=[fail]\u001b[30m: 0.15 secs\n",
      "[9]testing lipid PAPS in membrane epithelial...create...compile...minimize\u001b[32m=[success]\u001b[30m: 18.95 secs\n",
      "[8]testing lipid POPA in membrane epithelial...create...compile...minimize\u001b[32m=[success]\u001b[30m: 13.04 secs\n",
      "[7]testing lipid DOPA in membrane epithelial...create...compile...minimize\u001b[31m=[fail]\u001b[30m: 7.58 secs\n",
      "[6]testing lipid POPS in membrane epithelial...create...compile...minimize\u001b[32m=[success]\u001b[30m: 14.82 secs\n",
      "[5]testing lipid DOPS in membrane epithelial...create...compile...minimize\u001b[32m=[success]\u001b[30m: 14.42 secs\n",
      "[4]testing lipid POPI in membrane epithelial...create...compile...minimize\u001b[32m=[success]\u001b[30m: 39.43 secs\n",
      "[3]testing lipid PIPI in membrane epithelial...create...compile...minimize\u001b[32m=[success]\u001b[30m: 33.66 secs\n",
      "[2]testing lipid PAPI in membrane epithelial...create...compile...minimize\u001b[32m=[success]\u001b[30m: 34.32 secs\n",
      "[1]testing lipid PUPI in membrane epithelial...create...compile...minimize\u001b[32m=[success]\u001b[30m: 37.72 secs\n",
      "\n",
      "Insane:/home/richard/projects/epithelial/insane+SF.py\n",
      "\u001b[32mMinimized 37 lipids: \u001b[30m['PQPE', 'OAPE', 'PBSM', 'PXSM', 'DODG', 'LPPC', 'DPPC', 'POPC', 'DOPC', 'PIPC', 'OIPC', 'PAPC', 'PUPC', 'POPE', 'OPPE', 'DOPE', 'PAPE', 'PUPE', 'POPG', 'DOPG', 'DPSM', 'PNSM', 'PODG', 'OQPE', 'OUPE', 'OGPS', 'DOPI', 'PEPI', 'PQPI', 'PAPS', 'POPA', 'POPS', 'DOPS', 'POPI', 'PIPI', 'PAPI', 'PUPI']\n",
      "\u001b[31mFailed to minimize 15 lipids: \u001b[30m\n",
      "['OIPE', 'DPPM', 'POPM', 'DOPM', 'PIPM', 'OIPM', 'OEPM', 'PAPM', 'PUPM', 'OQPM', 'OAPM', 'OUPM', 'IAPM', 'IQPM', 'DOPA']\n",
      "Summaries of failed minimizations:\n",
      "['OIPE: -------------------------------------------------------\\n', 'DPPM: [\\'; X: 27.000 (35 lipids) Y: 27.000 (35 lipids)\\', \\'; 1225 lipids in upper leaflet, 1225 lipids in lower leaflet\\', \\'Traceback (most recent call last):\\', \\'  File \"/home/richard/projects/epithelial/insane+SF.py\", line 1321, in <module>\\', \\'    atoms    = zip(lipidsa[lipid][1].split(),lipidsx[lipidsa[lipid][0]],lipidsy[lipidsa[lipid][0]],lipidsz[lipidsa[lipid][0]])\\', \"KeyError: \\'DPPM\\'\"]', 'POPM: [\\'; X: 27.000 (35 lipids) Y: 27.000 (35 lipids)\\', \\'; 1225 lipids in upper leaflet, 1225 lipids in lower leaflet\\', \\'Traceback (most recent call last):\\', \\'  File \"/home/richard/projects/epithelial/insane+SF.py\", line 1321, in <module>\\', \\'    atoms    = zip(lipidsa[lipid][1].split(),lipidsx[lipidsa[lipid][0]],lipidsy[lipidsa[lipid][0]],lipidsz[lipidsa[lipid][0]])\\', \"KeyError: \\'POPM\\'\"]', 'DOPM: [\\'; X: 27.000 (35 lipids) Y: 27.000 (35 lipids)\\', \\'; 1225 lipids in upper leaflet, 1225 lipids in lower leaflet\\', \\'Traceback (most recent call last):\\', \\'  File \"/home/richard/projects/epithelial/insane+SF.py\", line 1321, in <module>\\', \\'    atoms    = zip(lipidsa[lipid][1].split(),lipidsx[lipidsa[lipid][0]],lipidsy[lipidsa[lipid][0]],lipidsz[lipidsa[lipid][0]])\\', \"KeyError: \\'DOPM\\'\"]', 'PIPM: [\\'; X: 27.000 (35 lipids) Y: 27.000 (35 lipids)\\', \\'; 1225 lipids in upper leaflet, 1225 lipids in lower leaflet\\', \\'Traceback (most recent call last):\\', \\'  File \"/home/richard/projects/epithelial/insane+SF.py\", line 1321, in <module>\\', \\'    atoms    = zip(lipidsa[lipid][1].split(),lipidsx[lipidsa[lipid][0]],lipidsy[lipidsa[lipid][0]],lipidsz[lipidsa[lipid][0]])\\', \"KeyError: \\'PIPM\\'\"]', 'OIPM: [\\'; X: 27.000 (35 lipids) Y: 27.000 (35 lipids)\\', \\'; 1225 lipids in upper leaflet, 1225 lipids in lower leaflet\\', \\'Traceback (most recent call last):\\', \\'  File \"/home/richard/projects/epithelial/insane+SF.py\", line 1321, in <module>\\', \\'    atoms    = zip(lipidsa[lipid][1].split(),lipidsx[lipidsa[lipid][0]],lipidsy[lipidsa[lipid][0]],lipidsz[lipidsa[lipid][0]])\\', \"KeyError: \\'OIPM\\'\"]', 'OEPM: [\\'; X: 27.000 (35 lipids) Y: 27.000 (35 lipids)\\', \\'; 1225 lipids in upper leaflet, 1225 lipids in lower leaflet\\', \\'Traceback (most recent call last):\\', \\'  File \"/home/richard/projects/epithelial/insane+SF.py\", line 1321, in <module>\\', \\'    atoms    = zip(lipidsa[lipid][1].split(),lipidsx[lipidsa[lipid][0]],lipidsy[lipidsa[lipid][0]],lipidsz[lipidsa[lipid][0]])\\', \"KeyError: \\'OEPM\\'\"]', 'PAPM: [\\'; X: 27.000 (35 lipids) Y: 27.000 (35 lipids)\\', \\'; 1225 lipids in upper leaflet, 1225 lipids in lower leaflet\\', \\'Traceback (most recent call last):\\', \\'  File \"/home/richard/projects/epithelial/insane+SF.py\", line 1321, in <module>\\', \\'    atoms    = zip(lipidsa[lipid][1].split(),lipidsx[lipidsa[lipid][0]],lipidsy[lipidsa[lipid][0]],lipidsz[lipidsa[lipid][0]])\\', \"KeyError: \\'PAPM\\'\"]', 'PUPM: [\\'; X: 27.000 (35 lipids) Y: 27.000 (35 lipids)\\', \\'; 1225 lipids in upper leaflet, 1225 lipids in lower leaflet\\', \\'Traceback (most recent call last):\\', \\'  File \"/home/richard/projects/epithelial/insane+SF.py\", line 1321, in <module>\\', \\'    atoms    = zip(lipidsa[lipid][1].split(),lipidsx[lipidsa[lipid][0]],lipidsy[lipidsa[lipid][0]],lipidsz[lipidsa[lipid][0]])\\', \"KeyError: \\'PUPM\\'\"]', 'OQPM: [\\'; X: 27.000 (35 lipids) Y: 27.000 (35 lipids)\\', \\'; 1225 lipids in upper leaflet, 1225 lipids in lower leaflet\\', \\'Traceback (most recent call last):\\', \\'  File \"/home/richard/projects/epithelial/insane+SF.py\", line 1321, in <module>\\', \\'    atoms    = zip(lipidsa[lipid][1].split(),lipidsx[lipidsa[lipid][0]],lipidsy[lipidsa[lipid][0]],lipidsz[lipidsa[lipid][0]])\\', \"KeyError: \\'OQPM\\'\"]', 'OAPM: [\\'; X: 27.000 (35 lipids) Y: 27.000 (35 lipids)\\', \\'; 1225 lipids in upper leaflet, 1225 lipids in lower leaflet\\', \\'Traceback (most recent call last):\\', \\'  File \"/home/richard/projects/epithelial/insane+SF.py\", line 1321, in <module>\\', \\'    atoms    = zip(lipidsa[lipid][1].split(),lipidsx[lipidsa[lipid][0]],lipidsy[lipidsa[lipid][0]],lipidsz[lipidsa[lipid][0]])\\', \"KeyError: \\'OAPM\\'\"]', 'OUPM: [\\'; X: 27.000 (35 lipids) Y: 27.000 (35 lipids)\\', \\'; 1225 lipids in upper leaflet, 1225 lipids in lower leaflet\\', \\'Traceback (most recent call last):\\', \\'  File \"/home/richard/projects/epithelial/insane+SF.py\", line 1321, in <module>\\', \\'    atoms    = zip(lipidsa[lipid][1].split(),lipidsx[lipidsa[lipid][0]],lipidsy[lipidsa[lipid][0]],lipidsz[lipidsa[lipid][0]])\\', \"KeyError: \\'OUPM\\'\"]', 'IAPM: [\\'; X: 27.000 (35 lipids) Y: 27.000 (35 lipids)\\', \\'; 1225 lipids in upper leaflet, 1225 lipids in lower leaflet\\', \\'Traceback (most recent call last):\\', \\'  File \"/home/richard/projects/epithelial/insane+SF.py\", line 1321, in <module>\\', \\'    atoms    = zip(lipidsa[lipid][1].split(),lipidsx[lipidsa[lipid][0]],lipidsy[lipidsa[lipid][0]],lipidsz[lipidsa[lipid][0]])\\', \"KeyError: \\'IAPM\\'\"]', 'IQPM: [\\'; X: 27.000 (35 lipids) Y: 27.000 (35 lipids)\\', \\'; 1225 lipids in upper leaflet, 1225 lipids in lower leaflet\\', \\'Traceback (most recent call last):\\', \\'  File \"/home/richard/projects/epithelial/insane+SF.py\", line 1321, in <module>\\', \\'    atoms    = zip(lipidsa[lipid][1].split(),lipidsx[lipidsa[lipid][0]],lipidsy[lipidsa[lipid][0]],lipidsz[lipidsa[lipid][0]])\\', \"KeyError: \\'IQPM\\'\"]', 'DOPA: -------------------------------------------------------\\n']\n"
     ]
    },
    {
     "data": {
      "text/plain": [
       "<__main__.testlipids at 0x7fb214137c50>"
      ]
     },
     "execution_count": 50,
     "metadata": {},
     "output_type": "execute_result"
    }
   ],
   "source": [
    "# test lipids\n",
    "#Load in utility classes\n",
    "%run ./testlipids.ipynb\n",
    "\n",
    "#load lipids from GRO file\n",
    "lipids=lipidsfromsystem(\"./epithelial\")\n",
    "print(lipids)\n",
    "\n",
    "testlipids(lipids,membrane,insane,mdparams,martinipath).execute(True).report()"
   ]
  },
  {
   "cell_type": "code",
   "execution_count": 53,
   "metadata": {},
   "outputs": [
    {
     "name": "stdout",
     "output_type": "stream",
     "text": [
      "['DPPM', False, ['; X: 27.000 (35 lipids) Y: 27.000 (35 lipids)', '; 1225 lipids in upper leaflet, 1225 lipids in lower leaflet', 'Traceback (most recent call last):', '  File \"/home/richard/projects/epithelial/insane+SF.py\", line 1321, in <module>', '    atoms    = zip(lipidsa[lipid][1].split(),lipidsx[lipidsa[lipid][0]],lipidsy[lipidsa[lipid][0]],lipidsz[lipidsa[lipid][0]])', \"KeyError: 'DPPM'\"]]\n",
      "done\n"
     ]
    }
   ],
   "source": [
    "# test lipids\n",
    "#Load in utility classes\n",
    "%run ./testlipids.ipynb\n",
    "\n",
    "# test an individual lipis species\n",
    "import os #Operating system specific commands\n",
    "#re-compile\n",
    "lipid = 'DPPM'\n",
    "results=[]\n",
    "\n",
    "if build(os.getcwd(),membrane,lipid,insane).execute().report(results).success:\n",
    "    comp = compile(os.getcwd(),membrane,lipid,mdparams,martinipath).execute().report(results)\n",
    "    print(lipid)\n",
    "    if not comp.success:\n",
    "        for line in comp.output:\n",
    "            print(line)\n",
    "else:\n",
    "    for line in results:\n",
    "        print(line)\n",
    "print(\"done\")"
   ]
  },
  {
   "cell_type": "code",
   "execution_count": null,
   "metadata": {},
   "outputs": [],
   "source": []
  }
 ],
 "metadata": {
  "kernelspec": {
   "display_name": "Python 3",
   "language": "python",
   "name": "python3"
  },
  "language_info": {
   "codemirror_mode": {
    "name": "ipython",
    "version": 3
   },
   "file_extension": ".py",
   "mimetype": "text/x-python",
   "name": "python",
   "nbconvert_exporter": "python",
   "pygments_lexer": "ipython3",
   "version": "3.6.9"
  }
 },
 "nbformat": 4,
 "nbformat_minor": 4
}
