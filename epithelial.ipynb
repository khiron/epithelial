{
 "cells": [
  {
   "cell_type": "code",
   "execution_count": 1,
   "metadata": {},
   "outputs": [],
   "source": [
    "#Load in utility classes\n",
    "%run ~/projects/testlipids/testlipids.ipynb\n",
    "import os #Operating system specific commands\n",
    "import re #Regular expression library\n",
    "\n",
    "membrane=\"epithelial\"\n",
    "insane=\"./insane+SF.py\"\n",
    "mdparams=\"./test.mdp\"\n",
    "martinipath=\"./martini.ff\"\n",
    "\n",
    "# TODO:  3000 lipids\n",
    "# TODO:  neuronal membrane\n",
    "# TODO:  plasma membrane"
   ]
  },
  {
   "cell_type": "code",
   "execution_count": 2,
   "metadata": {},
   "outputs": [],
   "source": [
    "# Cleaning up intermediate files from previous runs\n",
    "!rm -f *#*\n",
    "!rm -f *step*\n",
    "!rm -f {membrane}.gro\n",
    "!rm -f {membrane}.edr\n",
    "!rm -f {membrane}.log\n",
    "!rm -f {membrane}.pdb\n",
    "!rm -f {membrane}.tpr\n",
    "!rm -f {membrane}.trr"
   ]
  },
  {
   "cell_type": "code",
   "execution_count": 3,
   "metadata": {},
   "outputs": [],
   "source": [
    "cmdline = \"-u PBSM:0.007 -u PXSM:0.004 -u DPSM:0.017 -u PNSM:0.008 -u DPMC:0.007 -u POMC:0.043 -u DOMC:0.009 -u PIMC:0.009 -u OIMC:0.004 -u OEMC:0.005 -u PAMC:0.012 -u PUMC:0.029 -u POME:0.001 -u DOME:0.006 -u OIME:0.001 -u OQME:0.002 -u OAME:0.014 -u OUME:0.006 -u IAME:0.007 -u IQME:0.001 -u LPPC:0.008 -u DPPC:0.003 -u POPC:0.147 -u DOPC:0.011 -u PIPC:0.088 -u OIPC:0.05 -u PAPC:0.052 -u PUPC:0.05 -u POPE:0.007 -u OPPE:0.002 -u DOPE:0.007 -u PAPE:0.006 -u PUPE:0.002 -u OIPE:0.002 -u PQPE:0.002 -u OQPE:0.001 -u OAPE:0.002 -u OUPE:0.001 -u POPG:0.004 -u DOPG:0.003 -u DODG:0.004 -u PODG:0.007 -l OGPS:0.004 -l DPPS:0.001 -l POPS:0.097 -l DOPS:0.006 -l PAPI:0.029 -l PAP1:0.014 -l PAP2:0.014 -l PQPI:0.02 -l POPI:0.013 -l PUPI:0.008 -l DOPI:0.008 -l PIPI:0.006 -l PEPI:0.004 -l PBSM:0.003 -l PXSM:0.002 -l DPSM:0.007 -l PNSM:0.003 -l DPMC:0.003 -l POMC:0.017 -l DOMC:0.004 -l PIMC:0.003 -l OIMC:0.002 -l OEMC:0.002 -l PAMC:0.005 -l PUMC:0.012 -l POME:0.005 -l DOME:0.021 -l OIME:0.004 -l OQME:0.006 -l OAME:0.054 -l OUME:0.024 -l IAME:0.025 -l IQME:0.003 -l LPPC:0.003 -l DPPC:0.001 -l POPC:0.058 -l DOPC:0.004 -l PIPC:0.035 -l OIPC:0.02 -l PAPC:0.021 -l PUPC:0.02 -l POPA:0.01 -l DOPA:0.005 -l POPE:0.025 -l OPPE:0.009 -l DOPE:0.027 -l PAPE:0.021 -l PUPE:0.008 -l OIPE:0.008 -l PQPE:0.007 -l OQPE:0.004 -l OAPE:0.009 -l OUPE:0.005 -l POPG:0.004 -l DOPG:0.002 -l DODG:0.002 -l PODG:0.004  \"\n",
    " "
   ]
  },
  {
   "cell_type": "code",
   "execution_count": 5,
   "metadata": {},
   "outputs": [
    {
     "name": "stdout",
     "output_type": "stream",
     "text": [
      "Build\n",
      "; X: 35.000 (45 lipids) Y: 35.000 (45 lipids)\n",
      "; 2025 lipids in upper leaflet, 2025 lipids in lower leaflet\n",
      "; NDX Solute 1 0\n",
      "; Charge of protein: 0.000000\n",
      "; NDX Membrane 1 49974\n",
      "; Charge of membrane: -317.000000\n",
      "; Total charge: -317.000000\n",
      "; NDX Solvent 49975 391151\n",
      "; NDX System 1 391151\n"
     ]
    }
   ],
   "source": [
    "print(\"Build\")\n",
    "build = !python2 {insane} -o {membrane}.gro -p {membrane}.top -d 0 -x 35 -y 35 -z 15 -sol PW -salt 0.15 -center -charge 0 -orient {cmdline}  \n",
    "for line in build:\n",
    "    print(line)\n"
   ]
  },
  {
   "cell_type": "code",
   "execution_count": 18,
   "metadata": {},
   "outputs": [],
   "source": [
    "# remove extra descriptive lines in the gro file that would otherwise overrun the buffer during GROMPP\n",
    "import datetime\n",
    "generationDate = datetime.datetime.now().strftime(\"%Y.%m.%d\")\n",
    "!sed -i '1s/.*/Complex Epithelial membrane generated ({generationDate}) using INSANE/' {membrane}.gro\n",
    "\n",
    "# remove extra descriptive lines in the top file that would otherwise overrun the buffer during GROMPP\n",
    "import datetime\n",
    "generationDate = datetime.datetime.now().strftime(\"%Y.%m.%d\")\n",
    "!sed -i '13s/.*/Complex Epithelial membrane generated ({generationDate}) using INSANE/' {membrane}.top"
   ]
  },
  {
   "cell_type": "code",
   "execution_count": 19,
   "metadata": {},
   "outputs": [
    {
     "name": "stdout",
     "output_type": "stream",
     "text": [
      "Grompp\n",
      "                      :-) GROMACS - gmx grompp, 2018.1 (-:\n",
      "\n",
      "                            GROMACS is written by:\n",
      "     Emile Apol      Rossen Apostolov      Paul Bauer     Herman J.C. Berendsen\n",
      "    Par Bjelkmar    Aldert van Buuren   Rudi van Drunen     Anton Feenstra  \n",
      "  Gerrit Groenhof    Aleksei Iupinov   Christoph Junghans   Anca Hamuraru   \n",
      " Vincent Hindriksen Dimitrios Karkoulis    Peter Kasson        Jiri Kraus    \n",
      "  Carsten Kutzner      Per Larsson      Justin A. Lemkul    Viveca Lindahl  \n",
      "  Magnus Lundborg   Pieter Meulenhoff    Erik Marklund      Teemu Murtola   \n",
      "    Szilard Pall       Sander Pronk      Roland Schulz     Alexey Shvetsov  \n",
      "   Michael Shirts     Alfons Sijbers     Peter Tieleman    Teemu Virolainen \n",
      " Christian Wennberg    Maarten Wolf   \n",
      "                           and the project leaders:\n",
      "        Mark Abraham, Berk Hess, Erik Lindahl, and David van der Spoel\n",
      "\n",
      "Copyright (c) 1991-2000, University of Groningen, The Netherlands.\n",
      "Copyright (c) 2001-2017, The GROMACS development team at\n",
      "Uppsala University, Stockholm University and\n",
      "the Royal Institute of Technology, Sweden.\n",
      "check out http://www.gromacs.org for more information.\n",
      "\n",
      "GROMACS is free software; you can redistribute it and/or modify it\n",
      "under the terms of the GNU Lesser General Public License\n",
      "as published by the Free Software Foundation; either version 2.1\n",
      "of the License, or (at your option) any later version.\n",
      "\n",
      "GROMACS:      gmx grompp, version 2018.1\n",
      "Executable:   /usr/bin/gmx\n",
      "Data prefix:  /usr\n",
      "Working dir:  /home/richard/projects/epithelial\n",
      "Command line:\n",
      "  gmx grompp -f ./workspace/run2/emin.mdp -c epithelial.gro -p epithelial.top -o epithelial.tpr\n",
      "\n",
      "Ignoring obsolete mdp entry 'title'\n",
      "Setting the LD random seed to 2108838755\n",
      "Generated 1 of the 741 non-bonded parameter combinations\n",
      "\n",
      "-------------------------------------------------------\n",
      "Program:     gmx grompp, version 2018.1\n",
      "Source file: src/gromacs/gmxpreprocess/grompp.cpp (line 569)\n",
      "\n",
      "Fatal error:\n",
      "No molecules were defined in the system\n",
      "\n",
      "For more information and tips for troubleshooting, please check the GROMACS\n",
      "website at http://www.gromacs.org/Documentation/Errors\n",
      "-------------------------------------------------------\n"
     ]
    }
   ],
   "source": [
    "\n",
    "print(\"Grompp\")\n",
    "grompp = !gmx grompp -f {mdparams} -c {membrane}.gro -p {membrane}.top -o  {membrane}.tpr\n",
    "success=True\n",
    "for line in grompp:\n",
    "    if re.search(\"Fatal error\", line):\n",
    "        success=False\n",
    "    #if not success:\n",
    "    print(line)\n",
    "    \n",
    "if success:\n",
    "    print(\"Run\")\n",
    "    !export GMX_MAXCONSTRWARN=-1\n",
    "    !export GMX_SUPPRESS_DUMP=1\n",
    "    run = !gmx mdrun -v -deffnm {membrane}\n",
    "    summary=\"\"\n",
    "    logfile = membrane+\".log\"\n",
    "    if not os.path.exists(logfile):\n",
    "        print(\"no log file\")\n",
    "        print(\"== === ====\")\n",
    "        for line in run:\n",
    "            print(line)\n",
    "    else:\n",
    "        try:\n",
    "            file = open(logfile, \"r\")\n",
    "            fe = False\n",
    "            for line in file:\n",
    "                if fe:\n",
    "                    success=False\n",
    "                    summary=line\n",
    "                elif re.search(\"^Steepest Descents.*converge\", line):\n",
    "                    success=True\n",
    "                    summary=line\n",
    "                    break\n",
    "                elif re.search(\"Fatal error\", line):\n",
    "                    fe = True\n",
    "        except IOError as exc:\n",
    "            sucess=False;\n",
    "            summary=exc;\n",
    "    if success:\n",
    "        print(\"Success\")\n",
    "    else:\n",
    "        print(summary)\n"
   ]
  },
  {
   "cell_type": "code",
   "execution_count": 8,
   "metadata": {},
   "outputs": [
    {
     "name": "stdout",
     "output_type": "stream",
     "text": [
      "Converting ./epithelial.gro to a pdb file\n",
      "using system specified in ./epithelial.pdb file\n",
      "['PBSM', 'PXSM', 'DPSM', 'PNSM', 'DPMC', 'POMC', 'DOMC', 'PIMC', 'OIMC', 'OEMC', 'PAMC', 'PUMC', 'POME', 'DOME', 'OIME', 'OQME', 'OAME', 'OUME', 'IAME', 'IQME', 'LPPC', 'DPPC', 'POPC', 'DOPC', 'PIPC', 'OIPC', 'PAPC', 'PUPC', 'POPE', 'OPPE', 'DOPE', 'PAPE', 'PUPE', 'OIPE', 'PQPE', 'OQPE', 'OAPE', 'OUPE', 'POPG', 'DOPG', 'DODG', 'PODG', 'OGPS', 'DPPS', 'POPS', 'DOPS', 'PAPI', 'PAP1', 'PAP2', 'PQPI', 'POPI', 'PUPI', 'DOPI', 'PIPI', 'PEPI', 'POPA', 'DOPA']\n",
      "[57]testing lipid PBSM in membrane epithelial...create...compile...minimize\u001b[32m=[success]\u001b[30m: 16.21 secs\n",
      "[56]testing lipid PXSM in membrane epithelial...create...compile...minimize\u001b[32m=[success]\u001b[30m: 25.50 secs\n",
      "[55]testing lipid DPSM in membrane epithelial...create...compile...minimize\u001b[32m=[success]\u001b[30m: 16.50 secs\n",
      "[54]testing lipid PNSM in membrane epithelial...create...compile...minimize\u001b[32m=[success]\u001b[30m: 18.17 secs\n",
      "[53]testing lipid DPMC in membrane epithelial...create...compile...minimize\u001b[31m=[fail]\u001b[30m: 6.62 secs\n",
      "[52]testing lipid POMC in membrane epithelial...create...compile...minimize\u001b[32m=[success]\u001b[30m: 16.85 secs\n",
      "[51]testing lipid DOMC in membrane epithelial...create...compile...minimize\u001b[32m=[success]\u001b[30m: 13.06 secs\n",
      "[50]testing lipid PIMC in membrane epithelial...create...compile...minimize\u001b[32m=[success]\u001b[30m: 17.74 secs\n",
      "[49]testing lipid OIMC in membrane epithelial...create...compile...minimize\u001b[32m=[success]\u001b[30m: 18.38 secs\n",
      "[48]testing lipid OEMC in membrane epithelial...create...compile...minimize\u001b[32m=[success]\u001b[30m: 16.28 secs\n",
      "[47]testing lipid PAMC in membrane epithelial...create...compile...minimize\u001b[32m=[success]\u001b[30m: 12.49 secs\n",
      "[46]testing lipid PUMC in membrane epithelial...create...compile...minimize\u001b[32m=[success]\u001b[30m: 18.54 secs\n",
      "[45]testing lipid POME in membrane epithelial...create...compile...minimize\u001b[32m=[success]\u001b[30m: 12.52 secs\n",
      "[44]testing lipid DOME in membrane epithelial...create...compile...minimize\u001b[32m=[success]\u001b[30m: 12.83 secs\n",
      "[43]testing lipid OIME in membrane epithelial...create...compile...minimize\u001b[32m=[success]\u001b[30m: 22.87 secs\n",
      "[42]testing lipid OQME in membrane epithelial...create...compile...minimize\u001b[32m=[success]\u001b[30m: 14.15 secs\n",
      "[41]testing lipid OAME in membrane epithelial...create...compile...minimize\u001b[32m=[success]\u001b[30m: 13.61 secs\n",
      "[40]testing lipid OUME in membrane epithelial...create...compile...minimize\u001b[32m=[success]\u001b[30m: 14.28 secs\n",
      "[39]testing lipid IAME in membrane epithelial...create...compile...minimize\u001b[32m=[success]\u001b[30m: 14.25 secs\n",
      "[38]testing lipid IQME in membrane epithelial...create...compile...minimize\u001b[32m=[success]\u001b[30m: 12.76 secs\n",
      "[37]testing lipid LPPC in membrane epithelial...create...compile...minimize\u001b[32m=[success]\u001b[30m: 12.59 secs\n",
      "[36]testing lipid DPPC in membrane epithelial...create...compile...minimize\u001b[32m=[success]\u001b[30m: 12.62 secs\n",
      "[35]testing lipid POPC in membrane epithelial...create...compile...minimize\u001b[32m=[success]\u001b[30m: 17.54 secs\n",
      "[34]testing lipid DOPC in membrane epithelial...create...compile...minimize\u001b[32m=[success]\u001b[30m: 17.53 secs\n",
      "[33]testing lipid PIPC in membrane epithelial...create...compile...minimize\u001b[32m=[success]\u001b[30m: 14.89 secs\n",
      "[32]testing lipid OIPC in membrane epithelial...create...compile...minimize\u001b[32m=[success]\u001b[30m: 23.88 secs\n",
      "[31]testing lipid PAPC in membrane epithelial...create...compile...minimize\u001b[32m=[success]\u001b[30m: 17.05 secs\n",
      "[30]testing lipid PUPC in membrane epithelial...create...compile...minimize\u001b[32m=[success]\u001b[30m: 17.20 secs\n",
      "[29]testing lipid POPE in membrane epithelial...create...compile...minimize\u001b[32m=[success]\u001b[30m: 13.82 secs\n",
      "[28]testing lipid OPPE in membrane epithelial...create...compile...minimize\u001b[32m=[success]\u001b[30m: 13.31 secs\n",
      "[27]testing lipid DOPE in membrane epithelial...create...compile...minimize\u001b[32m=[success]\u001b[30m: 16.39 secs\n",
      "[26]testing lipid PAPE in membrane epithelial...create...compile...minimize\u001b[32m=[success]\u001b[30m: 15.64 secs\n",
      "[25]testing lipid PUPE in membrane epithelial...create...compile...minimize\u001b[32m=[success]\u001b[30m: 16.55 secs\n",
      "[24]testing lipid OIPE in membrane epithelial...create...compile...minimize\u001b[32m=[success]\u001b[30m: 12.84 secs\n",
      "[23]testing lipid PQPE in membrane epithelial...create...compile...minimize\u001b[32m=[success]\u001b[30m: 20.15 secs\n",
      "[22]testing lipid OQPE in membrane epithelial...create...compile...minimize\u001b[32m=[success]\u001b[30m: 14.29 secs\n",
      "[21]testing lipid OAPE in membrane epithelial...create...compile...minimize\u001b[32m=[success]\u001b[30m: 18.66 secs\n",
      "[20]testing lipid OUPE in membrane epithelial...create...compile...minimize\u001b[32m=[success]\u001b[30m: 17.34 secs\n",
      "[19]testing lipid POPG in membrane epithelial...create...compile...minimize\u001b[32m=[success]\u001b[30m: 25.14 secs\n",
      "[18]testing lipid DOPG in membrane epithelial...create...compile...minimize\u001b[32m=[success]\u001b[30m: 18.71 secs\n",
      "[17]testing lipid DODG in membrane epithelial...create...compile...minimize\u001b[32m=[success]\u001b[30m: 14.20 secs\n",
      "[16]testing lipid PODG in membrane epithelial...create...compile...minimize\u001b[32m=[success]\u001b[30m: 17.16 secs\n",
      "[15]testing lipid OGPS in membrane epithelial...create...compile...minimize\u001b[32m=[success]\u001b[30m: 16.19 secs\n",
      "[14]testing lipid DPPS in membrane epithelial...create...compile...minimize\u001b[32m=[success]\u001b[30m: 16.00 secs\n",
      "[13]testing lipid POPS in membrane epithelial...create...compile...minimize\u001b[32m=[success]\u001b[30m: 13.84 secs\n",
      "[12]testing lipid DOPS in membrane epithelial...create...compile...minimize\u001b[32m=[success]\u001b[30m: 16.03 secs\n",
      "[11]testing lipid PAPI in membrane epithelial...create...compile...minimize\u001b[32m=[success]\u001b[30m: 41.00 secs\n",
      "[10]testing lipid PAP1 in membrane epithelial...create...compile...minimize\u001b[31m=[fail]\u001b[30m: 7.12 secs\n",
      "[9]testing lipid PAP2 in membrane epithelial...create...compile...minimize\u001b[31m=[fail]\u001b[30m: 6.98 secs\n",
      "[8]testing lipid PQPI in membrane epithelial...create...compile...minimize\u001b[32m=[success]\u001b[30m: 39.25 secs\n",
      "[7]testing lipid POPI in membrane epithelial...create...compile...minimize\u001b[32m=[success]\u001b[30m: 45.56 secs\n",
      "[6]testing lipid PUPI in membrane epithelial...create...compile...minimize\u001b[32m=[success]\u001b[30m: 44.66 secs\n",
      "[5]testing lipid DOPI in membrane epithelial...create...compile...minimize\u001b[32m=[success]\u001b[30m: 46.19 secs\n",
      "[4]testing lipid PIPI in membrane epithelial...create...compile...minimize\u001b[32m=[success]\u001b[30m: 53.34 secs\n",
      "[3]testing lipid PEPI in membrane epithelial...create...compile...minimize\u001b[32m=[success]\u001b[30m: 51.96 secs\n",
      "[2]testing lipid POPA in membrane epithelial...create...compile...minimize\u001b[32m=[success]\u001b[30m: 16.05 secs\n",
      "[1]testing lipid DOPA in membrane epithelial...create...compile...minimize\u001b[32m=[success]\u001b[30m: 15.81 secs\n",
      "\n",
      "Insane:/home/richard/projects/epithelial/insane+SF.py\n",
      "\u001b[32mMinimized 54 lipids: \u001b[30m['PBSM', 'PXSM', 'DPSM', 'PNSM', 'POMC', 'DOMC', 'PIMC', 'OIMC', 'OEMC', 'PAMC', 'PUMC', 'POME', 'DOME', 'OIME', 'OQME', 'OAME', 'OUME', 'IAME', 'IQME', 'LPPC', 'DPPC', 'POPC', 'DOPC', 'PIPC', 'OIPC', 'PAPC', 'PUPC', 'POPE', 'OPPE', 'DOPE', 'PAPE', 'PUPE', 'OIPE', 'PQPE', 'OQPE', 'OAPE', 'OUPE', 'POPG', 'DOPG', 'DODG', 'PODG', 'OGPS', 'DPPS', 'POPS', 'DOPS', 'PAPI', 'PQPI', 'POPI', 'PUPI', 'DOPI', 'PIPI', 'PEPI', 'POPA', 'DOPA']\n",
      "\u001b[31mFailed to minimize 3 lipids: \u001b[30m\n",
      "['DPMC', 'PAP1', 'PAP2']\n",
      "Summaries of failed minimizations:\n",
      "['DPMC: -------------------------------------------------------\\n', 'PAP1: -------------------------------------------------------\\n', 'PAP2: -------------------------------------------------------\\n']\n"
     ]
    },
    {
     "data": {
      "text/plain": [
       "<__main__.testlipids at 0x7f871c1ee198>"
      ]
     },
     "execution_count": 8,
     "metadata": {},
     "output_type": "execute_result"
    }
   ],
   "source": [
    "# test lipids\n",
    "#Load in utility classes\n",
    "%run ./testlipids.ipynb\n",
    "\n",
    "#load lipids from GRO file\n",
    "lipids=lipidsfromsystem(\"./epithelial\")\n",
    "\n",
    "print(lipids)\n",
    "\n",
    "testlipids(lipids,membrane,insane,mdparams,martinipath).execute(True).report()"
   ]
  },
  {
   "cell_type": "code",
   "execution_count": 9,
   "metadata": {},
   "outputs": [
    {
     "name": "stdout",
     "output_type": "stream",
     "text": [
      "cp: './martini.ff' and '/home/richard/projects/epithelial/martini.ff' are the same file\n",
      "DPMC\n",
      "done\n"
     ]
    }
   ],
   "source": [
    "# test lipids\n",
    "#Load in utility classes\n",
    "%run ./testlipids.ipynb\n",
    "\n",
    "# test an individual lipis species\n",
    "import os #Operating system specific commands\n",
    "#re-compile\n",
    "lipid = 'DPMC'\n",
    "results=[]\n",
    "\n",
    "if build(os.getcwd(),membrane,lipid,insane).execute().report(results).success:\n",
    "    comp = compile(os.getcwd(),membrane,lipid,mdparams,martinipath).execute().report(results)\n",
    "    print(lipid)\n",
    "    if not comp.success:\n",
    "        for line in comp.output:\n",
    "            print(line)\n",
    "else:\n",
    "    for line in results:\n",
    "        print(line)\n",
    "print(\"done\")"
   ]
  },
  {
   "cell_type": "code",
   "execution_count": null,
   "metadata": {},
   "outputs": [],
   "source": []
  }
 ],
 "metadata": {
  "kernelspec": {
   "display_name": "Python 3",
   "language": "python",
   "name": "python3"
  },
  "language_info": {
   "codemirror_mode": {
    "name": "ipython",
    "version": 3
   },
   "file_extension": ".py",
   "mimetype": "text/x-python",
   "name": "python",
   "nbconvert_exporter": "python",
   "pygments_lexer": "ipython3",
   "version": "3.6.9"
  }
 },
 "nbformat": 4,
 "nbformat_minor": 4
}
