{
 "cells": [
  {
   "cell_type": "code",
   "execution_count": 58,
   "metadata": {},
   "outputs": [],
   "source": [
    "lipidname = \"OIPC\"\n",
    "tail = \"CDDC CDCC\" \n",
    "link = \"G G\"\n",
    "head = \"C P\"\n",
    "\n",
    "membrane=\"testmembrane\"\n",
    "insane=\"./insane+SF.py\"\n",
    "mdparams=\"./test.mdp\"\n",
    "martinipath=\"./martini.ff\"\n",
    "\n",
    "# Cleaning up intermediate files from previous runs\n",
    "!rm -f *#*\n",
    "!rm -f *step*\n",
    "!rm -f {membrane}*"
   ]
  },
  {
   "cell_type": "code",
   "execution_count": 59,
   "metadata": {},
   "outputs": [
    {
     "name": "stdout",
     "output_type": "stream",
     "text": [
      "Create itp\n",
      "The Martini lipid itp generator version 0.6  Args are: -o ./martini.ff/martini_v2_omaralab.itp -alname OIPC -alhead 'C P' -allink 'G G' -altail 'CDDC CDCC'\n",
      "Done\n"
     ]
    }
   ],
   "source": [
    "print(\"Create itp\")\n",
    "!python {martinipath}/lipid-martini-itp-v06.py -o {martinipath}/martini_v2_omaralab.itp -alname {lipidname} -alhead '{head}' -allink '{link}' -altail '{tail}'\n",
    "print(\"Done\")"
   ]
  },
  {
   "cell_type": "code",
   "execution_count": 62,
   "metadata": {},
   "outputs": [
    {
     "data": {
      "text/html": [
       "<h1>OIPC</h1><br/><img src=\"image.jpg?733572988\" alt=\"Image of OIPC\" width=\"300\">"
      ],
      "text/plain": [
       "<IPython.core.display.HTML object>"
      ]
     },
     "metadata": {},
     "output_type": "display_data"
    }
   ],
   "source": [
    "# build a simple membrane  to visualize this species\n",
    "insane=!python2 {insane} -o {membrane}.gro -p {membrane}.top -d 0 -x 3 -y 3 -z 3 -sol PW -center -charge 0 -u {lipidname}:1 -l {lipidname}:1\n",
    "\n",
    "# use GMX to convert GRO file into a PDB\n",
    "output = !gmx editconf -f {membrane}.gro -o  {membrane}.pdb\n",
    "\n",
    "# create a file to automate rendering an image of the protein, \n",
    "# display projection Orthographic\n",
    "# setting \"bead\" style, \n",
    "# setting the background to white,\n",
    "# turning off the XYZ axes,  \n",
    "# and taking a snapshot \n",
    "\n",
    "with open(\"output.tcl\", \"w\") as file:\n",
    "    file.write(\"mol modselect 0 0 resid 1\\n\")\n",
    "    file.write(\"rotate x by 0\\n\")\n",
    "    file.write(\"rotate y by 120\\n\")\n",
    "    file.write(\"rotate z by 90\\n\")\n",
    "    file.write(\"translate by 0 -1.1 0\\n\")\n",
    "    file.write(\"display projection Orthographic\\n\")\n",
    "    file.write(\"rotate x by 30\\n\")\n",
    "    file.write(\"rotate y by 20\\n\")\n",
    "    file.write(\"mol modstyle 0 0 VDW 0.25 12\\n\")\n",
    "    file.write(\"axes location Off\\n\")\n",
    "    file.write(\"color Display Background white\\n\")\n",
    "    file.write(\"scale by 3.5\\n\")\n",
    "    file.write(\"set sel [atomselect 0 all]\\n\")\n",
    "    file.write(\"set atomlist [$sel list]\\n\")\n",
    "    file.write(\"foreach {atom} $atomlist {\\n\")\n",
    "    file.write(\"    set atomlabel [format \\\"%d/%d\\\" 0 $atom]\\n\")\n",
    "    file.write(\"    label add Atoms $atomlabel\\n\")\n",
    "    file.write(\"}\\n\")\n",
    "    file.write(\"color Labels Atoms blue\\n\")\n",
    "    file.write(\"label textthickness 2\\n\")\n",
    "    file.write(\"label textsize 2\\n\")\n",
    "    file.write(\"rotate z by 30\\n\")\n",
    "    #file.write(\"translate by 0.5 0 0\\n\")\n",
    "    file.write(\"render snapshot image.tga {convert image.tga jpg:image.jpg; rm image.tga}\\n\")\n",
    "    file.write(\"exit\")\n",
    "    \n",
    "# run VMD to render the image \n",
    "output = !vmd {membrane}.pdb -e output.tcl \n",
    "\n",
    "# clean up temporary files\n",
    "#!rm output.tcl\n",
    "\n",
    "import random\n",
    "counter = random.randint(0,2e9)\n",
    "\n",
    "from IPython.display import HTML, display\n",
    "display(HTML('<h1>{}</h1><br/><img src=\"image.jpg?{}\" alt=\"Image of {}\" width=\"300\">'.format(lipidname,counter,lipidname)))"
   ]
  },
  {
   "cell_type": "code",
   "execution_count": 64,
   "metadata": {},
   "outputs": [
    {
     "name": "stdout",
     "output_type": "stream",
     "text": [
      "Test\n",
      "Grompp\n",
      "ERROR 1 [file testmembrane.top, line 19]:\n",
      "  ERROR: The cut-off length is longer than half the shortest box vector or\n",
      "  longer than the smallest box diagonal element. Increase the box size or\n",
      "  decrease rlist.\n",
      "\n",
      "\n",
      "Removing all charge groups because cutoff-scheme=Verlet\n",
      "\n",
      "-------------------------------------------------------\n",
      "Program:     gmx grompp, version 2018.1\n",
      "Source file: src/gromacs/gmxpreprocess/grompp.cpp (line 1991)\n",
      "\n",
      "Fatal error:\n",
      "There was 1 error in input file(s)\n",
      "\n",
      "For more information and tips for troubleshooting, please check the GROMACS\n",
      "website at http://www.gromacs.org/Documentation/Errors\n",
      "-------------------------------------------------------\n"
     ]
    }
   ],
   "source": [
    "import os #Operating system specific commands\n",
    "import re #Regular expression library\n",
    "\n",
    "print(\"Test\")\n",
    "print(\"Grompp\")\n",
    "grompp = !gmx grompp -f {mdparams} -c {membrane}.gro -p {membrane}.top -o  {membrane}.tpr\n",
    "success=True\n",
    "for line in grompp:\n",
    "    if re.search(\"ERROR\", line):\n",
    "        success=False\n",
    "    if re.search(\"Fatal error\", line):\n",
    "        success=False\n",
    "    if not success:\n",
    "        print(line)\n",
    "    \n",
    "if success:\n",
    "    print(\"Run\")\n",
    "    !export GMX_MAXCONSTRWARN=-1\n",
    "    !export GMX_SUPPRESS_DUMP=1\n",
    "    run = !gmx mdrun -v -deffnm {membrane}\n",
    "    summary=\"\"\n",
    "    logfile = membrane+\".log\"\n",
    "    if not os.path.exists(logfile):\n",
    "        print(\"no log file\")\n",
    "        print(\"== === ====\")\n",
    "        for line in run:\n",
    "            print(line)\n",
    "    else:\n",
    "        try:\n",
    "            file = open(logfile, \"r\")\n",
    "            fe = False\n",
    "            for line in file:\n",
    "                if fe:\n",
    "                    success=False\n",
    "                    summary=line\n",
    "                elif re.search(\"^Steepest Descents.*converge\", line):\n",
    "                    success=True\n",
    "                    summary=line\n",
    "                    break\n",
    "                elif re.search(\"Fatal error\", line):\n",
    "                    fe = True\n",
    "        except IOError as exc:\n",
    "            sucess=False;\n",
    "            summary=exc;\n",
    "    if success:\n",
    "        print(\"Success\")\n",
    "    else:\n",
    "        print(summary)"
   ]
  },
  {
   "cell_type": "code",
   "execution_count": null,
   "metadata": {},
   "outputs": [],
   "source": []
  }
 ],
 "metadata": {
  "kernelspec": {
   "display_name": "Python 3",
   "language": "python",
   "name": "python3"
  },
  "language_info": {
   "codemirror_mode": {
    "name": "ipython",
    "version": 3
   },
   "file_extension": ".py",
   "mimetype": "text/x-python",
   "name": "python",
   "nbconvert_exporter": "python",
   "pygments_lexer": "ipython3",
   "version": "3.6.9"
  }
 },
 "nbformat": 4,
 "nbformat_minor": 4
}
