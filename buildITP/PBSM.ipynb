{
 "cells": [
  {
   "cell_type": "code",
   "execution_count": 21,
   "metadata": {},
   "outputs": [],
   "source": [
    "import datetime\n",
    "lipidname = \"PBSM\"\n",
    "tail = \"TCC CCCCC\" \n",
    "link = \"A A\"\n",
    "head = \"C P\"\n",
    "\n",
    "description = \";   A general model sphingomyelin (SM) lipid \\n;      C16:0 palmitic acid , C20:0 arachidoyl   \\n\"\n",
    "modeledOn=\";   This topology follows the standard Martini 2.0 lipid definitions and building block rules.\\n; Reference(s): \\n;   S.J. Marrink, A.H. de Vries, A.E. Mark. Coarse grained model for semi-quantitative lipid simulations. JPC-B, 108:750-760, \\n;   2004. doi:10.1021/jp036508g \\n;   S.J. Marrink, H.J. Risselada, S. Yefimov, D.P. Tieleman, A.H. de Vries. The MARTINI force field: coarse grained model for \\n;   biomolecular simulations. JPC-B, 111:7812-7824, 2007. doi:10.1021/jp071097f \\n;   T.A. Wassenaar, H.I. Ingolfsson, R.A. Bockmann, D.P. Tieleman, S.J. Marrink. Computational lipidomics with insane: a versatile \\n;   tool for generating custom membranes for molecular simulations. JCTC, 150410125128004, 2015. doi:10.1021/acs.jctc.5b00209\\n; Created: \"\n",
    "\n",
    "now = datetime.datetime.now()\n",
    "membrane=\"testmembrane\"\n",
    "insane=\"../insane+SF.py\"\n",
    "mdparams=\"../test.mdp\"\n",
    "martinipath=\"../martini.ff/\"\n",
    "ITPCatalogue=\"./epithelial.cat\"\n",
    "ITPMasterFile=\"martini_v2_epithelial.itp\"\n",
    "\n",
    "modeledOn+= now.strftime(\"%Y.%m.%d\")+\"\\n\"\n",
    "\n",
    "# Cleaning up intermediate files from previous runs\n",
    "!rm -f *#*\n",
    "!rm -f *step*\n",
    "!rm -f {membrane}*"
   ]
  },
  {
   "cell_type": "code",
   "execution_count": 22,
   "metadata": {},
   "outputs": [
    {
     "name": "stdout",
     "output_type": "stream",
     "text": [
      "Create itp\n",
      "The Martini lipid itp generator version 0.6  Args are: -o PBSM.itp -alname PBSM -alhead 'C P' -allink 'A A' -altail 'TCC CCCCC'\r\n"
     ]
    }
   ],
   "source": [
    "import fileinput\n",
    "import os.path\n",
    "\n",
    "print(\"Create itp\")\n",
    "!python {martinipath}/lipid-martini-itp-v06.py -o {lipidname}.itp -alname {lipidname} -name {lipidname} -alhead '{head}' -allink '{link}' -altail '{tail}'\n",
    "\n",
    "#update description and parameters\n",
    "with fileinput.FileInput(lipidname+\".itp\", inplace=True) as file:\n",
    "    for line in file:\n",
    "        if line == \";   This is a ...\\n\":\n",
    "            print(description, end='')\n",
    "        elif line == \";   Was modeled on ...\\n\":\n",
    "            print(modeledOn, end='')\n",
    "        else:\n",
    "            print(line, end='')\n",
    "\n"
   ]
  },
  {
   "cell_type": "code",
   "execution_count": 23,
   "metadata": {},
   "outputs": [
    {
     "name": "stdout",
     "output_type": "stream",
     "text": [
      "Done\n"
     ]
    }
   ],
   "source": [
    "#Add this ITP file to the catalogue file\n",
    "if not os.path.exists(ITPCatalogue):\n",
    "    ITPCatalogueData = []\n",
    "else:\n",
    "    with open(ITPCatalogue, 'r') as file :\n",
    "        ITPCatalogueData = file.read().splitlines()\n",
    "\n",
    "    ITPCatalogueData = [x for x in ITPCatalogueData if not x==lipidname+\".itp\"]\n",
    "\n",
    "ITPCatalogueData.append(lipidname+\".itp\")\n",
    "    \n",
    "with open(ITPCatalogue, 'w') as file :\n",
    "    file.writelines(\"%s\\n\" % item for item in ITPCatalogueData)\n",
    "    \n",
    "#build ITPFile    \n",
    "with open(martinipath+ITPMasterFile, 'w') as masterfile:\n",
    "    for ITPfilename in ITPCatalogueData:\n",
    "        with open(ITPfilename, 'r') as ITPfile :\n",
    "            for line in ITPfile:\n",
    "                masterfile.write(line)\n",
    "    \n",
    "print(\"Done\")"
   ]
  },
  {
   "cell_type": "code",
   "execution_count": 24,
   "metadata": {},
   "outputs": [
    {
     "name": "stdout",
     "output_type": "stream",
     "text": [
      "; X: 3.000 (4 lipids) Y: 3.000 (4 lipids)\r\n",
      "; 16 lipids in upper leaflet, 16 lipids in lower leaflet\r\n",
      "; NDX Solute 1 0\r\n",
      "; Charge of protein: 0.000000\r\n",
      "; NDX Membrane 1 384\r\n",
      "; Charge of membrane: 0.000000\r\n",
      "; Total charge: 0.000000\r\n",
      "; NDX Solvent 385 0\r\n",
      "; NDX System 1 384\r\n"
     ]
    }
   ],
   "source": [
    "# build a simple membrane to visualize this species\n",
    "!python2 {insane} -o {membrane}.gro -p {membrane}.top -d 0 -x 3 -y 3 -z 3 -sol PW -center -charge 0 -orient -u {lipidname}:1 -l {lipidname}:1 -itpPath {martinipath}"
   ]
  },
  {
   "cell_type": "code",
   "execution_count": 25,
   "metadata": {},
   "outputs": [
    {
     "name": "stdout",
     "output_type": "stream",
     "text": [
      "Test\n",
      "Grompp\n",
      "                      :-) GROMACS - gmx grompp, 2018.1 (-:\n",
      "\n",
      "                            GROMACS is written by:\n",
      "     Emile Apol      Rossen Apostolov      Paul Bauer     Herman J.C. Berendsen\n",
      "    Par Bjelkmar    Aldert van Buuren   Rudi van Drunen     Anton Feenstra  \n",
      "  Gerrit Groenhof    Aleksei Iupinov   Christoph Junghans   Anca Hamuraru   \n",
      " Vincent Hindriksen Dimitrios Karkoulis    Peter Kasson        Jiri Kraus    \n",
      "  Carsten Kutzner      Per Larsson      Justin A. Lemkul    Viveca Lindahl  \n",
      "  Magnus Lundborg   Pieter Meulenhoff    Erik Marklund      Teemu Murtola   \n",
      "    Szilard Pall       Sander Pronk      Roland Schulz     Alexey Shvetsov  \n",
      "   Michael Shirts     Alfons Sijbers     Peter Tieleman    Teemu Virolainen \n",
      " Christian Wennberg    Maarten Wolf   \n",
      "                           and the project leaders:\n",
      "        Mark Abraham, Berk Hess, Erik Lindahl, and David van der Spoel\n",
      "\n",
      "Copyright (c) 1991-2000, University of Groningen, The Netherlands.\n",
      "Copyright (c) 2001-2017, The GROMACS development team at\n",
      "Uppsala University, Stockholm University and\n",
      "the Royal Institute of Technology, Sweden.\n",
      "check out http://www.gromacs.org for more information.\n",
      "\n",
      "GROMACS is free software; you can redistribute it and/or modify it\n",
      "under the terms of the GNU Lesser General Public License\n",
      "as published by the Free Software Foundation; either version 2.1\n",
      "of the License, or (at your option) any later version.\n",
      "\n",
      "GROMACS:      gmx grompp, version 2018.1\n",
      "Executable:   /usr/bin/gmx\n",
      "Data prefix:  /usr\n",
      "Working dir:  /home/richard/projects/epithelial/buildITP\n",
      "Command line:\n",
      "  gmx grompp -f ../test.mdp -c testmembrane.gro -p testmembrane.top -o testmembrane.tpr\n",
      "\n",
      "Ignoring obsolete mdp entry 'title'\n",
      "Setting the LD random seed to 338658698\n",
      "Generated 1 of the 741 non-bonded parameter combinations\n",
      "Excluding 1 bonded neighbours molecule type 'PBSM'\n",
      "Excluding 1 bonded neighbours molecule type 'PBSM'\n",
      "Excluding 1 bonded neighbours molecule type 'PW'\n",
      "Removing all charge groups because cutoff-scheme=Verlet\n",
      "Number of degrees of freedom in T-Coupling group System is 1149.00\n",
      "\n",
      "GROMACS reminds you: \"If you don't know what you're doing, use a (M)BAR-based method\" (Erik Lindahl)\n",
      "\n",
      "Analysing residue names:\n",
      "There are:    32      Other residues\n",
      "Analysing residues not classified as Protein/DNA/RNA/Water and splitting into groups...\n",
      "This run will generate roughly 0 Mb of data\n",
      "Run\n",
      "Success\n"
     ]
    }
   ],
   "source": [
    "import os #Operating system specific commands\n",
    "import re #Regular expression library\n",
    "\n",
    "print(\"Test\")\n",
    "print(\"Grompp\")\n",
    "grompp = !gmx grompp -f {mdparams} -c {membrane}.gro -p {membrane}.top -o  {membrane}.tpr\n",
    "success=True\n",
    "for line in grompp:\n",
    "    if re.search(\"ERROR\", line):\n",
    "        success=False\n",
    "    if re.search(\"Fatal error\", line):\n",
    "        success=False\n",
    "    #if not success:\n",
    "    print(line)\n",
    "    \n",
    "if success:\n",
    "    print(\"Run\")\n",
    "    !export GMX_MAXCONSTRWARN=-1\n",
    "    !export GMX_SUPPRESS_DUMP=1\n",
    "    run = !gmx mdrun -v -deffnm {membrane}\n",
    "    summary=\"\"\n",
    "    logfile = membrane+\".log\"\n",
    "    if not os.path.exists(logfile):\n",
    "        print(\"no log file\")\n",
    "        print(\"== === ====\")\n",
    "        for line in run:\n",
    "            print(line)\n",
    "    else:\n",
    "        try:\n",
    "            file = open(logfile, \"r\")\n",
    "            fe = False\n",
    "            for line in file:\n",
    "                if fe:\n",
    "                    success=False\n",
    "                    summary=line\n",
    "                elif re.search(\"^Steepest Descents.*converge\", line):\n",
    "                    success=True\n",
    "                    summary=line\n",
    "                    break\n",
    "                elif re.search(\"Fatal error\", line):\n",
    "                    fe = True\n",
    "        except IOError as exc:\n",
    "            sucess=False;\n",
    "            summary=exc;\n",
    "    if success:\n",
    "        print(\"Success\")\n",
    "    else:\n",
    "        print(summary)"
   ]
  },
  {
   "cell_type": "code",
   "execution_count": null,
   "metadata": {},
   "outputs": [],
   "source": []
  }
 ],
 "metadata": {
  "kernelspec": {
   "display_name": "Python 3",
   "language": "python",
   "name": "python3"
  },
  "language_info": {
   "codemirror_mode": {
    "name": "ipython",
    "version": 3
   },
   "file_extension": ".py",
   "mimetype": "text/x-python",
   "name": "python",
   "nbconvert_exporter": "python",
   "pygments_lexer": "ipython3",
   "version": "3.6.9"
  }
 },
 "nbformat": 4,
 "nbformat_minor": 4
}
