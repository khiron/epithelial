{
 "cells": [
  {
   "cell_type": "code",
   "execution_count": 6,
   "metadata": {},
   "outputs": [],
   "source": [
    "#Load in utility classes\n",
    "%run ../testlipids/testlipids.ipynb\n",
    "\n",
    "membrane=\"epithelial\"\n",
    "insane=\"./insane_RAM.py\"\n",
    "mdparams=\"./test.mdp\"\n",
    "martinipath=\"./martini.ff\""
   ]
  },
  {
   "cell_type": "code",
   "execution_count": 7,
   "metadata": {},
   "outputs": [],
   "source": [
    "# Cleaning up intermediate files from previous runs\n",
    "!rm -f *#*\n",
    "!rm -f *step*\n",
    "!rm -f {membrane}*"
   ]
  },
  {
   "cell_type": "code",
   "execution_count": 13,
   "metadata": {},
   "outputs": [
    {
     "name": "stdout",
     "output_type": "stream",
     "text": [
      "; X: 16.600 (21 lipids) Y: 19.400 (25 lipids)\n",
      "; 525 lipids in upper leaflet, 525 lipids in lower leaflet\n",
      "; NDX Solute 1 0\n",
      "; Charge of protein: 0.000000\n",
      "; NDX Membrane 1 11760\n",
      "; Charge of membrane: 0.000000\n",
      "; Total charge: 0.000000\n",
      "; NDX Solvent 11761 110598\n",
      "; NDX System 1 110598\n"
     ]
    }
   ],
   "source": [
    "#!python2 {insane} -o {membrane}.gro -p {membrane}.top -d 0 -x 16.6 -y 19.4 -z 16 -sol PW -salt 0.15 -center -charge 0 -u CHOL:0.444 -u POPC:0.087 -u DPSM:0.058 -u DPPC:0.053 -u PUPE:0.05 -u DPGS:0.049 -u PAPC:0.046 -u PAPE:0.031 -u DOPC:0.022 -u PUPC:0.017 -u POPE:0.013 -u PNSM:0.013 -u PBSM:0.011 -u PNGS:0.011 -u DPG1:0.009 -u DPG3:0.009 -u DBGS:0.009 -u OAPE:0.007 -u OUPE:0.007 -u POSM:0.007 -u PFPC:0.006 -u OIPC:0.006 -u POGS:0.006 -u OUPC:0.004 -u DPCE:0.004 -u PADG:0.003 -u DBG1:0.002 -u PNG1:0.002 -u DBG3:0.002 -u PNG3:0.002 -u PPC:0.002 -u OIPE:0.001 -u POG1:0.001 -u POG3:0.001 -u DBCE:0.001 -u PNCE:0.001 -u IPC:0.001 -u PPE:0.001 -u IPE:0.001 -u PODG:0.001 -l DPPC:0.03 -l CHOL:0.446 -l PUPE:0.097 -l PAPE:0.061 -l POPC:0.049 -l PUPS:0.034 -l PAPS:0.028 -l PAPC:0.026 -l POPE:0.025 -l POPS:0.025 -l PUPI:0.02 -l DPSM:0.015 -l OUPE:0.014 -l OAPE:0.013 -l POPI:0.013 -l PAPI:0.013 -l DOPC:0.012 -l PUPC:0.01 -l OUPS:0.007 -l DPPS:0.005 -l PIPI:0.005 -l DPCE:0.004 -l PFPC:0.003 -l OIPC:0.003 -l OIPE:0.003 -l PNSM:0.003 -l PBSM:0.003 -l PAPA:0.003 -l PAP1:0.003 -l PAP2:0.003 -l PAP3:0.003 -l PADG:0.003 -l OUPC:0.002 -l POSM:0.002 -l POP1:0.002 -l POP2:0.002 -l POP3:0.002 -l IPE:0.002 -l POPA:0.001 -l DBCE:0.001 -l PNCE:0.001 -l PPC:0.001 -l IPC:0.001 -l PPE:0.001 -l PODG:0.001 \n",
    "\n",
    "!python2 {insane} -o {membrane}.gro -p {membrane}.top -d 0 -x 16.6 -y 19.4 -z 16 -sol PW -salt 0.15 -center -charge 0 -orient -u CHOL:0.2 -u POPC:0.8 -l CHOL:0.2 -l POPC:0.8 "
   ]
  },
  {
   "cell_type": "code",
   "execution_count": 14,
   "metadata": {},
   "outputs": [
    {
     "name": "stdout",
     "output_type": "stream",
     "text": [
      "                      :-) GROMACS - gmx grompp, 2018.1 (-:\n",
      "\n",
      "                            GROMACS is written by:\n",
      "     Emile Apol      Rossen Apostolov      Paul Bauer     Herman J.C. Berendsen\n",
      "    Par Bjelkmar    Aldert van Buuren   Rudi van Drunen     Anton Feenstra  \n",
      "  Gerrit Groenhof    Aleksei Iupinov   Christoph Junghans   Anca Hamuraru   \n",
      " Vincent Hindriksen Dimitrios Karkoulis    Peter Kasson        Jiri Kraus    \n",
      "  Carsten Kutzner      Per Larsson      Justin A. Lemkul    Viveca Lindahl  \n",
      "  Magnus Lundborg   Pieter Meulenhoff    Erik Marklund      Teemu Murtola   \n",
      "    Szilard Pall       Sander Pronk      Roland Schulz     Alexey Shvetsov  \n",
      "   Michael Shirts     Alfons Sijbers     Peter Tieleman    Teemu Virolainen \n",
      " Christian Wennberg    Maarten Wolf   \n",
      "                           and the project leaders:\n",
      "        Mark Abraham, Berk Hess, Erik Lindahl, and David van der Spoel\n",
      "\n",
      "Copyright (c) 1991-2000, University of Groningen, The Netherlands.\n",
      "Copyright (c) 2001-2017, The GROMACS development team at\n",
      "Uppsala University, Stockholm University and\n",
      "the Royal Institute of Technology, Sweden.\n",
      "check out http://www.gromacs.org for more information.\n",
      "\n",
      "GROMACS is free software; you can redistribute it and/or modify it\n",
      "under the terms of the GNU Lesser General Public License\n",
      "as published by the Free Software Foundation; either version 2.1\n",
      "of the License, or (at your option) any later version.\n",
      "\n",
      "GROMACS:      gmx grompp, version 2018.1\n",
      "Executable:   /usr/bin/gmx\n",
      "Data prefix:  /usr\n",
      "Working dir:  /home/richard/projects/epithelial\n",
      "Command line:\n",
      "  gmx grompp -f ./test.mdp -c epithelial.gro -p epithelial.top -o epithelial.tpr\n",
      "\n",
      "Ignoring obsolete mdp entry 'title'\n",
      "Setting the LD random seed to -1645432961\n",
      "Generated 1 of the 741 non-bonded parameter combinations\n",
      "Excluding 1 bonded neighbours molecule type 'CHOL'\n",
      "Excluding 1 bonded neighbours molecule type 'POPC'\n",
      "Excluding 1 bonded neighbours molecule type 'CHOL'\n",
      "Excluding 1 bonded neighbours molecule type 'POPC'\n",
      "Excluding 1 bonded neighbours molecule type 'PW'\n",
      "Excluding 1 bonded neighbours molecule type 'NA+'\n",
      "Excluding 1 bonded neighbours molecule type 'CL-'\n",
      "Cleaning up constraints and constant bonded interactions with virtual sites\n",
      "Removing all charge groups because cutoff-scheme=Verlet\n",
      "Analysing residue names:\n",
      "There are: 34476      Other residues\n",
      "Analysing residues not classified as Protein/DNA/RNA/Water and splitting into groups...\n",
      "Number of degrees of freedom in T-Coupling group System is 263439.00\n",
      "This run will generate roughly 9 Mb of data\n",
      "\n",
      "GROMACS reminds you: \"A Pretty Village Burning Makes a Pretty Fire\" (David Sandstrom)\n",
      "\n"
     ]
    }
   ],
   "source": [
    "!gmx grompp -f {mdparams} -c {membrane}.gro -p {membrane}.top -o  {membrane}.tpr"
   ]
  },
  {
   "cell_type": "code",
   "execution_count": null,
   "metadata": {},
   "outputs": [],
   "source": []
  }
 ],
 "metadata": {
  "kernelspec": {
   "display_name": "Python 3",
   "language": "python",
   "name": "python3"
  },
  "language_info": {
   "codemirror_mode": {
    "name": "ipython",
    "version": 3
   },
   "file_extension": ".py",
   "mimetype": "text/x-python",
   "name": "python",
   "nbconvert_exporter": "python",
   "pygments_lexer": "ipython3",
   "version": "3.6.9"
  }
 },
 "nbformat": 4,
 "nbformat_minor": 4
}
