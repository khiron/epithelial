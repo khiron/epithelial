{
 "cells": [
  {
   "cell_type": "markdown",
   "metadata": {},
   "source": [
    "### Extract the lipid species from a membrane system and test mininmization of a membrane made of each species in isolation\n",
    "- Input:  .gro, .pdb or insane command line\n",
    "- Output: List of lipids that can't find an energy minimization in 50 steps\n"
   ]
  },
  {
   "cell_type": "code",
   "execution_count": 1,
   "metadata": {
    "scrolled": false
   },
   "outputs": [
    {
     "name": "stdout",
     "output_type": "stream",
     "text": [
      "Using system specified from lipidcmd\n",
      "Using 85 lipids extracted from system\n",
      "['CHOL', 'POPC', 'DPSM', 'DPPC', 'PUPE', 'DPGS', 'PAPC', 'PAPE', 'DOPC', 'PUPC', 'POPE', 'PNSM', 'PBSM', 'PNGS', 'DPG1', 'DPG3', 'DBGS', 'OAPE', 'OUPE', 'POSM', 'PFPC', 'OIPC', 'POGS', 'OUPC', 'DPCE', 'PADG', 'DBG1', 'PNG1', 'DBG3', 'PNG3', 'PPC', 'OIPE', 'POG1', 'POG3', 'DBCE', 'PNCE', 'IPC', 'PPE', 'IPE', 'PODG', 'DPPC', 'CHOL', 'PUPE', 'PAPE', 'POPC', 'PUPS', 'PAPS', 'PAPC', 'POPE', 'POPS', 'PUPI', 'DPSM', 'OUPE', 'OAPE', 'POPI', 'PAPI', 'DOPC', 'PUPC', 'OUPS', 'DPPS', 'PIPI', 'DPCE', 'PFPC', 'OIPC', 'OIPE', 'PNSM', 'PBSM', 'PAPA', 'PAP1', 'PAP2', 'PAP3', 'PADG', 'OUPC', 'POSM', 'POP1', 'POP2', 'POP3', 'IPE', 'POPA', 'DBCE', 'PNCE', 'PPC', 'IPC', 'PPE', 'PODG']\n"
     ]
    }
   ],
   "source": [
    "# Generate list of lipid names from inputs\n",
    "import os.path #Operating system specific commandsfor dealing with filepaths\n",
    "import tempfile #Operating system specific commandsfor dealing with tewmporary files and paths \n",
    "\n",
    "# if lipids is populated then use that\n",
    "lipids=[]\n",
    "#lipids=['DPGS', 'PBSM', 'PNGS', 'DBGS', 'OAPE', 'OUPE', 'PFPC', 'OIPC', 'POGS', 'OUPC', 'PNG1', 'DBG3', 'PNG3', 'OIPE', 'POG1', 'POG3', 'DBCE', 'PPE', 'IPE', 'POPS', 'PUPI', 'OUPE', 'OAPE', 'POPI', 'PAPI', 'OUPS', 'PIPI', 'PFPC', 'OIPC', 'OIPE', 'PBSM', 'PAP1', 'PAP2', 'PAP3', 'OUPC', 'POP1', 'POP2', 'POP3', 'IPE', 'DBCE', 'PPE']\n",
    "\n",
    "# otherwise if lipidcmd is populated use that\n",
    "# lipidcmd is an Insane command line from which to draw lipids eg \"-u CHOL:0.444 -u POPC:0.087 -u DPSM:0.058 -u DPPC:0.053 -u PUPE:0.05 -u DPGS:0.049 -u PAPC:0.046 -u PAPE:0.031 -u DOPC:0.022 -u PUPC:0.017 -u POPE:0.013 -u PNSM:0.013 -u PBSM:0.011 -u PNGS:0.011 -u DPG1:0.009 -u DPG3:0.009 -u DBGS:0.009 -u OAPE:0.007 -u OUPE:0.007 -u POSM:0.007 -u PFPC:0.006 -u OIPC:0.006 -u POGS:0.006 -u OUPC:0.004 -u DPCE:0.004 -u PADG:0.003 -u DBG1:0.002 -u PNG1:0.002 -u DBG3:0.002 -u PNG3:0.002 -u PPC:0.002 -u OIPE:0.001 -u POG1:0.001 -u POG3:0.001 -u DBCE:0.001 -u PNCE:0.001 -u IPC:0.001 -u PPE:0.001 -u IPE:0.001 -u PODG:0.001 -l DPPC:0.03 -l CHOL:0.446 -l PUPE:0.097 -l PAPE:0.061 -l POPC:0.049 -l PUPS:0.034 -l PAPS:0.028 -l PAPC:0.026 -l POPE:0.025 -l POPS:0.025 -l PUPI:0.02 -l DPSM:0.015 -l OUPE:0.014 -l OAPE:0.013 -l POPI:0.013 -l PAPI:0.013 -l DOPC:0.012 -l PUPC:0.01 -l OUPS:0.007 -l DPPS:0.005 -l PIPI:0.005 -l DPCE:0.004 -l PFPC:0.003 -l OIPC:0.003 -l OIPE:0.003 -l PNSM:0.003 -l PBSM:0.003 -l PAPA:0.003 -l PAP1:0.003 -l PAP2:0.003 -l PAP3:0.003 -l PADG:0.003 -l OUPC:0.002 -l POSM:0.002 -l POP1:0.002 -l POP2:0.002 -l POP3:0.002 -l IPE:0.002 -l POPA:0.001 -l DBCE:0.001 -l PNCE:0.001 -l PPC:0.001 -l IPC:0.001 -l PPE:0.001 -l PODG:0.001\"\n",
    "lipidcmd = ' -u CHOL:0.444 -u POPC:0.087 -u DPSM:0.058 -u DPPC:0.053 -u PUPE:0.05 -u DPGS:0.049 -u PAPC:0.046 -u PAPE:0.031 -u DOPC:0.022 -u PUPC:0.017 -u POPE:0.013 -u PNSM:0.013 -u PBSM:0.011 -u PNGS:0.011 -u DPG1:0.009 -u DPG3:0.009 -u DBGS:0.009 -u OAPE:0.007 -u OUPE:0.007 -u POSM:0.007 -u PFPC:0.006 -u OIPC:0.006 -u POGS:0.006 -u OUPC:0.004 -u DPCE:0.004 -u PADG:0.003 -u DBG1:0.002 -u PNG1:0.002 -u DBG3:0.002 -u PNG3:0.002 -u PPC:0.002 -u OIPE:0.001 -u POG1:0.001 -u POG3:0.001 -u DBCE:0.001 -u PNCE:0.001 -u IPC:0.001 -u PPE:0.001 -u IPE:0.001 -u PODG:0.001 -l DPPC:0.03 -l CHOL:0.446 -l PUPE:0.097 -l PAPE:0.061 -l POPC:0.049 -l PUPS:0.034 -l PAPS:0.028 -l PAPC:0.026 -l POPE:0.025 -l POPS:0.025 -l PUPI:0.02 -l DPSM:0.015 -l OUPE:0.014 -l OAPE:0.013 -l POPI:0.013 -l PAPI:0.013 -l DOPC:0.012 -l PUPC:0.01 -l OUPS:0.007 -l DPPS:0.005 -l PIPI:0.005 -l DPCE:0.004 -l PFPC:0.003 -l OIPC:0.003 -l OIPE:0.003 -l PNSM:0.003 -l PBSM:0.003 -l PAPA:0.003 -l PAP1:0.003 -l PAP2:0.003 -l PAP3:0.003 -l PADG:0.003 -l OUPC:0.002 -l POSM:0.002 -l POP1:0.002 -l POP2:0.002 -l POP3:0.002 -l IPE:0.002 -l POPA:0.001 -l DBCE:0.001 -l PNCE:0.001 -l PPC:0.001 -l IPC:0.001 -l PPE:0.001 -l PODG:0.001 '  \n",
    "#lipidcmd = \" DPGS:0.049 \" \n",
    "\n",
    "#otherwise pull the lipids from a system defined in membrane\n",
    "membrane = 'hNET_neuronal' #file name to convert eg: hNET_neuronal.gro or hNET_neuronal.pdb\n",
    "useTemp = False #if False current directory will be used and files not cleaned up \n",
    "insane = './insane2015.py'\n",
    "\n",
    "class StopExecution(Exception):\n",
    "    def _render_traceback_(self):\n",
    "        pass\n",
    "\n",
    "pathtoinsane = os.path.abspath(insane)\n",
    "\n",
    "if not lipids:\n",
    "    if lipidcmd: # If lipids is blank then the lipid population will be taken from a model system file\n",
    "        cmds=lipidcmd.split()\n",
    "        for cmd in cmds:\n",
    "            if \":\" in cmd:\n",
    "                lipids.append(cmd.split(\":\")[0])\n",
    "        print(\"Using system specified from lipidcmd\")\n",
    "    else:\n",
    "        if not membrane:\n",
    "            print('requires either a lipid population or file containg a lipid system')\n",
    "            raise StopExecution\n",
    "        if os.path.isfile(membrane+'.gro'): # If the input is a .gro file ... convert it first into a pdb file\n",
    "            print(\"Converting \"+membrane+\".gro to a pdb file\")\n",
    "            output = !gmx editconf -f {membrane}.gro -o {membrane}.pdb\n",
    "        if os.path.isfile(membrane+'.pdb'): # If the input is a .pdb file ... extract all species not amino acids or solvent\n",
    "            print(\"using system specificed in \"+membrane+\".pdb file\")\n",
    "            pdbfile = open(membrane+\".pdb\")\n",
    "            lipids=[]\n",
    "            AAs=[\"ASP\",\"GLY\",\"ALA\",\"GLN\",\"PRO\",\"ARG\",\"GLU\",\"THR\",\"TRP\",\"LYS\",\"ILE\",\"PHE\",\"SER\",\"VAL\",\"TYR\",\"CYS\",\"LEU\",\"MET\",\"ASN\",\"HIS\",]\n",
    "            solvent=[\"PW\",\"CL-\",\"NA+\"]\n",
    "            for line in pdbfile:\n",
    "                col = line.split() \n",
    "                if len(col)>1:\n",
    "                    atom= col[0]\n",
    "                    if atom.strip()==\"ATOM\":\n",
    "                        segment=col[3]\n",
    "                        if (segment not in AAs) and (segment not in solvent):\n",
    "                            if segment not in lipids: \n",
    "                                lipids.append(segment)\n",
    "print(\"Using {} lipids extracted from system\".format(len(lipids)))\n",
    "print(lipids)\n",
    "if not lipids:\n",
    "    print('No lipids specified')\n",
    "    raise StopExecution\n"
   ]
  },
  {
   "cell_type": "code",
   "execution_count": 2,
   "metadata": {},
   "outputs": [
    {
     "name": "stdout",
     "output_type": "stream",
     "text": [
      "[85]testing lipid CHOL in membrane hNET_neuronal...create...compile...minimize\u001b[32m=[success]\u001b[30m: 37.86 secs\n",
      "[84]testing lipid POPC in membrane hNET_neuronal...create...compile...minimize\u001b[32m=[success]\u001b[30m: 12.14 secs\n",
      "[83]testing lipid DPSM in membrane hNET_neuronal...create...compile...minimize\u001b[32m=[success]\u001b[30m: 13.85 secs\n",
      "[82]testing lipid DPPC in membrane hNET_neuronal...create...compile...minimize\u001b[32m=[success]\u001b[30m: 11.93 secs\n",
      "[81]testing lipid PUPE in membrane hNET_neuronal...create...compile...minimize\u001b[32m=[success]\u001b[30m: 11.93 secs\n",
      "[80]testing lipid DPGS in membrane hNET_neuronal...create...compile...minimize\u001b[32m=[success]\u001b[30m: 19.53 secs\n",
      "[79]testing lipid PAPC in membrane hNET_neuronal...create...compile...minimize\u001b[32m=[success]\u001b[30m: 11.62 secs\n",
      "[78]testing lipid PAPE in membrane hNET_neuronal...create...compile...minimize\u001b[32m=[success]\u001b[30m: 11.68 secs\n",
      "[77]testing lipid DOPC in membrane hNET_neuronal...create...compile...minimize\u001b[32m=[success]\u001b[30m: 12.90 secs\n",
      "[76]testing lipid PUPC in membrane hNET_neuronal...create...compile...minimize\u001b[32m=[success]\u001b[30m: 11.67 secs\n",
      "[75]testing lipid POPE in membrane hNET_neuronal...create...compile...minimize\u001b[32m=[success]\u001b[30m: 11.83 secs\n",
      "[74]testing lipid PNSM in membrane hNET_neuronal...create...compile...minimize\u001b[32m=[success]\u001b[30m: 11.17 secs\n",
      "[73]testing lipid PBSM in membrane hNET_neuronal...create...compile\u001b[31m=[fail]\u001b[30m: 2.92 secs\n",
      "[72]testing lipid PNGS in membrane hNET_neuronal...create...compile\u001b[31m=[fail]\u001b[30m: 3.42 secs\n",
      "[71]testing lipid DPG1 in membrane hNET_neuronal...create...compile...minimize\u001b[32m=[success]\u001b[30m: 13.06 secs\n",
      "[70]testing lipid DPG3 in membrane hNET_neuronal...create...compile...minimize\u001b[32m=[success]\u001b[30m: 29.75 secs\n",
      "[69]testing lipid DBGS in membrane hNET_neuronal...create...compile\u001b[31m=[fail]\u001b[30m: 3.14 secs\n",
      "[68]testing lipid OAPE in membrane hNET_neuronal...create...compile\u001b[31m=[fail]\u001b[30m: 3.17 secs\n",
      "[67]testing lipid OUPE in membrane hNET_neuronal...create...compile\u001b[31m=[fail]\u001b[30m: 2.68 secs\n",
      "[66]testing lipid POSM in membrane hNET_neuronal...create...compile...minimize\u001b[32m=[success]\u001b[30m: 13.07 secs\n",
      "[65]testing lipid PFPC in membrane hNET_neuronal...create...compile\u001b[31m=[fail]\u001b[30m: 3.03 secs\n",
      "[64]testing lipid OIPC in membrane hNET_neuronal...create...compile\u001b[31m=[fail]\u001b[30m: 2.79 secs\n",
      "[63]testing lipid POGS in membrane hNET_neuronal...create...compile\u001b[31m=[fail]\u001b[30m: 2.70 secs\n",
      "[62]testing lipid OUPC in membrane hNET_neuronal...create...compile\u001b[31m=[fail]\u001b[30m: 2.69 secs\n",
      "[61]testing lipid DPCE in membrane hNET_neuronal...create...compile...minimize\u001b[32m=[success]\u001b[30m: 13.33 secs\n",
      "[60]testing lipid PADG in membrane hNET_neuronal...create...compile...minimize\u001b[32m=[success]\u001b[30m: 12.89 secs\n",
      "[59]testing lipid DBG1 in membrane hNET_neuronal...create...compile...minimize\u001b[32m=[success]\u001b[30m: 11.95 secs\n",
      "[58]testing lipid PNG1 in membrane hNET_neuronal...create...compile...minimize\u001b[32m=[success]\u001b[30m: 10.01 secs\n",
      "[57]testing lipid DBG3 in membrane hNET_neuronal...create...compile\u001b[31m=[fail]\u001b[30m: 4.21 secs\n",
      "[56]testing lipid PNG3 in membrane hNET_neuronal...create...compile...minimize\u001b[32m=[success]\u001b[30m: 10.25 secs\n",
      "[55]testing lipid PPC in membrane hNET_neuronal...create...compile...minimize\u001b[32m=[success]\u001b[30m: 24.98 secs\n",
      "[54]testing lipid OIPE in membrane hNET_neuronal...create...compile\u001b[31m=[fail]\u001b[30m: 3.00 secs\n",
      "[53]testing lipid POG1 in membrane hNET_neuronal...create...compile\u001b[31m=[fail]\u001b[30m: 4.37 secs\n",
      "[52]testing lipid POG3 in membrane hNET_neuronal...create...compile\u001b[31m=[fail]\u001b[30m: 3.94 secs\n",
      "[51]testing lipid DBCE in membrane hNET_neuronal...create...compile\u001b[31m=[fail]\u001b[30m: 3.40 secs\n",
      "[50]testing lipid PNCE in membrane hNET_neuronal...create...compile...minimize\u001b[32m=[success]\u001b[30m: 13.69 secs\n",
      "[49]testing lipid IPC in membrane hNET_neuronal...create...compile...minimize\u001b[32m=[success]\u001b[30m: 25.10 secs\n",
      "[48]testing lipid PPE in membrane hNET_neuronal...create...compile\u001b[31m=[fail]\u001b[30m: 2.82 secs\n",
      "[47]testing lipid IPE in membrane hNET_neuronal...create...compile\u001b[31m=[fail]\u001b[30m: 2.76 secs\n",
      "[46]testing lipid PODG in membrane hNET_neuronal...create...compile...minimize\u001b[32m=[success]\u001b[30m: 13.58 secs\n",
      "[45]testing lipid DPPC in membrane hNET_neuronal...create...compile...minimize\u001b[32m=[success]\u001b[30m: 12.98 secs\n",
      "[44]testing lipid CHOL in membrane hNET_neuronal...create...compile...minimize\u001b[32m=[success]\u001b[30m: 39.77 secs\n",
      "[43]testing lipid PUPE in membrane hNET_neuronal...create...compile...minimize\u001b[32m=[success]\u001b[30m: 16.46 secs\n",
      "[42]testing lipid PAPE in membrane hNET_neuronal...create...compile...minimize\u001b[32m=[success]\u001b[30m: 15.88 secs\n",
      "[41]testing lipid POPC in membrane hNET_neuronal...create...compile...minimize\u001b[32m=[success]\u001b[30m: 15.94 secs\n",
      "[40]testing lipid PUPS in membrane hNET_neuronal...create...compile...minimize\u001b[32m=[success]\u001b[30m: 19.30 secs\n",
      "[39]testing lipid PAPS in membrane hNET_neuronal...create...compile...minimize\u001b[32m=[success]\u001b[30m: 11.42 secs\n",
      "[38]testing lipid PAPC in membrane hNET_neuronal...create...compile...minimize\u001b[32m=[success]\u001b[30m: 15.04 secs\n",
      "[37]testing lipid POPE in membrane hNET_neuronal...create...compile...minimize\u001b[32m=[success]\u001b[30m: 15.56 secs\n",
      "[36]testing lipid POPS in membrane hNET_neuronal...create...compile\u001b[31m=[fail]\u001b[30m: 4.48 secs\n",
      "[35]testing lipid PUPI in membrane hNET_neuronal...create...compile\u001b[31m=[fail]\u001b[30m: 3.98 secs\n",
      "[34]testing lipid DPSM in membrane hNET_neuronal...create...compile...minimize\u001b[31m=[fail]\u001b[30m: 10.70 secs\n",
      "[33]testing lipid OUPE in membrane hNET_neuronal...create...compile\u001b[31m=[fail]\u001b[30m: 5.51 secs\n",
      "[32]testing lipid OAPE in membrane hNET_neuronal...create...compile\u001b[31m=[fail]\u001b[30m: 2.86 secs\n",
      "[31]testing lipid POPI in membrane hNET_neuronal...create...compile\u001b[31m=[fail]\u001b[30m: 3.55 secs\n",
      "[30]testing lipid PAPI in membrane hNET_neuronal...create...compile\u001b[31m=[fail]\u001b[30m: 4.47 secs\n",
      "[29]testing lipid DOPC in membrane hNET_neuronal...create...compile...minimize\u001b[32m=[success]\u001b[30m: 16.07 secs\n",
      "[28]testing lipid PUPC in membrane hNET_neuronal...create...compile...minimize\u001b[32m=[success]\u001b[30m: 12.23 secs\n",
      "[27]testing lipid OUPS in membrane hNET_neuronal...create...compile\u001b[31m=[fail]\u001b[30m: 2.84 secs\n",
      "[26]testing lipid DPPS in membrane hNET_neuronal...create...compile...minimize\u001b[32m=[success]\u001b[30m: 11.64 secs\n",
      "[25]testing lipid PIPI in membrane hNET_neuronal...create...compile\u001b[31m=[fail]\u001b[30m: 3.87 secs\n",
      "[24]testing lipid DPCE in membrane hNET_neuronal...create...compile...minimize\u001b[32m=[success]\u001b[30m: 12.61 secs\n",
      "[23]testing lipid PFPC in membrane hNET_neuronal...create...compile\u001b[31m=[fail]\u001b[30m: 2.69 secs\n",
      "[22]testing lipid OIPC in membrane hNET_neuronal...create...compile\u001b[31m=[fail]\u001b[30m: 2.74 secs\n",
      "[21]testing lipid OIPE in membrane hNET_neuronal...create...compile\u001b[31m=[fail]\u001b[30m: 2.64 secs\n",
      "[20]testing lipid PNSM in membrane hNET_neuronal...create...compile...minimize\u001b[32m=[success]\u001b[30m: 11.33 secs\n",
      "[19]testing lipid PBSM in membrane hNET_neuronal...create...compile\u001b[31m=[fail]\u001b[30m: 2.60 secs\n",
      "[18]testing lipid PAPA in membrane hNET_neuronal...create...compile...minimize\u001b[32m=[success]\u001b[30m: 12.22 secs\n",
      "[17]testing lipid PAP1 in membrane hNET_neuronal...create...compile\u001b[31m=[fail]\u001b[30m: 3.23 secs\n",
      "[16]testing lipid PAP2 in membrane hNET_neuronal...create...compile\u001b[31m=[fail]\u001b[30m: 3.14 secs\n",
      "[15]testing lipid PAP3 in membrane hNET_neuronal...create...compile\u001b[31m=[fail]\u001b[30m: 3.44 secs\n",
      "[14]testing lipid PADG in membrane hNET_neuronal...create...compile...minimize\u001b[32m=[success]\u001b[30m: 13.12 secs\n",
      "[13]testing lipid OUPC in membrane hNET_neuronal...create...compile\u001b[31m=[fail]\u001b[30m: 2.70 secs\n",
      "[12]testing lipid POSM in membrane hNET_neuronal...create...compile...minimize\u001b[32m=[success]\u001b[30m: 12.03 secs\n",
      "[11]testing lipid POP1 in membrane hNET_neuronal...create...compile\u001b[31m=[fail]\u001b[30m: 3.97 secs\n",
      "[10]testing lipid POP2 in membrane hNET_neuronal...create...compile\u001b[31m=[fail]\u001b[30m: 4.81 secs\n",
      "[9]testing lipid POP3 in membrane hNET_neuronal...create...compile\u001b[31m=[fail]\u001b[30m: 5.03 secs\n",
      "[8]testing lipid IPE in membrane hNET_neuronal...create...compile\u001b[31m=[fail]\u001b[30m: 3.21 secs\n",
      "[7]testing lipid POPA in membrane hNET_neuronal...create...compile...minimize\u001b[32m=[success]\u001b[30m: 15.66 secs\n"
     ]
    },
    {
     "name": "stdout",
     "output_type": "stream",
     "text": [
      "[6]testing lipid DBCE in membrane hNET_neuronal...create...compile\u001b[31m=[fail]\u001b[30m: 2.93 secs\n",
      "[5]testing lipid PNCE in membrane hNET_neuronal...create...compile...minimize\u001b[32m=[success]\u001b[30m: 13.55 secs\n",
      "[4]testing lipid PPC in membrane hNET_neuronal...create...compile...minimize\u001b[32m=[success]\u001b[30m: 24.07 secs\n",
      "[3]testing lipid IPC in membrane hNET_neuronal...create...compile...minimize\u001b[32m=[success]\u001b[30m: 22.45 secs\n",
      "[2]testing lipid PPE in membrane hNET_neuronal...create...compile\u001b[31m=[fail]\u001b[30m: 2.07 secs\n",
      "[1]testing lipid PODG in membrane hNET_neuronal...create...compile...minimize\u001b[32m=[success]\u001b[30m: 13.12 secs\n",
      "\n",
      "Insane:/home/richard/projects/hNET_neuronal/debug/insane2015_RAM.py\n",
      "\u001b[32mMinimized 46 lipids: \u001b[30m['CHOL', 'POPC', 'DPSM', 'DPPC', 'PUPE', 'DPGS', 'PAPC', 'PAPE', 'DOPC', 'PUPC', 'POPE', 'PNSM', 'DPG1', 'DPG3', 'POSM', 'DPCE', 'PADG', 'DBG1', 'PNG1', 'PNG3', 'PPC', 'PNCE', 'IPC', 'PODG', 'DPPC', 'CHOL', 'PUPE', 'PAPE', 'POPC', 'PUPS', 'PAPS', 'PAPC', 'POPE', 'DOPC', 'PUPC', 'DPPS', 'DPCE', 'PNSM', 'PAPA', 'PADG', 'POSM', 'POPA', 'PNCE', 'PPC', 'IPC', 'PODG']\n",
      "\u001b[31mFailed to minimize 39 lipids: \u001b[30m\n",
      "['PBSM', 'PNGS', 'DBGS', 'OAPE', 'OUPE', 'PFPC', 'OIPC', 'POGS', 'OUPC', 'DBG3', 'OIPE', 'POG1', 'POG3', 'DBCE', 'PPE', 'IPE', 'POPS', 'PUPI', 'DPSM', 'OUPE', 'OAPE', 'POPI', 'PAPI', 'OUPS', 'PIPI', 'PFPC', 'OIPC', 'OIPE', 'PBSM', 'PAP1', 'PAP2', 'PAP3', 'OUPC', 'POP1', 'POP2', 'POP3', 'IPE', 'DBCE', 'PPE']\n",
      "Summaries of failed minimizations:\n",
      "['PBSM: There was 1 error in input file(s)  For more information and tips for troubleshooting, please check the GROMACS website at http://www.gromacs.org/Documentation/Errors -------------------------------------------------------', 'PNGS: There was 1 error in input file(s)  For more information and tips for troubleshooting, please check the GROMACS website at http://www.gromacs.org/Documentation/Errors -------------------------------------------------------', 'DBGS: There was 1 error in input file(s)  For more information and tips for troubleshooting, please check the GROMACS website at http://www.gromacs.org/Documentation/Errors -------------------------------------------------------', 'OAPE: There was 1 error in input file(s)  For more information and tips for troubleshooting, please check the GROMACS website at http://www.gromacs.org/Documentation/Errors -------------------------------------------------------', 'OUPE: There was 1 error in input file(s)  For more information and tips for troubleshooting, please check the GROMACS website at http://www.gromacs.org/Documentation/Errors -------------------------------------------------------', 'PFPC: There was 1 error in input file(s)  For more information and tips for troubleshooting, please check the GROMACS website at http://www.gromacs.org/Documentation/Errors -------------------------------------------------------', 'OIPC: There was 1 error in input file(s)  For more information and tips for troubleshooting, please check the GROMACS website at http://www.gromacs.org/Documentation/Errors -------------------------------------------------------', 'POGS: There was 1 error in input file(s)  For more information and tips for troubleshooting, please check the GROMACS website at http://www.gromacs.org/Documentation/Errors -------------------------------------------------------', 'OUPC: There was 1 error in input file(s)  For more information and tips for troubleshooting, please check the GROMACS website at http://www.gromacs.org/Documentation/Errors -------------------------------------------------------', 'DBG3: There was 1 error in input file(s)  For more information and tips for troubleshooting, please check the GROMACS website at http://www.gromacs.org/Documentation/Errors -------------------------------------------------------', 'OIPE: There was 1 error in input file(s)  For more information and tips for troubleshooting, please check the GROMACS website at http://www.gromacs.org/Documentation/Errors -------------------------------------------------------', 'POG1: There was 1 error in input file(s)  For more information and tips for troubleshooting, please check the GROMACS website at http://www.gromacs.org/Documentation/Errors -------------------------------------------------------', 'POG3: There was 1 error in input file(s)  For more information and tips for troubleshooting, please check the GROMACS website at http://www.gromacs.org/Documentation/Errors -------------------------------------------------------', 'DBCE: There was 1 error in input file(s)  For more information and tips for troubleshooting, please check the GROMACS website at http://www.gromacs.org/Documentation/Errors -------------------------------------------------------', 'PPE: There was 1 error in input file(s)  For more information and tips for troubleshooting, please check the GROMACS website at http://www.gromacs.org/Documentation/Errors -------------------------------------------------------', 'IPE: There was 1 error in input file(s)  For more information and tips for troubleshooting, please check the GROMACS website at http://www.gromacs.org/Documentation/Errors -------------------------------------------------------', 'POPS: Too many warnings (1). If you are sure all warnings are harmless, use the -maxwarn option.  For more information and tips for troubleshooting, please check the GROMACS website at http://www.gromacs.org/Documentation/Errors ------------------------------------------------------- Analysing residue names: There are: 64043      Other residues Analysing residues not classified as Protein/DNA/RNA/Water and splitting into groups... This run will generate roughly 17 Mb of data', 'PUPI: Too many warnings (1). If you are sure all warnings are harmless, use the -maxwarn option.  For more information and tips for troubleshooting, please check the GROMACS website at http://www.gromacs.org/Documentation/Errors ------------------------------------------------------- Analysing residue names: There are: 56903      Other residues Analysing residues not classified as Protein/DNA/RNA/Water and splitting into groups... This run will generate roughly 16 Mb of data', 'DPSM: -------------------------------------------------------\\n', 'OUPE: There was 1 error in input file(s)  For more information and tips for troubleshooting, please check the GROMACS website at http://www.gromacs.org/Documentation/Errors -------------------------------------------------------', 'OAPE: There was 1 error in input file(s)  For more information and tips for troubleshooting, please check the GROMACS website at http://www.gromacs.org/Documentation/Errors -------------------------------------------------------', 'POPI: Too many warnings (1). If you are sure all warnings are harmless, use the -maxwarn option.  For more information and tips for troubleshooting, please check the GROMACS website at http://www.gromacs.org/Documentation/Errors ------------------------------------------------------- Analysing residue names: There are: 62950      Other residues Analysing residues not classified as Protein/DNA/RNA/Water and splitting into groups... This run will generate roughly 17 Mb of data', 'PAPI: Too many warnings (1). If you are sure all warnings are harmless, use the -maxwarn option.  For more information and tips for troubleshooting, please check the GROMACS website at http://www.gromacs.org/Documentation/Errors ------------------------------------------------------- Analysing residue names: There are: 56903      Other residues Analysing residues not classified as Protein/DNA/RNA/Water and splitting into groups... This run will generate roughly 16 Mb of data', 'OUPS: There was 1 error in input file(s)  For more information and tips for troubleshooting, please check the GROMACS website at http://www.gromacs.org/Documentation/Errors -------------------------------------------------------', 'PIPI: Too many warnings (1). If you are sure all warnings are harmless, use the -maxwarn option.  For more information and tips for troubleshooting, please check the GROMACS website at http://www.gromacs.org/Documentation/Errors ------------------------------------------------------- Analysing residue names: There are: 62950      Other residues Analysing residues not classified as Protein/DNA/RNA/Water and splitting into groups... This run will generate roughly 17 Mb of data', 'PFPC: There was 1 error in input file(s)  For more information and tips for troubleshooting, please check the GROMACS website at http://www.gromacs.org/Documentation/Errors -------------------------------------------------------', 'OIPC: There was 1 error in input file(s)  For more information and tips for troubleshooting, please check the GROMACS website at http://www.gromacs.org/Documentation/Errors -------------------------------------------------------', 'OIPE: There was 1 error in input file(s)  For more information and tips for troubleshooting, please check the GROMACS website at http://www.gromacs.org/Documentation/Errors -------------------------------------------------------', 'PBSM: There was 1 error in input file(s)  For more information and tips for troubleshooting, please check the GROMACS website at http://www.gromacs.org/Documentation/Errors -------------------------------------------------------', 'PAP1: There was 1 error in input file(s)  For more information and tips for troubleshooting, please check the GROMACS website at http://www.gromacs.org/Documentation/Errors -------------------------------------------------------', 'PAP2: There was 1 error in input file(s)  For more information and tips for troubleshooting, please check the GROMACS website at http://www.gromacs.org/Documentation/Errors -------------------------------------------------------', 'PAP3: There was 1 error in input file(s)  For more information and tips for troubleshooting, please check the GROMACS website at http://www.gromacs.org/Documentation/Errors -------------------------------------------------------', 'OUPC: There was 1 error in input file(s)  For more information and tips for troubleshooting, please check the GROMACS website at http://www.gromacs.org/Documentation/Errors -------------------------------------------------------', 'POP1: Too many warnings (1). If you are sure all warnings are harmless, use the -maxwarn option.  For more information and tips for troubleshooting, please check the GROMACS website at http://www.gromacs.org/Documentation/Errors ------------------------------------------------------- Analysing residue names: There are: 57354      Other residues Analysing residues not classified as Protein/DNA/RNA/Water and splitting into groups... This run will generate roughly 16 Mb of data', 'POP2: Too many warnings (1). If you are sure all warnings are harmless, use the -maxwarn option.  For more information and tips for troubleshooting, please check the GROMACS website at http://www.gromacs.org/Documentation/Errors ------------------------------------------------------- Analysing residue names: There are: 56967      Other residues Analysing residues not classified as Protein/DNA/RNA/Water and splitting into groups... This run will generate roughly 16 Mb of data', 'POP3: Too many warnings (1). If you are sure all warnings are harmless, use the -maxwarn option.  For more information and tips for troubleshooting, please check the GROMACS website at http://www.gromacs.org/Documentation/Errors ------------------------------------------------------- Analysing residue names: There are: 56903      Other residues Analysing residues not classified as Protein/DNA/RNA/Water and splitting into groups... This run will generate roughly 16 Mb of data', 'IPE: There was 1 error in input file(s)  For more information and tips for troubleshooting, please check the GROMACS website at http://www.gromacs.org/Documentation/Errors -------------------------------------------------------', 'DBCE: There was 1 error in input file(s)  For more information and tips for troubleshooting, please check the GROMACS website at http://www.gromacs.org/Documentation/Errors -------------------------------------------------------', 'PPE: There was 1 error in input file(s)  For more information and tips for troubleshooting, please check the GROMACS website at http://www.gromacs.org/Documentation/Errors -------------------------------------------------------']\n"
     ]
    },
    {
     "data": {
      "text/plain": [
       "<__main__.testlipids at 0x7fa6fc050ac8>"
      ]
     },
     "execution_count": 2,
     "metadata": {},
     "output_type": "execute_result"
    }
   ],
   "source": [
    "#Load in utility classes\n",
    "%run ../notebooks/testlipids.ipynb\n",
    "\n",
    "insane=\"./insane2015_RAM.py\"\n",
    "mdparams=\"/home/richard/projects/hNET_neuronal/debug/test.mdp\"\n",
    "martinipath=\"/home/richard/projects/hNET_neuronal/debug/martini.ff\"\n",
    "\n",
    "\n",
    "testlipids(lipids,membrane,insane,mdparams,martinipath).execute(True).report()"
   ]
  },
  {
   "cell_type": "markdown",
   "metadata": {},
   "source": [
    "## re-compiling and testing minimization for just one lipid species by name\n",
    "\n",
    "set the variable lipid to the name of one of the species created above\n"
   ]
  },
  {
   "cell_type": "code",
   "execution_count": 94,
   "metadata": {},
   "outputs": [
    {
     "name": "stdout",
     "output_type": "stream",
     "text": [
      "PNG1\n",
      "['                      :-) GROMACS - gmx grompp, 2019.1 (-:', '', '                            GROMACS is written by:', '     Emile Apol      Rossen Apostolov      Paul Bauer     Herman J.C. Berendsen', '    Par Bjelkmar      Christian Blau   Viacheslav Bolnykh     Kevin Boyd    ', ' Aldert van Buuren   Rudi van Drunen     Anton Feenstra       Alan Gray     ', '  Gerrit Groenhof     Anca Hamuraru    Vincent Hindriksen  M. Eric Irrgang  ', '  Aleksei Iupinov   Christoph Junghans     Joe Jordan     Dimitrios Karkoulis', '    Peter Kasson        Jiri Kraus      Carsten Kutzner      Per Larsson    ', '  Justin A. Lemkul    Viveca Lindahl    Magnus Lundborg     Erik Marklund   ', '    Pascal Merz     Pieter Meulenhoff    Teemu Murtola       Szilard Pall   ', '    Sander Pronk      Roland Schulz      Michael Shirts    Alexey Shvetsov  ', '   Alfons Sijbers     Peter Tieleman      Jon Vincent      Teemu Virolainen ', ' Christian Wennberg    Maarten Wolf   ', '                           and the project leaders:', '        Mark Abraham, Berk Hess, Erik Lindahl, and David van der Spoel', '', 'Copyright (c) 1991-2000, University of Groningen, The Netherlands.', 'Copyright (c) 2001-2018, The GROMACS development team at', 'Uppsala University, Stockholm University and', 'the Royal Institute of Technology, Sweden.', 'check out http://www.gromacs.org for more information.', '', 'GROMACS is free software; you can redistribute it and/or modify it', 'under the terms of the GNU Lesser General Public License', 'as published by the Free Software Foundation; either version 2.1', 'of the License, or (at your option) any later version.', '', 'GROMACS:      gmx grompp, version 2019.1', 'Executable:   /usr/bin/gmx', 'Data prefix:  /usr', 'Working dir:  /home/richard/Desktop/projects/hNET_neuronal/debug', 'Command line:', '  gmx grompp -f test.mdp -c /home/richard/Desktop/projects/hNET_neuronal/debug/hNET_neuronalPNG1.gro -p /home/richard/Desktop/projects/hNET_neuronal/debug/hNET_neuronalPNG1.top -o /home/richard/Desktop/projects/hNET_neuronal/debug/hNET_neuronalPNG1.tpr', '', \"Ignoring obsolete mdp entry 'title'\", 'Setting the LD random seed to -109734872', 'Generated 1 of the 741 non-bonded parameter combinations', \"Excluding 1 bonded neighbours molecule type 'PNG1'\", \"Excluding 1 bonded neighbours molecule type 'PNG1'\", \"Excluding 1 bonded neighbours molecule type 'PW'\", \"Excluding 1 bonded neighbours molecule type 'NA+'\", \"Excluding 1 bonded neighbours molecule type 'CL-'\", '', 'NOTE 1 [file hNET_neuronalPNG1.top, line 15]:', '  System has non-zero total charge: -2450.000000', '  Total charge should normally be an integer. See', '  http://www.gromacs.org/Documentation/Floating_Point_Arithmetic', '  for discussion on how close it should be to an integer.', '  ', '', '', '', '-------------------------------------------------------', 'Program:     gmx grompp, version 2019.1', 'Source file: src/gromacs/gmxpreprocess/grompp.cpp (line 610)', '', 'Fatal error:', 'number of coordinates in coordinate file', '(/home/richard/Desktop/projects/hNET_neuronal/debug/hNET_neuronalPNG1.gro,', '171045)', '             does not match topology', '(/home/richard/Desktop/projects/hNET_neuronal/debug/hNET_neuronalPNG1.top,', '175945)', '', 'For more information and tips for troubleshooting, please check the GROMACS', 'website at http://www.gromacs.org/Documentation/Errors', '-------------------------------------------------------']\n"
     ]
    }
   ],
   "source": [
    "import os #Operating system specific commands\n",
    "#re-compile\n",
    "lipid = 'PNG1'\n",
    "results=[]\n",
    "membrane='hNET_neuronal'\n",
    "\n",
    "comp = compile(os.getcwd(),membrane,lipid).execute().report(results)\n",
    "print(lipid)\n",
    "if not comp.success:\n",
    "    print(comp.output)\n",
    "\n"
   ]
  },
  {
   "cell_type": "markdown",
   "metadata": {},
   "source": [
    "## Tools\n"
   ]
  },
  {
   "cell_type": "code",
   "execution_count": 17,
   "metadata": {},
   "outputs": [
    {
     "ename": "FileNotFoundError",
     "evalue": "[Errno 2] No such file or directory: '/home/richard/Desktop/projects/hNET_neuronal/debug/hNET_neuronalPNG1.gro'",
     "output_type": "error",
     "traceback": [
      "\u001b[0;31m---------------------------------------------------------------------------\u001b[0m",
      "\u001b[0;31mFileNotFoundError\u001b[0m                         Traceback (most recent call last)",
      "\u001b[0;32m<ipython-input-17-f24d1be73903>\u001b[0m in \u001b[0;36m<module>\u001b[0;34m\u001b[0m\n\u001b[1;32m     26\u001b[0m         \u001b[0;32mreturn\u001b[0m \u001b[0mself\u001b[0m\u001b[0;34m\u001b[0m\u001b[0;34m\u001b[0m\u001b[0m\n\u001b[1;32m     27\u001b[0m \u001b[0;34m\u001b[0m\u001b[0m\n\u001b[0;32m---> 28\u001b[0;31m \u001b[0mgro\u001b[0m\u001b[0;34m(\u001b[0m\u001b[0mos\u001b[0m\u001b[0;34m.\u001b[0m\u001b[0mgetcwd\u001b[0m\u001b[0;34m(\u001b[0m\u001b[0;34m)\u001b[0m\u001b[0;34m,\u001b[0m\u001b[0mmembrane\u001b[0m\u001b[0;34m,\u001b[0m\u001b[0;34m\"PNG1\"\u001b[0m\u001b[0;34m)\u001b[0m\u001b[0;34m.\u001b[0m\u001b[0manalyze\u001b[0m\u001b[0;34m(\u001b[0m\u001b[0;34m)\u001b[0m\u001b[0;34m.\u001b[0m\u001b[0mspecies\u001b[0m\u001b[0;34m\u001b[0m\u001b[0;34m\u001b[0m\u001b[0m\n\u001b[0m",
      "\u001b[0;32m<ipython-input-17-f24d1be73903>\u001b[0m in \u001b[0;36m__init__\u001b[0;34m(self, path, membrane, lipid)\u001b[0m\n\u001b[1;32m      8\u001b[0m         \u001b[0mself\u001b[0m\u001b[0;34m.\u001b[0m\u001b[0mmembrane\u001b[0m\u001b[0;34m=\u001b[0m\u001b[0mmembrane\u001b[0m\u001b[0;34m\u001b[0m\u001b[0;34m\u001b[0m\u001b[0m\n\u001b[1;32m      9\u001b[0m         \u001b[0mself\u001b[0m\u001b[0;34m.\u001b[0m\u001b[0mlipid\u001b[0m\u001b[0;34m=\u001b[0m\u001b[0mlipid\u001b[0m\u001b[0;34m\u001b[0m\u001b[0;34m\u001b[0m\u001b[0m\n\u001b[0;32m---> 10\u001b[0;31m         \u001b[0mself\u001b[0m\u001b[0;34m.\u001b[0m\u001b[0mfile\u001b[0m \u001b[0;34m=\u001b[0m \u001b[0mopen\u001b[0m\u001b[0;34m(\u001b[0m\u001b[0mos\u001b[0m\u001b[0;34m.\u001b[0m\u001b[0mpath\u001b[0m\u001b[0;34m.\u001b[0m\u001b[0mjoin\u001b[0m\u001b[0;34m(\u001b[0m\u001b[0mself\u001b[0m\u001b[0;34m.\u001b[0m\u001b[0mpath\u001b[0m\u001b[0;34m,\u001b[0m\u001b[0mself\u001b[0m\u001b[0;34m.\u001b[0m\u001b[0mmembrane\u001b[0m\u001b[0;34m+\u001b[0m\u001b[0mself\u001b[0m\u001b[0;34m.\u001b[0m\u001b[0mlipid\u001b[0m\u001b[0;34m)\u001b[0m\u001b[0;34m+\u001b[0m\u001b[0;34m\".gro\"\u001b[0m\u001b[0;34m,\u001b[0m\u001b[0;34m\"r\"\u001b[0m\u001b[0;34m)\u001b[0m\u001b[0;34m\u001b[0m\u001b[0;34m\u001b[0m\u001b[0m\n\u001b[0m\u001b[1;32m     11\u001b[0m         \u001b[0mself\u001b[0m\u001b[0;34m.\u001b[0m\u001b[0mspecies\u001b[0m\u001b[0;34m=\u001b[0m\u001b[0mdefaultdict\u001b[0m\u001b[0;34m(\u001b[0m\u001b[0mint\u001b[0m\u001b[0;34m)\u001b[0m\u001b[0;34m\u001b[0m\u001b[0;34m\u001b[0m\u001b[0m\n\u001b[1;32m     12\u001b[0m     \u001b[0;32mdef\u001b[0m \u001b[0m__del__\u001b[0m\u001b[0;34m(\u001b[0m\u001b[0mself\u001b[0m\u001b[0;34m)\u001b[0m\u001b[0;34m:\u001b[0m\u001b[0;34m\u001b[0m\u001b[0;34m\u001b[0m\u001b[0m\n",
      "\u001b[0;31mFileNotFoundError\u001b[0m: [Errno 2] No such file or directory: '/home/richard/Desktop/projects/hNET_neuronal/debug/hNET_neuronalPNG1.gro'"
     ]
    }
   ],
   "source": [
    "# class for querying a gro file\n",
    "import os\n",
    "import re\n",
    "from collections import defaultdict\n",
    "class gro:\n",
    "    def __init__(self,path,membrane,lipid):\n",
    "        self.path=path\n",
    "        self.membrane=membrane\n",
    "        self.lipid=lipid\n",
    "        self.file = open(os.path.join(self.path,self.membrane+self.lipid)+\".gro\",\"r\")\n",
    "        self.species=defaultdict(int)\n",
    "    def __del__(self):\n",
    "        self.file.close;\n",
    "    def analyze(self):\n",
    "        #load all rows with 6 split columns\n",
    "        self.file.readline()\n",
    "        self.file.readline()\n",
    "        for line in self.file:\n",
    "            molecule = line[1:9].strip() \n",
    "            start=0\n",
    "            while start < len(molecule) and molecule[start] in \"0123456789.\":\n",
    "                start=start+1\n",
    "            molecule = molecule[start:len(molecule)]\n",
    "            if molecule:\n",
    "                self.species[molecule]+= 1\n",
    "        return self\n",
    "    \n",
    "gro(os.getcwd(),membrane,\"PNG1\").analyze().species"
   ]
  },
  {
   "cell_type": "code",
   "execution_count": 96,
   "metadata": {},
   "outputs": [
    {
     "name": "stdout",
     "output_type": "stream",
     "text": [
      "#include \"martini.ff/martini_v2.2P.itp\"\n",
      "\n",
      "#include \"martini.ff/martini_v2.0_ions.itp\"\n",
      "\n",
      "#include \"martini.ff/martini_v2.0_lipids_all_201506.itp\"\n",
      "\n",
      "\n",
      "\n",
      "[ system ]\n",
      "\n",
      "; name\n",
      "\n",
      "INSANE! Membrane UpperLeaflet>PNG1=1.0 LowerLeaflet>PNG1=1.0\n",
      "\n",
      "\n",
      "\n",
      "[ molecules ]\n",
      "\n",
      "; name  number\n",
      "\n",
      "PNG1          1225\n",
      "\n",
      "PNG1          1225\n",
      "\n",
      "PW           35521\n",
      "\n",
      "NA+            391\n",
      "\n",
      "CL-            391\n",
      "\n"
     ]
    },
    {
     "data": {
      "text/plain": [
       "<__main__.top at 0x7f557befc7d0>"
      ]
     },
     "execution_count": 96,
     "metadata": {},
     "output_type": "execute_result"
    }
   ],
   "source": [
    "import os\n",
    "class top:\n",
    "    def __init__(self,path,membrane,lipid):\n",
    "        self.path=path\n",
    "        self.membrane=membrane\n",
    "        self.lipid=lipid\n",
    "        self.file = open(os.path.join(self.path,self.membrane+self.lipid)+\".top\",\"r\")\n",
    "    def __del__(self):\n",
    "        self.file.close;\n",
    "    def analyze(self):\n",
    "        for line in self.file:\n",
    "            print(line)\n",
    "        return self\n",
    "\n",
    "top(os.getcwd(),membrane,\"PNG1\").analyze()"
   ]
  },
  {
   "cell_type": "code",
   "execution_count": null,
   "metadata": {},
   "outputs": [],
   "source": []
  }
 ],
 "metadata": {
  "kernelspec": {
   "display_name": "Python 3",
   "language": "python",
   "name": "python3"
  },
  "language_info": {
   "codemirror_mode": {
    "name": "ipython",
    "version": 3
   },
   "file_extension": ".py",
   "mimetype": "text/x-python",
   "name": "python",
   "nbconvert_exporter": "python",
   "pygments_lexer": "ipython3",
   "version": "3.6.9"
  }
 },
 "nbformat": 4,
 "nbformat_minor": 2
}
